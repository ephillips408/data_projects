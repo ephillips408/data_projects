{
 "cells": [
  {
   "cell_type": "markdown",
   "id": "442a9179",
   "metadata": {},
   "source": [
    "## Import the Libraries"
   ]
  },
  {
   "cell_type": "code",
   "execution_count": 1,
   "id": "29c0df0b",
   "metadata": {},
   "outputs": [],
   "source": [
    "import numpy as np\n",
    "import pandas as pd\n",
    "\n",
    "from sklearn.model_selection import train_test_split\n",
    "from sklearn.preprocessing import StandardScaler\n",
    "from sklearn.metrics import accuracy_score"
   ]
  },
  {
   "cell_type": "markdown",
   "id": "3602dfcb",
   "metadata": {},
   "source": [
    "## Import the Dataset"
   ]
  },
  {
   "cell_type": "code",
   "execution_count": 2,
   "id": "13496fca",
   "metadata": {},
   "outputs": [],
   "source": [
    "df = pd.read_csv('../../data/water_quality/water_potability.csv')"
   ]
  },
  {
   "cell_type": "code",
   "execution_count": 3,
   "id": "52bbec45",
   "metadata": {},
   "outputs": [
    {
     "data": {
      "text/html": [
       "<div>\n",
       "<style scoped>\n",
       "    .dataframe tbody tr th:only-of-type {\n",
       "        vertical-align: middle;\n",
       "    }\n",
       "\n",
       "    .dataframe tbody tr th {\n",
       "        vertical-align: top;\n",
       "    }\n",
       "\n",
       "    .dataframe thead th {\n",
       "        text-align: right;\n",
       "    }\n",
       "</style>\n",
       "<table border=\"1\" class=\"dataframe\">\n",
       "  <thead>\n",
       "    <tr style=\"text-align: right;\">\n",
       "      <th></th>\n",
       "      <th>ph</th>\n",
       "      <th>Hardness</th>\n",
       "      <th>Solids</th>\n",
       "      <th>Chloramines</th>\n",
       "      <th>Sulfate</th>\n",
       "      <th>Conductivity</th>\n",
       "      <th>Organic_carbon</th>\n",
       "      <th>Trihalomethanes</th>\n",
       "      <th>Turbidity</th>\n",
       "      <th>Potability</th>\n",
       "    </tr>\n",
       "  </thead>\n",
       "  <tbody>\n",
       "    <tr>\n",
       "      <th>0</th>\n",
       "      <td>NaN</td>\n",
       "      <td>204.890455</td>\n",
       "      <td>20791.318981</td>\n",
       "      <td>7.300212</td>\n",
       "      <td>368.516441</td>\n",
       "      <td>564.308654</td>\n",
       "      <td>10.379783</td>\n",
       "      <td>86.990970</td>\n",
       "      <td>2.963135</td>\n",
       "      <td>0</td>\n",
       "    </tr>\n",
       "    <tr>\n",
       "      <th>1</th>\n",
       "      <td>3.716080</td>\n",
       "      <td>129.422921</td>\n",
       "      <td>18630.057858</td>\n",
       "      <td>6.635246</td>\n",
       "      <td>NaN</td>\n",
       "      <td>592.885359</td>\n",
       "      <td>15.180013</td>\n",
       "      <td>56.329076</td>\n",
       "      <td>4.500656</td>\n",
       "      <td>0</td>\n",
       "    </tr>\n",
       "    <tr>\n",
       "      <th>2</th>\n",
       "      <td>8.099124</td>\n",
       "      <td>224.236259</td>\n",
       "      <td>19909.541732</td>\n",
       "      <td>9.275884</td>\n",
       "      <td>NaN</td>\n",
       "      <td>418.606213</td>\n",
       "      <td>16.868637</td>\n",
       "      <td>66.420093</td>\n",
       "      <td>3.055934</td>\n",
       "      <td>0</td>\n",
       "    </tr>\n",
       "    <tr>\n",
       "      <th>3</th>\n",
       "      <td>8.316766</td>\n",
       "      <td>214.373394</td>\n",
       "      <td>22018.417441</td>\n",
       "      <td>8.059332</td>\n",
       "      <td>356.886136</td>\n",
       "      <td>363.266516</td>\n",
       "      <td>18.436524</td>\n",
       "      <td>100.341674</td>\n",
       "      <td>4.628771</td>\n",
       "      <td>0</td>\n",
       "    </tr>\n",
       "    <tr>\n",
       "      <th>4</th>\n",
       "      <td>9.092223</td>\n",
       "      <td>181.101509</td>\n",
       "      <td>17978.986339</td>\n",
       "      <td>6.546600</td>\n",
       "      <td>310.135738</td>\n",
       "      <td>398.410813</td>\n",
       "      <td>11.558279</td>\n",
       "      <td>31.997993</td>\n",
       "      <td>4.075075</td>\n",
       "      <td>0</td>\n",
       "    </tr>\n",
       "  </tbody>\n",
       "</table>\n",
       "</div>"
      ],
      "text/plain": [
       "         ph    Hardness        Solids  Chloramines     Sulfate  Conductivity  \\\n",
       "0       NaN  204.890455  20791.318981     7.300212  368.516441    564.308654   \n",
       "1  3.716080  129.422921  18630.057858     6.635246         NaN    592.885359   \n",
       "2  8.099124  224.236259  19909.541732     9.275884         NaN    418.606213   \n",
       "3  8.316766  214.373394  22018.417441     8.059332  356.886136    363.266516   \n",
       "4  9.092223  181.101509  17978.986339     6.546600  310.135738    398.410813   \n",
       "\n",
       "   Organic_carbon  Trihalomethanes  Turbidity  Potability  \n",
       "0       10.379783        86.990970   2.963135           0  \n",
       "1       15.180013        56.329076   4.500656           0  \n",
       "2       16.868637        66.420093   3.055934           0  \n",
       "3       18.436524       100.341674   4.628771           0  \n",
       "4       11.558279        31.997993   4.075075           0  "
      ]
     },
     "execution_count": 3,
     "metadata": {},
     "output_type": "execute_result"
    }
   ],
   "source": [
    "df.head()"
   ]
  },
  {
   "cell_type": "markdown",
   "id": "339840bf",
   "metadata": {},
   "source": [
    "## Data Cleaning\n",
    "\n",
    "From the data source, \"WHO has recommended maximum permissible limit of pH from 6.5 to 8.5.\" So, if the WHO considers this the potable range, we can drop values outside of this range."
   ]
  },
  {
   "cell_type": "code",
   "execution_count": 4,
   "id": "2828a914",
   "metadata": {},
   "outputs": [],
   "source": [
    "potable_df = df[(df['ph'] >= 6.5) & (df['ph'] <= 8.5)]"
   ]
  },
  {
   "cell_type": "code",
   "execution_count": 5,
   "id": "0bceb7e2",
   "metadata": {},
   "outputs": [
    {
     "data": {
      "text/plain": [
       "ph                   0\n",
       "Hardness             0\n",
       "Solids               0\n",
       "Chloramines          0\n",
       "Sulfate            322\n",
       "Conductivity         0\n",
       "Organic_carbon       0\n",
       "Trihalomethanes     57\n",
       "Turbidity            0\n",
       "Potability           0\n",
       "dtype: int64"
      ]
     },
     "execution_count": 5,
     "metadata": {},
     "output_type": "execute_result"
    }
   ],
   "source": [
    "potable_df.isnull().sum()"
   ]
  },
  {
   "cell_type": "code",
   "execution_count": 6,
   "id": "3e5565c7",
   "metadata": {},
   "outputs": [
    {
     "data": {
      "text/html": [
       "<div>\n",
       "<style scoped>\n",
       "    .dataframe tbody tr th:only-of-type {\n",
       "        vertical-align: middle;\n",
       "    }\n",
       "\n",
       "    .dataframe tbody tr th {\n",
       "        vertical-align: top;\n",
       "    }\n",
       "\n",
       "    .dataframe thead th {\n",
       "        text-align: right;\n",
       "    }\n",
       "</style>\n",
       "<table border=\"1\" class=\"dataframe\">\n",
       "  <thead>\n",
       "    <tr style=\"text-align: right;\">\n",
       "      <th></th>\n",
       "      <th>ph</th>\n",
       "      <th>Hardness</th>\n",
       "      <th>Solids</th>\n",
       "      <th>Chloramines</th>\n",
       "      <th>Sulfate</th>\n",
       "      <th>Conductivity</th>\n",
       "      <th>Organic_carbon</th>\n",
       "      <th>Trihalomethanes</th>\n",
       "      <th>Turbidity</th>\n",
       "      <th>Potability</th>\n",
       "    </tr>\n",
       "  </thead>\n",
       "  <tbody>\n",
       "    <tr>\n",
       "      <th>count</th>\n",
       "      <td>1328.000000</td>\n",
       "      <td>1328.000000</td>\n",
       "      <td>1328.000000</td>\n",
       "      <td>1328.000000</td>\n",
       "      <td>1006.000000</td>\n",
       "      <td>1328.000000</td>\n",
       "      <td>1328.000000</td>\n",
       "      <td>1271.000000</td>\n",
       "      <td>1328.000000</td>\n",
       "      <td>1328.000000</td>\n",
       "    </tr>\n",
       "    <tr>\n",
       "      <th>mean</th>\n",
       "      <td>7.408354</td>\n",
       "      <td>198.166651</td>\n",
       "      <td>21817.531494</td>\n",
       "      <td>7.097904</td>\n",
       "      <td>332.185338</td>\n",
       "      <td>427.285294</td>\n",
       "      <td>14.356944</td>\n",
       "      <td>66.681124</td>\n",
       "      <td>3.958251</td>\n",
       "      <td>0.439006</td>\n",
       "    </tr>\n",
       "    <tr>\n",
       "      <th>std</th>\n",
       "      <td>0.552018</td>\n",
       "      <td>28.396601</td>\n",
       "      <td>8147.877918</td>\n",
       "      <td>1.515340</td>\n",
       "      <td>40.049799</td>\n",
       "      <td>81.199131</td>\n",
       "      <td>3.288237</td>\n",
       "      <td>16.383450</td>\n",
       "      <td>0.774506</td>\n",
       "      <td>0.496453</td>\n",
       "    </tr>\n",
       "    <tr>\n",
       "      <th>min</th>\n",
       "      <td>6.503638</td>\n",
       "      <td>98.452931</td>\n",
       "      <td>320.942611</td>\n",
       "      <td>1.683993</td>\n",
       "      <td>187.170714</td>\n",
       "      <td>181.483754</td>\n",
       "      <td>4.371899</td>\n",
       "      <td>0.738000</td>\n",
       "      <td>1.492207</td>\n",
       "      <td>0.000000</td>\n",
       "    </tr>\n",
       "    <tr>\n",
       "      <th>25%</th>\n",
       "      <td>6.922500</td>\n",
       "      <td>180.783954</td>\n",
       "      <td>15903.918838</td>\n",
       "      <td>6.124763</td>\n",
       "      <td>306.644348</td>\n",
       "      <td>367.467364</td>\n",
       "      <td>12.171123</td>\n",
       "      <td>56.436566</td>\n",
       "      <td>3.429591</td>\n",
       "      <td>0.000000</td>\n",
       "    </tr>\n",
       "    <tr>\n",
       "      <th>50%</th>\n",
       "      <td>7.376743</td>\n",
       "      <td>198.925461</td>\n",
       "      <td>20840.341037</td>\n",
       "      <td>7.110798</td>\n",
       "      <td>333.389426</td>\n",
       "      <td>423.870142</td>\n",
       "      <td>14.373258</td>\n",
       "      <td>66.983589</td>\n",
       "      <td>3.947721</td>\n",
       "      <td>0.000000</td>\n",
       "    </tr>\n",
       "    <tr>\n",
       "      <th>75%</th>\n",
       "      <td>7.866354</td>\n",
       "      <td>215.988821</td>\n",
       "      <td>27026.940788</td>\n",
       "      <td>8.035063</td>\n",
       "      <td>357.313002</td>\n",
       "      <td>482.068467</td>\n",
       "      <td>16.701148</td>\n",
       "      <td>77.999644</td>\n",
       "      <td>4.496852</td>\n",
       "      <td>1.000000</td>\n",
       "    </tr>\n",
       "    <tr>\n",
       "      <th>max</th>\n",
       "      <td>8.490572</td>\n",
       "      <td>306.627481</td>\n",
       "      <td>56320.586979</td>\n",
       "      <td>12.580026</td>\n",
       "      <td>476.539717</td>\n",
       "      <td>666.690618</td>\n",
       "      <td>23.399516</td>\n",
       "      <td>124.000000</td>\n",
       "      <td>6.494749</td>\n",
       "      <td>1.000000</td>\n",
       "    </tr>\n",
       "  </tbody>\n",
       "</table>\n",
       "</div>"
      ],
      "text/plain": [
       "                ph     Hardness        Solids  Chloramines      Sulfate  \\\n",
       "count  1328.000000  1328.000000   1328.000000  1328.000000  1006.000000   \n",
       "mean      7.408354   198.166651  21817.531494     7.097904   332.185338   \n",
       "std       0.552018    28.396601   8147.877918     1.515340    40.049799   \n",
       "min       6.503638    98.452931    320.942611     1.683993   187.170714   \n",
       "25%       6.922500   180.783954  15903.918838     6.124763   306.644348   \n",
       "50%       7.376743   198.925461  20840.341037     7.110798   333.389426   \n",
       "75%       7.866354   215.988821  27026.940788     8.035063   357.313002   \n",
       "max       8.490572   306.627481  56320.586979    12.580026   476.539717   \n",
       "\n",
       "       Conductivity  Organic_carbon  Trihalomethanes    Turbidity   Potability  \n",
       "count   1328.000000     1328.000000      1271.000000  1328.000000  1328.000000  \n",
       "mean     427.285294       14.356944        66.681124     3.958251     0.439006  \n",
       "std       81.199131        3.288237        16.383450     0.774506     0.496453  \n",
       "min      181.483754        4.371899         0.738000     1.492207     0.000000  \n",
       "25%      367.467364       12.171123        56.436566     3.429591     0.000000  \n",
       "50%      423.870142       14.373258        66.983589     3.947721     0.000000  \n",
       "75%      482.068467       16.701148        77.999644     4.496852     1.000000  \n",
       "max      666.690618       23.399516       124.000000     6.494749     1.000000  "
      ]
     },
     "execution_count": 6,
     "metadata": {},
     "output_type": "execute_result"
    }
   ],
   "source": [
    "potable_df.describe()"
   ]
  },
  {
   "cell_type": "markdown",
   "id": "f27f717a",
   "metadata": {},
   "source": [
    "To make the data easier to work with, we will be dropping NA values. If desired, we could fill the NA values with the average value for the column."
   ]
  },
  {
   "cell_type": "code",
   "execution_count": 7,
   "id": "cef5b612",
   "metadata": {},
   "outputs": [
    {
     "data": {
      "text/html": [
       "<div>\n",
       "<style scoped>\n",
       "    .dataframe tbody tr th:only-of-type {\n",
       "        vertical-align: middle;\n",
       "    }\n",
       "\n",
       "    .dataframe tbody tr th {\n",
       "        vertical-align: top;\n",
       "    }\n",
       "\n",
       "    .dataframe thead th {\n",
       "        text-align: right;\n",
       "    }\n",
       "</style>\n",
       "<table border=\"1\" class=\"dataframe\">\n",
       "  <thead>\n",
       "    <tr style=\"text-align: right;\">\n",
       "      <th></th>\n",
       "      <th>ph</th>\n",
       "      <th>Hardness</th>\n",
       "      <th>Solids</th>\n",
       "      <th>Chloramines</th>\n",
       "      <th>Sulfate</th>\n",
       "      <th>Conductivity</th>\n",
       "      <th>Organic_carbon</th>\n",
       "      <th>Trihalomethanes</th>\n",
       "      <th>Turbidity</th>\n",
       "      <th>Potability</th>\n",
       "    </tr>\n",
       "  </thead>\n",
       "  <tbody>\n",
       "    <tr>\n",
       "      <th>count</th>\n",
       "      <td>961.000000</td>\n",
       "      <td>961.000000</td>\n",
       "      <td>961.000000</td>\n",
       "      <td>961.000000</td>\n",
       "      <td>961.000000</td>\n",
       "      <td>961.000000</td>\n",
       "      <td>961.000000</td>\n",
       "      <td>961.000000</td>\n",
       "      <td>961.000000</td>\n",
       "      <td>961.000000</td>\n",
       "    </tr>\n",
       "    <tr>\n",
       "      <th>mean</th>\n",
       "      <td>7.390524</td>\n",
       "      <td>198.555083</td>\n",
       "      <td>21788.952388</td>\n",
       "      <td>7.117027</td>\n",
       "      <td>332.349945</td>\n",
       "      <td>424.813252</td>\n",
       "      <td>14.402646</td>\n",
       "      <td>66.886486</td>\n",
       "      <td>3.966240</td>\n",
       "      <td>0.444329</td>\n",
       "    </tr>\n",
       "    <tr>\n",
       "      <th>std</th>\n",
       "      <td>0.548535</td>\n",
       "      <td>28.233402</td>\n",
       "      <td>8058.331211</td>\n",
       "      <td>1.491998</td>\n",
       "      <td>39.839651</td>\n",
       "      <td>81.237471</td>\n",
       "      <td>3.289782</td>\n",
       "      <td>16.400821</td>\n",
       "      <td>0.766117</td>\n",
       "      <td>0.497150</td>\n",
       "    </tr>\n",
       "    <tr>\n",
       "      <th>min</th>\n",
       "      <td>6.503638</td>\n",
       "      <td>98.452931</td>\n",
       "      <td>320.942611</td>\n",
       "      <td>2.397985</td>\n",
       "      <td>187.170714</td>\n",
       "      <td>201.619737</td>\n",
       "      <td>4.371899</td>\n",
       "      <td>14.343161</td>\n",
       "      <td>1.492207</td>\n",
       "      <td>0.000000</td>\n",
       "    </tr>\n",
       "    <tr>\n",
       "      <th>25%</th>\n",
       "      <td>6.917858</td>\n",
       "      <td>181.434419</td>\n",
       "      <td>15979.060270</td>\n",
       "      <td>6.179496</td>\n",
       "      <td>306.685455</td>\n",
       "      <td>363.803476</td>\n",
       "      <td>12.186310</td>\n",
       "      <td>56.884528</td>\n",
       "      <td>3.443741</td>\n",
       "      <td>0.000000</td>\n",
       "    </tr>\n",
       "    <tr>\n",
       "      <th>50%</th>\n",
       "      <td>7.345138</td>\n",
       "      <td>199.255322</td>\n",
       "      <td>21043.626929</td>\n",
       "      <td>7.117859</td>\n",
       "      <td>333.339282</td>\n",
       "      <td>420.394223</td>\n",
       "      <td>14.391606</td>\n",
       "      <td>66.983589</td>\n",
       "      <td>3.958609</td>\n",
       "      <td>0.000000</td>\n",
       "    </tr>\n",
       "    <tr>\n",
       "      <th>75%</th>\n",
       "      <td>7.833971</td>\n",
       "      <td>216.116319</td>\n",
       "      <td>26999.382076</td>\n",
       "      <td>8.038872</td>\n",
       "      <td>357.265732</td>\n",
       "      <td>479.758924</td>\n",
       "      <td>16.848512</td>\n",
       "      <td>78.076738</td>\n",
       "      <td>4.497731</td>\n",
       "      <td>1.000000</td>\n",
       "    </tr>\n",
       "    <tr>\n",
       "      <th>max</th>\n",
       "      <td>8.490572</td>\n",
       "      <td>306.627481</td>\n",
       "      <td>50793.898917</td>\n",
       "      <td>12.580026</td>\n",
       "      <td>476.539717</td>\n",
       "      <td>666.690618</td>\n",
       "      <td>23.399516</td>\n",
       "      <td>124.000000</td>\n",
       "      <td>6.494749</td>\n",
       "      <td>1.000000</td>\n",
       "    </tr>\n",
       "  </tbody>\n",
       "</table>\n",
       "</div>"
      ],
      "text/plain": [
       "               ph    Hardness        Solids  Chloramines     Sulfate  \\\n",
       "count  961.000000  961.000000    961.000000   961.000000  961.000000   \n",
       "mean     7.390524  198.555083  21788.952388     7.117027  332.349945   \n",
       "std      0.548535   28.233402   8058.331211     1.491998   39.839651   \n",
       "min      6.503638   98.452931    320.942611     2.397985  187.170714   \n",
       "25%      6.917858  181.434419  15979.060270     6.179496  306.685455   \n",
       "50%      7.345138  199.255322  21043.626929     7.117859  333.339282   \n",
       "75%      7.833971  216.116319  26999.382076     8.038872  357.265732   \n",
       "max      8.490572  306.627481  50793.898917    12.580026  476.539717   \n",
       "\n",
       "       Conductivity  Organic_carbon  Trihalomethanes   Turbidity  Potability  \n",
       "count    961.000000      961.000000       961.000000  961.000000  961.000000  \n",
       "mean     424.813252       14.402646        66.886486    3.966240    0.444329  \n",
       "std       81.237471        3.289782        16.400821    0.766117    0.497150  \n",
       "min      201.619737        4.371899        14.343161    1.492207    0.000000  \n",
       "25%      363.803476       12.186310        56.884528    3.443741    0.000000  \n",
       "50%      420.394223       14.391606        66.983589    3.958609    0.000000  \n",
       "75%      479.758924       16.848512        78.076738    4.497731    1.000000  \n",
       "max      666.690618       23.399516       124.000000    6.494749    1.000000  "
      ]
     },
     "execution_count": 7,
     "metadata": {},
     "output_type": "execute_result"
    }
   ],
   "source": [
    "potable_df.dropna().describe()"
   ]
  },
  {
   "cell_type": "code",
   "execution_count": 8,
   "id": "52a7b6c6",
   "metadata": {},
   "outputs": [],
   "source": [
    "potable_df = potable_df.dropna()"
   ]
  },
  {
   "cell_type": "markdown",
   "id": "8c1b17c9",
   "metadata": {},
   "source": [
    "## Creating the Training Set and the Test Set"
   ]
  },
  {
   "cell_type": "code",
   "execution_count": 9,
   "id": "471c7e5b",
   "metadata": {},
   "outputs": [],
   "source": [
    "X = potable_df.iloc[:, :-1].values\n",
    "y = potable_df.iloc[:, -1].values"
   ]
  },
  {
   "cell_type": "code",
   "execution_count": 10,
   "id": "c39bf51a",
   "metadata": {},
   "outputs": [],
   "source": [
    "X_train, X_test, y_train, y_test = train_test_split(X, y, test_size = 0.25, random_state = 0)"
   ]
  },
  {
   "cell_type": "code",
   "execution_count": 11,
   "id": "5000ca65",
   "metadata": {},
   "outputs": [],
   "source": [
    "sc = StandardScaler()\n",
    "X_train = sc.fit_transform(X_train)\n",
    "X_test = sc.transform(X_test)"
   ]
  },
  {
   "cell_type": "markdown",
   "id": "d2d555ce",
   "metadata": {},
   "source": [
    "## Using the Random Forest Classification Model"
   ]
  },
  {
   "cell_type": "code",
   "execution_count": 12,
   "id": "859ccd9a",
   "metadata": {},
   "outputs": [
    {
     "data": {
      "text/plain": [
       "RandomForestClassifier(criterion='entropy', n_estimators=10, random_state=0)"
      ]
     },
     "execution_count": 12,
     "metadata": {},
     "output_type": "execute_result"
    }
   ],
   "source": [
    "from sklearn.ensemble import RandomForestClassifier\n",
    "rf_classifier = RandomForestClassifier(n_estimators = 10, criterion = 'entropy', random_state = 0)\n",
    "rf_classifier.fit(X_train, y_train)"
   ]
  },
  {
   "cell_type": "code",
   "execution_count": 14,
   "id": "42c5800a",
   "metadata": {},
   "outputs": [],
   "source": [
    "rf_y_pred = rf_classifier.predict(X_test)"
   ]
  },
  {
   "cell_type": "code",
   "execution_count": 16,
   "id": "db7ef501",
   "metadata": {},
   "outputs": [
    {
     "data": {
      "text/plain": [
       "0.6265560165975104"
      ]
     },
     "execution_count": 16,
     "metadata": {},
     "output_type": "execute_result"
    }
   ],
   "source": [
    "accuracy_score(y_test, rf_y_pred)"
   ]
  },
  {
   "cell_type": "code",
   "execution_count": null,
   "id": "5ab1ce79",
   "metadata": {},
   "outputs": [],
   "source": []
  }
 ],
 "metadata": {
  "kernelspec": {
   "display_name": "Python 3",
   "language": "python",
   "name": "python3"
  },
  "language_info": {
   "codemirror_mode": {
    "name": "ipython",
    "version": 3
   },
   "file_extension": ".py",
   "mimetype": "text/x-python",
   "name": "python",
   "nbconvert_exporter": "python",
   "pygments_lexer": "ipython3",
   "version": "3.8.10"
  }
 },
 "nbformat": 4,
 "nbformat_minor": 5
}
