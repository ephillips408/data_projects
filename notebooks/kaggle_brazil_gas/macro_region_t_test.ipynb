{
 "cells": [
  {
   "cell_type": "code",
   "execution_count": 1,
   "id": "af6b7861",
   "metadata": {},
   "outputs": [],
   "source": [
    "import numpy as np\n",
    "import pandas as pd\n",
    "\n",
    "import constants as consts"
   ]
  },
  {
   "cell_type": "code",
   "execution_count": 2,
   "id": "a01f735d",
   "metadata": {},
   "outputs": [],
   "source": [
    "df = pd.read_csv('../../data/gas_prices_brazil/brazil_gas_inflation.csv')"
   ]
  },
  {
   "cell_type": "code",
   "execution_count": 3,
   "id": "ddf3a843",
   "metadata": {},
   "outputs": [
    {
     "data": {
      "text/html": [
       "<div>\n",
       "<style scoped>\n",
       "    .dataframe tbody tr th:only-of-type {\n",
       "        vertical-align: middle;\n",
       "    }\n",
       "\n",
       "    .dataframe tbody tr th {\n",
       "        vertical-align: top;\n",
       "    }\n",
       "\n",
       "    .dataframe thead th {\n",
       "        text-align: right;\n",
       "    }\n",
       "</style>\n",
       "<table border=\"1\" class=\"dataframe\">\n",
       "  <thead>\n",
       "    <tr style=\"text-align: right;\">\n",
       "      <th></th>\n",
       "      <th>Unnamed: 0</th>\n",
       "      <th>Last Day of Week</th>\n",
       "      <th>Year</th>\n",
       "      <th>Month</th>\n",
       "      <th>Macro Region</th>\n",
       "      <th>State</th>\n",
       "      <th>Type of Product</th>\n",
       "      <th>Percent of Total Population in 2020</th>\n",
       "      <th>Mean Distribution Price</th>\n",
       "      <th>Weeks Since First Day</th>\n",
       "      <th>Adjusted Mean Distribution Price</th>\n",
       "    </tr>\n",
       "  </thead>\n",
       "  <tbody>\n",
       "    <tr>\n",
       "      <th>0</th>\n",
       "      <td>0</td>\n",
       "      <td>2004-05-15</td>\n",
       "      <td>2004</td>\n",
       "      <td>5</td>\n",
       "      <td>CENTRO OESTE</td>\n",
       "      <td>DISTRITO FEDERAL</td>\n",
       "      <td>ETANOL HIDRATADO</td>\n",
       "      <td>1.4%</td>\n",
       "      <td>0.825</td>\n",
       "      <td>1.0</td>\n",
       "      <td>0.825000</td>\n",
       "    </tr>\n",
       "    <tr>\n",
       "      <th>1</th>\n",
       "      <td>1</td>\n",
       "      <td>2004-05-15</td>\n",
       "      <td>2004</td>\n",
       "      <td>5</td>\n",
       "      <td>CENTRO OESTE</td>\n",
       "      <td>DISTRITO FEDERAL</td>\n",
       "      <td>GASOLINA COMUM</td>\n",
       "      <td>1.4%</td>\n",
       "      <td>1.711</td>\n",
       "      <td>1.0</td>\n",
       "      <td>1.711000</td>\n",
       "    </tr>\n",
       "    <tr>\n",
       "      <th>2</th>\n",
       "      <td>2</td>\n",
       "      <td>2004-05-15</td>\n",
       "      <td>2004</td>\n",
       "      <td>5</td>\n",
       "      <td>CENTRO OESTE</td>\n",
       "      <td>DISTRITO FEDERAL</td>\n",
       "      <td>GLP</td>\n",
       "      <td>1.4%</td>\n",
       "      <td>27.165</td>\n",
       "      <td>1.0</td>\n",
       "      <td>27.165001</td>\n",
       "    </tr>\n",
       "    <tr>\n",
       "      <th>3</th>\n",
       "      <td>3</td>\n",
       "      <td>2004-05-15</td>\n",
       "      <td>2004</td>\n",
       "      <td>5</td>\n",
       "      <td>CENTRO OESTE</td>\n",
       "      <td>DISTRITO FEDERAL</td>\n",
       "      <td>ÓLEO DIESEL</td>\n",
       "      <td>1.4%</td>\n",
       "      <td>1.249</td>\n",
       "      <td>1.0</td>\n",
       "      <td>1.249000</td>\n",
       "    </tr>\n",
       "    <tr>\n",
       "      <th>4</th>\n",
       "      <td>4</td>\n",
       "      <td>2004-05-15</td>\n",
       "      <td>2004</td>\n",
       "      <td>5</td>\n",
       "      <td>CENTRO OESTE</td>\n",
       "      <td>GOIAS</td>\n",
       "      <td>ETANOL HIDRATADO</td>\n",
       "      <td>3.4%</td>\n",
       "      <td>0.763</td>\n",
       "      <td>1.0</td>\n",
       "      <td>0.763000</td>\n",
       "    </tr>\n",
       "  </tbody>\n",
       "</table>\n",
       "</div>"
      ],
      "text/plain": [
       "   Unnamed: 0 Last Day of Week  Year  Month  Macro Region             State  \\\n",
       "0           0       2004-05-15  2004      5  CENTRO OESTE  DISTRITO FEDERAL   \n",
       "1           1       2004-05-15  2004      5  CENTRO OESTE  DISTRITO FEDERAL   \n",
       "2           2       2004-05-15  2004      5  CENTRO OESTE  DISTRITO FEDERAL   \n",
       "3           3       2004-05-15  2004      5  CENTRO OESTE  DISTRITO FEDERAL   \n",
       "4           4       2004-05-15  2004      5  CENTRO OESTE             GOIAS   \n",
       "\n",
       "    Type of Product Percent of Total Population in 2020  \\\n",
       "0  ETANOL HIDRATADO                                1.4%   \n",
       "1    GASOLINA COMUM                                1.4%   \n",
       "2               GLP                                1.4%   \n",
       "3       ÓLEO DIESEL                                1.4%   \n",
       "4  ETANOL HIDRATADO                                3.4%   \n",
       "\n",
       "   Mean Distribution Price  Weeks Since First Day  \\\n",
       "0                    0.825                    1.0   \n",
       "1                    1.711                    1.0   \n",
       "2                   27.165                    1.0   \n",
       "3                    1.249                    1.0   \n",
       "4                    0.763                    1.0   \n",
       "\n",
       "   Adjusted Mean Distribution Price  \n",
       "0                          0.825000  \n",
       "1                          1.711000  \n",
       "2                         27.165001  \n",
       "3                          1.249000  \n",
       "4                          0.763000  "
      ]
     },
     "execution_count": 3,
     "metadata": {},
     "output_type": "execute_result"
    }
   ],
   "source": [
    "df.head()"
   ]
  },
  {
   "cell_type": "code",
   "execution_count": 4,
   "id": "98f806b7",
   "metadata": {},
   "outputs": [],
   "source": [
    "df.drop('Unnamed: 0', axis = 1, inplace = True)"
   ]
  },
  {
   "cell_type": "code",
   "execution_count": 5,
   "id": "64b2329c",
   "metadata": {},
   "outputs": [
    {
     "name": "stdout",
     "output_type": "stream",
     "text": [
      "Last Day of Week                             2004-05-15\n",
      "Year                                               2004\n",
      "Month                                                 5\n",
      "Macro Region                               CENTRO OESTE\n",
      "State                                  DISTRITO FEDERAL\n",
      "Type of Product                        ETANOL HIDRATADO\n",
      "Percent of Total Population in 2020                1.4%\n",
      "Mean Distribution Price                           0.825\n",
      "Weeks Since First Day                               1.0\n",
      "Adjusted Mean Distribution Price                  0.825\n",
      "Name: 0, dtype: object\n",
      "\n",
      "\n",
      "Last Day of Week                               2019-06-29\n",
      "Year                                                 2019\n",
      "Month                                                   6\n",
      "Macro Region                                 CENTRO OESTE\n",
      "State                                  MATO GROSSO DO SUL\n",
      "Type of Product                           ÓLEO DIESEL S10\n",
      "Percent of Total Population in 2020                  1.3%\n",
      "Mean Distribution Price                              3.17\n",
      "Weeks Since First Day                               790.0\n",
      "Adjusted Mean Distribution Price                 1.408889\n",
      "Name: 106694, dtype: object\n"
     ]
    }
   ],
   "source": [
    "print (df[df['Macro Region'] == 'CENTRO OESTE'].iloc[0])\n",
    "print ('\\n')\n",
    "print (df[df['Macro Region'] == 'CENTRO OESTE'].iloc[-1])"
   ]
  },
  {
   "cell_type": "code",
   "execution_count": 6,
   "id": "2e85a5fc",
   "metadata": {},
   "outputs": [
    {
     "data": {
      "text/plain": [
       "['DISTRITO FEDERAL', 'GOIAS', 'MATO GROSSO', 'MATO GROSSO DO SUL']"
      ]
     },
     "execution_count": 6,
     "metadata": {},
     "output_type": "execute_result"
    }
   ],
   "source": [
    "list(df[(df['Macro Region']) == 'CENTRO OESTE']['State'].unique())"
   ]
  },
  {
   "cell_type": "code",
   "execution_count": 7,
   "id": "c487996c",
   "metadata": {},
   "outputs": [
    {
     "data": {
      "text/plain": [
       "['CENTRO OESTE', 'NORDESTE', 'NORTE', 'SUDESTE', 'SUL']"
      ]
     },
     "execution_count": 7,
     "metadata": {},
     "output_type": "execute_result"
    }
   ],
   "source": [
    "list(df['Macro Region'].unique())"
   ]
  },
  {
   "cell_type": "code",
   "execution_count": null,
   "id": "265690b7",
   "metadata": {},
   "outputs": [],
   "source": []
  },
  {
   "cell_type": "code",
   "execution_count": null,
   "id": "eb282344",
   "metadata": {},
   "outputs": [],
   "source": []
  }
 ],
 "metadata": {
  "kernelspec": {
   "display_name": "Python 3",
   "language": "python",
   "name": "python3"
  },
  "language_info": {
   "codemirror_mode": {
    "name": "ipython",
    "version": 3
   },
   "file_extension": ".py",
   "mimetype": "text/x-python",
   "name": "python",
   "nbconvert_exporter": "python",
   "pygments_lexer": "ipython3",
   "version": "3.8.10"
  }
 },
 "nbformat": 4,
 "nbformat_minor": 5
}
