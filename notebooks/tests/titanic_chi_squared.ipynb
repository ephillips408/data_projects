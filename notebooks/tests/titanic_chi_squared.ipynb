{
 "cells": [
  {
   "cell_type": "code",
   "execution_count": 1,
   "id": "cc28942a",
   "metadata": {},
   "outputs": [],
   "source": [
    "import numpy as np\n",
    "import pandas as pd\n",
    "import matplotlib.pyplot as plt\n",
    "\n",
    "plt.style.use('ggplot')\n",
    "\n",
    "import scipy.stats as stats"
   ]
  },
  {
   "cell_type": "code",
   "execution_count": 2,
   "id": "cb6329c1",
   "metadata": {},
   "outputs": [],
   "source": [
    "df = pd.read_csv('../../data/tests/Titanic_R.csv')"
   ]
  },
  {
   "cell_type": "code",
   "execution_count": 3,
   "id": "fa59d374",
   "metadata": {},
   "outputs": [
    {
     "data": {
      "text/html": [
       "<div>\n",
       "<style scoped>\n",
       "    .dataframe tbody tr th:only-of-type {\n",
       "        vertical-align: middle;\n",
       "    }\n",
       "\n",
       "    .dataframe tbody tr th {\n",
       "        vertical-align: top;\n",
       "    }\n",
       "\n",
       "    .dataframe thead th {\n",
       "        text-align: right;\n",
       "    }\n",
       "</style>\n",
       "<table border=\"1\" class=\"dataframe\">\n",
       "  <thead>\n",
       "    <tr style=\"text-align: right;\">\n",
       "      <th></th>\n",
       "      <th>pclass</th>\n",
       "      <th>survived</th>\n",
       "      <th>Residence</th>\n",
       "      <th>name</th>\n",
       "      <th>age</th>\n",
       "      <th>sibsp</th>\n",
       "      <th>parch</th>\n",
       "      <th>ticket</th>\n",
       "      <th>fare</th>\n",
       "      <th>cabin</th>\n",
       "      <th>embarked</th>\n",
       "      <th>boat</th>\n",
       "      <th>body</th>\n",
       "      <th>home.dest</th>\n",
       "      <th>Gender</th>\n",
       "    </tr>\n",
       "  </thead>\n",
       "  <tbody>\n",
       "    <tr>\n",
       "      <th>0</th>\n",
       "      <td>3</td>\n",
       "      <td>0</td>\n",
       "      <td>0</td>\n",
       "      <td>Abbing, Mr. Anthony</td>\n",
       "      <td>42</td>\n",
       "      <td>0</td>\n",
       "      <td>0</td>\n",
       "      <td>C.A. 5547</td>\n",
       "      <td>7.55</td>\n",
       "      <td></td>\n",
       "      <td>S</td>\n",
       "      <td></td>\n",
       "      <td></td>\n",
       "      <td></td>\n",
       "      <td>0</td>\n",
       "    </tr>\n",
       "    <tr>\n",
       "      <th>1</th>\n",
       "      <td>3</td>\n",
       "      <td>0</td>\n",
       "      <td>0</td>\n",
       "      <td>Abbott, Master. Eugene Joseph</td>\n",
       "      <td>13</td>\n",
       "      <td>0</td>\n",
       "      <td>2</td>\n",
       "      <td>C.A. 2673</td>\n",
       "      <td>20.25</td>\n",
       "      <td></td>\n",
       "      <td>S</td>\n",
       "      <td></td>\n",
       "      <td></td>\n",
       "      <td>East Providence, RI</td>\n",
       "      <td>0</td>\n",
       "    </tr>\n",
       "    <tr>\n",
       "      <th>2</th>\n",
       "      <td>3</td>\n",
       "      <td>0</td>\n",
       "      <td>0</td>\n",
       "      <td>Abbott, Mr. Rossmore Edward</td>\n",
       "      <td>16</td>\n",
       "      <td>1</td>\n",
       "      <td>1</td>\n",
       "      <td>C.A. 2673</td>\n",
       "      <td>20.25</td>\n",
       "      <td></td>\n",
       "      <td>S</td>\n",
       "      <td></td>\n",
       "      <td>190</td>\n",
       "      <td>East Providence, RI</td>\n",
       "      <td>0</td>\n",
       "    </tr>\n",
       "    <tr>\n",
       "      <th>3</th>\n",
       "      <td>3</td>\n",
       "      <td>1</td>\n",
       "      <td>0</td>\n",
       "      <td>Abbott, Mrs. Stanton (Rosa Hunt)</td>\n",
       "      <td>35</td>\n",
       "      <td>1</td>\n",
       "      <td>1</td>\n",
       "      <td>C.A. 2673</td>\n",
       "      <td>20.25</td>\n",
       "      <td></td>\n",
       "      <td>S</td>\n",
       "      <td>A</td>\n",
       "      <td></td>\n",
       "      <td>East Providence, RI</td>\n",
       "      <td>1</td>\n",
       "    </tr>\n",
       "    <tr>\n",
       "      <th>4</th>\n",
       "      <td>3</td>\n",
       "      <td>1</td>\n",
       "      <td>2</td>\n",
       "      <td>Abelseth, Miss. Karen Marie</td>\n",
       "      <td>16</td>\n",
       "      <td>0</td>\n",
       "      <td>0</td>\n",
       "      <td>348125</td>\n",
       "      <td>7.65</td>\n",
       "      <td></td>\n",
       "      <td>S</td>\n",
       "      <td>16</td>\n",
       "      <td></td>\n",
       "      <td>Norway Los Angeles, CA</td>\n",
       "      <td>1</td>\n",
       "    </tr>\n",
       "  </tbody>\n",
       "</table>\n",
       "</div>"
      ],
      "text/plain": [
       "   pclass  survived  Residence                              name age  sibsp  \\\n",
       "0       3         0          0               Abbing, Mr. Anthony  42      0   \n",
       "1       3         0          0     Abbott, Master. Eugene Joseph  13      0   \n",
       "2       3         0          0       Abbott, Mr. Rossmore Edward  16      1   \n",
       "3       3         1          0  Abbott, Mrs. Stanton (Rosa Hunt)  35      1   \n",
       "4       3         1          2       Abelseth, Miss. Karen Marie  16      0   \n",
       "\n",
       "   parch     ticket   fare cabin embarked boat body               home.dest  \\\n",
       "0      0  C.A. 5547   7.55              S                                     \n",
       "1      2  C.A. 2673  20.25              S               East Providence, RI   \n",
       "2      1  C.A. 2673  20.25              S       190     East Providence, RI   \n",
       "3      1  C.A. 2673  20.25              S    A          East Providence, RI   \n",
       "4      0     348125   7.65              S   16       Norway Los Angeles, CA   \n",
       "\n",
       "   Gender  \n",
       "0       0  \n",
       "1       0  \n",
       "2       0  \n",
       "3       1  \n",
       "4       1  "
      ]
     },
     "execution_count": 3,
     "metadata": {},
     "output_type": "execute_result"
    }
   ],
   "source": [
    "df.head()"
   ]
  },
  {
   "cell_type": "markdown",
   "id": "7a50f2b4",
   "metadata": {},
   "source": [
    "## Cleaning the Data"
   ]
  },
  {
   "cell_type": "markdown",
   "id": "408e2fce",
   "metadata": {},
   "source": [
    "The categorical variables can be described as follows.\n",
    "- Survived: 0 = died, 1 = survived.\n",
    "- Gender: 0 = male, 1 = female.\n",
    "- Residence: 0 = America, 1 = British, 2 = Other\n",
    "\n",
    "We will change the data accordingly."
   ]
  },
  {
   "cell_type": "code",
   "execution_count": 4,
   "id": "d1f49fdb",
   "metadata": {},
   "outputs": [],
   "source": [
    "df['survived'] = df['survived'].replace({0: 'died', 1: 'survived'})\n",
    "df['Gender'] = df['Gender'].replace({0: 'male', 1: 'female'})\n",
    "df['Residence'] = df['Residence'].replace({0: 'America', 1: 'British', 2: 'Other'})"
   ]
  },
  {
   "cell_type": "code",
   "execution_count": 5,
   "id": "c0ca1e7a",
   "metadata": {},
   "outputs": [
    {
     "data": {
      "text/html": [
       "<div>\n",
       "<style scoped>\n",
       "    .dataframe tbody tr th:only-of-type {\n",
       "        vertical-align: middle;\n",
       "    }\n",
       "\n",
       "    .dataframe tbody tr th {\n",
       "        vertical-align: top;\n",
       "    }\n",
       "\n",
       "    .dataframe thead th {\n",
       "        text-align: right;\n",
       "    }\n",
       "</style>\n",
       "<table border=\"1\" class=\"dataframe\">\n",
       "  <thead>\n",
       "    <tr style=\"text-align: right;\">\n",
       "      <th></th>\n",
       "      <th>pclass</th>\n",
       "      <th>survived</th>\n",
       "      <th>Residence</th>\n",
       "      <th>name</th>\n",
       "      <th>age</th>\n",
       "      <th>sibsp</th>\n",
       "      <th>parch</th>\n",
       "      <th>ticket</th>\n",
       "      <th>fare</th>\n",
       "      <th>cabin</th>\n",
       "      <th>embarked</th>\n",
       "      <th>boat</th>\n",
       "      <th>body</th>\n",
       "      <th>home.dest</th>\n",
       "      <th>Gender</th>\n",
       "    </tr>\n",
       "  </thead>\n",
       "  <tbody>\n",
       "    <tr>\n",
       "      <th>0</th>\n",
       "      <td>3</td>\n",
       "      <td>died</td>\n",
       "      <td>America</td>\n",
       "      <td>Abbing, Mr. Anthony</td>\n",
       "      <td>42</td>\n",
       "      <td>0</td>\n",
       "      <td>0</td>\n",
       "      <td>C.A. 5547</td>\n",
       "      <td>7.55</td>\n",
       "      <td></td>\n",
       "      <td>S</td>\n",
       "      <td></td>\n",
       "      <td></td>\n",
       "      <td></td>\n",
       "      <td>male</td>\n",
       "    </tr>\n",
       "    <tr>\n",
       "      <th>1</th>\n",
       "      <td>3</td>\n",
       "      <td>died</td>\n",
       "      <td>America</td>\n",
       "      <td>Abbott, Master. Eugene Joseph</td>\n",
       "      <td>13</td>\n",
       "      <td>0</td>\n",
       "      <td>2</td>\n",
       "      <td>C.A. 2673</td>\n",
       "      <td>20.25</td>\n",
       "      <td></td>\n",
       "      <td>S</td>\n",
       "      <td></td>\n",
       "      <td></td>\n",
       "      <td>East Providence, RI</td>\n",
       "      <td>male</td>\n",
       "    </tr>\n",
       "    <tr>\n",
       "      <th>2</th>\n",
       "      <td>3</td>\n",
       "      <td>died</td>\n",
       "      <td>America</td>\n",
       "      <td>Abbott, Mr. Rossmore Edward</td>\n",
       "      <td>16</td>\n",
       "      <td>1</td>\n",
       "      <td>1</td>\n",
       "      <td>C.A. 2673</td>\n",
       "      <td>20.25</td>\n",
       "      <td></td>\n",
       "      <td>S</td>\n",
       "      <td></td>\n",
       "      <td>190</td>\n",
       "      <td>East Providence, RI</td>\n",
       "      <td>male</td>\n",
       "    </tr>\n",
       "    <tr>\n",
       "      <th>3</th>\n",
       "      <td>3</td>\n",
       "      <td>survived</td>\n",
       "      <td>America</td>\n",
       "      <td>Abbott, Mrs. Stanton (Rosa Hunt)</td>\n",
       "      <td>35</td>\n",
       "      <td>1</td>\n",
       "      <td>1</td>\n",
       "      <td>C.A. 2673</td>\n",
       "      <td>20.25</td>\n",
       "      <td></td>\n",
       "      <td>S</td>\n",
       "      <td>A</td>\n",
       "      <td></td>\n",
       "      <td>East Providence, RI</td>\n",
       "      <td>female</td>\n",
       "    </tr>\n",
       "    <tr>\n",
       "      <th>4</th>\n",
       "      <td>3</td>\n",
       "      <td>survived</td>\n",
       "      <td>Other</td>\n",
       "      <td>Abelseth, Miss. Karen Marie</td>\n",
       "      <td>16</td>\n",
       "      <td>0</td>\n",
       "      <td>0</td>\n",
       "      <td>348125</td>\n",
       "      <td>7.65</td>\n",
       "      <td></td>\n",
       "      <td>S</td>\n",
       "      <td>16</td>\n",
       "      <td></td>\n",
       "      <td>Norway Los Angeles, CA</td>\n",
       "      <td>female</td>\n",
       "    </tr>\n",
       "  </tbody>\n",
       "</table>\n",
       "</div>"
      ],
      "text/plain": [
       "   pclass  survived Residence                              name age  sibsp  \\\n",
       "0       3      died   America               Abbing, Mr. Anthony  42      0   \n",
       "1       3      died   America     Abbott, Master. Eugene Joseph  13      0   \n",
       "2       3      died   America       Abbott, Mr. Rossmore Edward  16      1   \n",
       "3       3  survived   America  Abbott, Mrs. Stanton (Rosa Hunt)  35      1   \n",
       "4       3  survived     Other       Abelseth, Miss. Karen Marie  16      0   \n",
       "\n",
       "   parch     ticket   fare cabin embarked boat body               home.dest  \\\n",
       "0      0  C.A. 5547   7.55              S                                     \n",
       "1      2  C.A. 2673  20.25              S               East Providence, RI   \n",
       "2      1  C.A. 2673  20.25              S       190     East Providence, RI   \n",
       "3      1  C.A. 2673  20.25              S    A          East Providence, RI   \n",
       "4      0     348125   7.65              S   16       Norway Los Angeles, CA   \n",
       "\n",
       "   Gender  \n",
       "0    male  \n",
       "1    male  \n",
       "2    male  \n",
       "3  female  \n",
       "4  female  "
      ]
     },
     "execution_count": 5,
     "metadata": {},
     "output_type": "execute_result"
    }
   ],
   "source": [
    "df.head()"
   ]
  },
  {
   "cell_type": "code",
   "execution_count": 6,
   "id": "ccc6ead1",
   "metadata": {},
   "outputs": [
    {
     "data": {
      "text/html": [
       "<div>\n",
       "<style scoped>\n",
       "    .dataframe tbody tr th:only-of-type {\n",
       "        vertical-align: middle;\n",
       "    }\n",
       "\n",
       "    .dataframe tbody tr th {\n",
       "        vertical-align: top;\n",
       "    }\n",
       "\n",
       "    .dataframe thead th {\n",
       "        text-align: right;\n",
       "    }\n",
       "</style>\n",
       "<table border=\"1\" class=\"dataframe\">\n",
       "  <thead>\n",
       "    <tr style=\"text-align: right;\">\n",
       "      <th>Residence</th>\n",
       "      <th>America</th>\n",
       "      <th>British</th>\n",
       "      <th>Other</th>\n",
       "      <th>Sum</th>\n",
       "    </tr>\n",
       "    <tr>\n",
       "      <th>survived</th>\n",
       "      <th></th>\n",
       "      <th></th>\n",
       "      <th></th>\n",
       "      <th></th>\n",
       "    </tr>\n",
       "  </thead>\n",
       "  <tbody>\n",
       "    <tr>\n",
       "      <th>died</th>\n",
       "      <td>113</td>\n",
       "      <td>206</td>\n",
       "      <td>490</td>\n",
       "      <td>809</td>\n",
       "    </tr>\n",
       "    <tr>\n",
       "      <th>survived</th>\n",
       "      <td>145</td>\n",
       "      <td>96</td>\n",
       "      <td>259</td>\n",
       "      <td>500</td>\n",
       "    </tr>\n",
       "  </tbody>\n",
       "</table>\n",
       "</div>"
      ],
      "text/plain": [
       "Residence  America  British  Other  Sum\n",
       "survived                               \n",
       "died           113      206    490  809\n",
       "survived       145       96    259  500"
      ]
     },
     "execution_count": 6,
     "metadata": {},
     "output_type": "execute_result"
    }
   ],
   "source": [
    "# Note that in the line below, the choice of 'pclass' as the column is irrelevant, as all columns display the same number.\n",
    "\n",
    "survival_df = df.groupby(['survived', 'Residence']).count().reset_index()\n",
    "\n",
    "survival_df = survival_df.pivot(index = 'survived',\n",
    "                                columns = 'Residence')['pclass']\n",
    "\n",
    "survival_df['Sum'] = survival_df.sum(axis = 1)\n",
    "survival_df"
   ]
  },
  {
   "cell_type": "code",
   "execution_count": 7,
   "id": "acd563ca",
   "metadata": {},
   "outputs": [
    {
     "data": {
      "text/html": [
       "<div>\n",
       "<style scoped>\n",
       "    .dataframe tbody tr th:only-of-type {\n",
       "        vertical-align: middle;\n",
       "    }\n",
       "\n",
       "    .dataframe tbody tr th {\n",
       "        vertical-align: top;\n",
       "    }\n",
       "\n",
       "    .dataframe thead th {\n",
       "        text-align: right;\n",
       "    }\n",
       "</style>\n",
       "<table border=\"1\" class=\"dataframe\">\n",
       "  <thead>\n",
       "    <tr style=\"text-align: right;\">\n",
       "      <th>Residence</th>\n",
       "      <th>America</th>\n",
       "      <th>British</th>\n",
       "      <th>Other</th>\n",
       "      <th>Sum</th>\n",
       "    </tr>\n",
       "  </thead>\n",
       "  <tbody>\n",
       "    <tr>\n",
       "      <th>Died</th>\n",
       "      <td>113</td>\n",
       "      <td>206</td>\n",
       "      <td>490</td>\n",
       "      <td>809</td>\n",
       "    </tr>\n",
       "    <tr>\n",
       "      <th>Survived</th>\n",
       "      <td>145</td>\n",
       "      <td>96</td>\n",
       "      <td>259</td>\n",
       "      <td>500</td>\n",
       "    </tr>\n",
       "    <tr>\n",
       "      <th>Sum</th>\n",
       "      <td>258</td>\n",
       "      <td>302</td>\n",
       "      <td>749</td>\n",
       "      <td>1309</td>\n",
       "    </tr>\n",
       "  </tbody>\n",
       "</table>\n",
       "</div>"
      ],
      "text/plain": [
       "Residence  America  British  Other   Sum\n",
       "Died           113      206    490   809\n",
       "Survived       145       96    259   500\n",
       "Sum            258      302    749  1309"
      ]
     },
     "execution_count": 7,
     "metadata": {},
     "output_type": "execute_result"
    }
   ],
   "source": [
    "# For future reference, pd.crosstab may be a better way to acheive this result.\n",
    "\n",
    "sums = survival_df.sum()\n",
    "survival_df = survival_df.append(sums, ignore_index = True)\n",
    "survival_df = survival_df.rename(index = {0: 'Died', 1: 'Survived', 2: 'Sum'})\n",
    "survival_df"
   ]
  },
  {
   "cell_type": "markdown",
   "id": "37aa61fc",
   "metadata": {},
   "source": [
    "## Visualizing the Data"
   ]
  },
  {
   "cell_type": "code",
   "execution_count": 8,
   "id": "673a2da4",
   "metadata": {},
   "outputs": [
    {
     "data": {
      "text/plain": [
       "<AxesSubplot:xlabel='Residence'>"
      ]
     },
     "execution_count": 8,
     "metadata": {},
     "output_type": "execute_result"
    },
    {
     "data": {
      "image/png": "[encoded data removed]",
      "text/plain": [
       "<Figure size 432x288 with 1 Axes>"
      ]
     },
     "metadata": {},
     "output_type": "display_data"
    }
   ],
   "source": [
    "survival_df[['America', 'British', 'Other']].loc[['Died', 'Survived']].transpose().plot.bar()"
   ]
  },
  {
   "cell_type": "code",
   "execution_count": 9,
   "id": "804a93e9",
   "metadata": {},
   "outputs": [
    {
     "data": {
      "text/html": [
       "<div>\n",
       "<style scoped>\n",
       "    .dataframe tbody tr th:only-of-type {\n",
       "        vertical-align: middle;\n",
       "    }\n",
       "\n",
       "    .dataframe tbody tr th {\n",
       "        vertical-align: top;\n",
       "    }\n",
       "\n",
       "    .dataframe thead th {\n",
       "        text-align: right;\n",
       "    }\n",
       "</style>\n",
       "<table border=\"1\" class=\"dataframe\">\n",
       "  <thead>\n",
       "    <tr style=\"text-align: right;\">\n",
       "      <th>Residence</th>\n",
       "      <th>America</th>\n",
       "      <th>British</th>\n",
       "      <th>Other</th>\n",
       "    </tr>\n",
       "  </thead>\n",
       "  <tbody>\n",
       "    <tr>\n",
       "      <th>Died</th>\n",
       "      <td>0.437984</td>\n",
       "      <td>0.682119</td>\n",
       "      <td>0.654206</td>\n",
       "    </tr>\n",
       "    <tr>\n",
       "      <th>Survived</th>\n",
       "      <td>0.562016</td>\n",
       "      <td>0.317881</td>\n",
       "      <td>0.345794</td>\n",
       "    </tr>\n",
       "  </tbody>\n",
       "</table>\n",
       "</div>"
      ],
      "text/plain": [
       "Residence   America   British     Other\n",
       "Died       0.437984  0.682119  0.654206\n",
       "Survived   0.562016  0.317881  0.345794"
      ]
     },
     "execution_count": 9,
     "metadata": {},
     "output_type": "execute_result"
    }
   ],
   "source": [
    "# In the line below, survival_df.loc['Sum'] refers to the Sum row, and we are dropping the 'Sum' column\n",
    "# in the drop statement.\n",
    "\n",
    "# Gives a percentage of died and survived by residence.\n",
    "surv_percent = survival_df.loc[['Died', 'Survived']].div(survival_df.loc['Sum']).drop('Sum', axis = 1)\n",
    "surv_percent"
   ]
  },
  {
   "cell_type": "code",
   "execution_count": 10,
   "id": "ce69f34d",
   "metadata": {},
   "outputs": [
    {
     "data": {
      "text/plain": [
       "<AxesSubplot:xlabel='Residence'>"
      ]
     },
     "execution_count": 10,
     "metadata": {},
     "output_type": "execute_result"
    },
    {
     "data": {
      "image/png": "[encoded data removed]",
      "text/plain": [
       "<Figure size 432x288 with 1 Axes>"
      ]
     },
     "metadata": {},
     "output_type": "display_data"
    }
   ],
   "source": [
    "surv_percent.transpose().plot.bar()"
   ]
  },
  {
   "cell_type": "markdown",
   "id": "c82530a9",
   "metadata": {},
   "source": [
    "## Running the Chi Square Test\n",
    "\n",
    "The null hypothesis is that nationality is not associated with survival, and the alternative hypothesis is that nationality is associated with survival.\n",
    "\n",
    "From Wikipedia\n",
    "\n",
    "\"Pearson's chi-squared test is a statistical test applied to sets of categorical data to evaluate how likely it is that any observed difference between the sets arose by chance. \n",
    "\n",
    "It tests a null hypothesis stating that the frequency distribution of certain events observed in a sample is consistent with a particular theoretical distribution. The events considered must be mutually exclusive and have total probability 1. A common case for this is where the events each cover an outcome of a categorical variable. A simple example is the hypothesis that an ordinary six-sided die is \"fair\" (i. e., all six outcomes are equally likely to occur.)\""
   ]
  },
  {
   "cell_type": "markdown",
   "id": "30128ad4",
   "metadata": {},
   "source": [
    "Because 500 / 1309 = .381 = 38% of passengers did not survive, if there is no association between nationality and survival, then approximately 38% of passengers for each nationality would have survived."
   ]
  },
  {
   "cell_type": "code",
   "execution_count": 11,
   "id": "368ee610",
   "metadata": {},
   "outputs": [
    {
     "data": {
      "text/plain": [
       "[[113, 206, 490], [145, 96, 259]]"
      ]
     },
     "execution_count": 11,
     "metadata": {},
     "output_type": "execute_result"
    }
   ],
   "source": [
    "survival_array = survival_df.loc[['Died','Survived']].drop('Sum', axis = 1).to_numpy()\n",
    "data = survival_array.tolist()\n",
    "data"
   ]
  },
  {
   "cell_type": "code",
   "execution_count": 12,
   "id": "64f45c89",
   "metadata": {},
   "outputs": [],
   "source": [
    "stat, p, dof, expected = stats.chi2_contingency(data)"
   ]
  },
  {
   "cell_type": "code",
   "execution_count": 13,
   "id": "873a07f7",
   "metadata": {},
   "outputs": [
    {
     "name": "stdout",
     "output_type": "stream",
     "text": [
      "X-Squared: 44.83460459720294 \n",
      "p-value: 1.837762191796933e-10\n"
     ]
    }
   ],
   "source": [
    "print (f\"X-Squared: {stat} \\np-value: {p}\")"
   ]
  },
  {
   "cell_type": "markdown",
   "id": "206a4b03",
   "metadata": {},
   "source": [
    "Because the p values is less than .05, we can reject the null hypothesis, and conclude that nationality is associated with survival."
   ]
  }
 ],
 "metadata": {
  "kernelspec": {
   "display_name": "Python 3",
   "language": "python",
   "name": "python3"
  },
  "language_info": {
   "codemirror_mode": {
    "name": "ipython",
    "version": 3
   },
   "file_extension": ".py",
   "mimetype": "text/x-python",
   "name": "python",
   "nbconvert_exporter": "python",
   "pygments_lexer": "ipython3",
   "version": "3.8.10"
  }
 },
 "nbformat": 4,
 "nbformat_minor": 5
}
