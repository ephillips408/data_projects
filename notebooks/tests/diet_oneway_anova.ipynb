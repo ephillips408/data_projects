{
 "cells": [
  {
   "cell_type": "code",
   "execution_count": 1,
   "id": "c8069296",
   "metadata": {},
   "outputs": [],
   "source": [
    "import numpy as np\n",
    "import pandas as pd\n",
    "import matplotlib.pyplot as plt\n",
    "\n",
    "from scipy import stats as stats\n",
    "from statsmodels.stats.multicomp import pairwise_tukeyhsd\n",
    "\n",
    "plt.style.use('ggplot')"
   ]
  },
  {
   "cell_type": "code",
   "execution_count": 2,
   "id": "1aac4746",
   "metadata": {},
   "outputs": [],
   "source": [
    "df = pd.read_csv('../../data/tests/Diet_R.csv')"
   ]
  },
  {
   "cell_type": "code",
   "execution_count": 3,
   "id": "441cdde8",
   "metadata": {},
   "outputs": [
    {
     "name": "stdout",
     "output_type": "stream",
     "text": [
      "<class 'pandas.core.frame.DataFrame'>\n",
      "RangeIndex: 78 entries, 0 to 77\n",
      "Data columns (total 7 columns):\n",
      " #   Column        Non-Null Count  Dtype  \n",
      "---  ------        --------------  -----  \n",
      " 0   Person        78 non-null     int64  \n",
      " 1   gender        78 non-null     object \n",
      " 2   Age           78 non-null     int64  \n",
      " 3   Height        78 non-null     int64  \n",
      " 4   pre.weight    78 non-null     int64  \n",
      " 5   Diet          78 non-null     int64  \n",
      " 6   weight6weeks  78 non-null     float64\n",
      "dtypes: float64(1), int64(5), object(1)\n",
      "memory usage: 4.4+ KB\n"
     ]
    }
   ],
   "source": [
    "df.info()"
   ]
  },
  {
   "cell_type": "code",
   "execution_count": 4,
   "id": "95f9b2de",
   "metadata": {},
   "outputs": [
    {
     "data": {
      "text/html": [
       "<div>\n",
       "<style scoped>\n",
       "    .dataframe tbody tr th:only-of-type {\n",
       "        vertical-align: middle;\n",
       "    }\n",
       "\n",
       "    .dataframe tbody tr th {\n",
       "        vertical-align: top;\n",
       "    }\n",
       "\n",
       "    .dataframe thead th {\n",
       "        text-align: right;\n",
       "    }\n",
       "</style>\n",
       "<table border=\"1\" class=\"dataframe\">\n",
       "  <thead>\n",
       "    <tr style=\"text-align: right;\">\n",
       "      <th></th>\n",
       "      <th>Person</th>\n",
       "      <th>gender</th>\n",
       "      <th>Age</th>\n",
       "      <th>Height</th>\n",
       "      <th>pre.weight</th>\n",
       "      <th>Diet</th>\n",
       "      <th>weight6weeks</th>\n",
       "    </tr>\n",
       "  </thead>\n",
       "  <tbody>\n",
       "    <tr>\n",
       "      <th>0</th>\n",
       "      <td>25</td>\n",
       "      <td></td>\n",
       "      <td>41</td>\n",
       "      <td>171</td>\n",
       "      <td>60</td>\n",
       "      <td>2</td>\n",
       "      <td>60.0</td>\n",
       "    </tr>\n",
       "    <tr>\n",
       "      <th>1</th>\n",
       "      <td>26</td>\n",
       "      <td></td>\n",
       "      <td>32</td>\n",
       "      <td>174</td>\n",
       "      <td>103</td>\n",
       "      <td>2</td>\n",
       "      <td>103.0</td>\n",
       "    </tr>\n",
       "    <tr>\n",
       "      <th>2</th>\n",
       "      <td>1</td>\n",
       "      <td>0</td>\n",
       "      <td>22</td>\n",
       "      <td>159</td>\n",
       "      <td>58</td>\n",
       "      <td>1</td>\n",
       "      <td>54.2</td>\n",
       "    </tr>\n",
       "    <tr>\n",
       "      <th>3</th>\n",
       "      <td>2</td>\n",
       "      <td>0</td>\n",
       "      <td>46</td>\n",
       "      <td>192</td>\n",
       "      <td>60</td>\n",
       "      <td>1</td>\n",
       "      <td>54.0</td>\n",
       "    </tr>\n",
       "    <tr>\n",
       "      <th>4</th>\n",
       "      <td>3</td>\n",
       "      <td>0</td>\n",
       "      <td>55</td>\n",
       "      <td>170</td>\n",
       "      <td>64</td>\n",
       "      <td>1</td>\n",
       "      <td>63.3</td>\n",
       "    </tr>\n",
       "  </tbody>\n",
       "</table>\n",
       "</div>"
      ],
      "text/plain": [
       "   Person gender  Age  Height  pre.weight  Diet  weight6weeks\n",
       "0      25          41     171          60     2          60.0\n",
       "1      26          32     174         103     2         103.0\n",
       "2       1      0   22     159          58     1          54.2\n",
       "3       2      0   46     192          60     1          54.0\n",
       "4       3      0   55     170          64     1          63.3"
      ]
     },
     "execution_count": 4,
     "metadata": {},
     "output_type": "execute_result"
    }
   ],
   "source": [
    "df.head(5)"
   ]
  },
  {
   "cell_type": "code",
   "execution_count": 5,
   "id": "892f444e",
   "metadata": {},
   "outputs": [
    {
     "data": {
      "text/html": [
       "<div>\n",
       "<style scoped>\n",
       "    .dataframe tbody tr th:only-of-type {\n",
       "        vertical-align: middle;\n",
       "    }\n",
       "\n",
       "    .dataframe tbody tr th {\n",
       "        vertical-align: top;\n",
       "    }\n",
       "\n",
       "    .dataframe thead th {\n",
       "        text-align: right;\n",
       "    }\n",
       "</style>\n",
       "<table border=\"1\" class=\"dataframe\">\n",
       "  <thead>\n",
       "    <tr style=\"text-align: right;\">\n",
       "      <th></th>\n",
       "      <th>Person</th>\n",
       "      <th>gender</th>\n",
       "      <th>Age</th>\n",
       "      <th>Height</th>\n",
       "      <th>pre.weight</th>\n",
       "      <th>Diet</th>\n",
       "      <th>weight6weeks</th>\n",
       "      <th>weight.lost</th>\n",
       "    </tr>\n",
       "  </thead>\n",
       "  <tbody>\n",
       "    <tr>\n",
       "      <th>0</th>\n",
       "      <td>25</td>\n",
       "      <td></td>\n",
       "      <td>41</td>\n",
       "      <td>171</td>\n",
       "      <td>60</td>\n",
       "      <td>2</td>\n",
       "      <td>60.0</td>\n",
       "      <td>0.0</td>\n",
       "    </tr>\n",
       "    <tr>\n",
       "      <th>1</th>\n",
       "      <td>26</td>\n",
       "      <td></td>\n",
       "      <td>32</td>\n",
       "      <td>174</td>\n",
       "      <td>103</td>\n",
       "      <td>2</td>\n",
       "      <td>103.0</td>\n",
       "      <td>0.0</td>\n",
       "    </tr>\n",
       "    <tr>\n",
       "      <th>2</th>\n",
       "      <td>1</td>\n",
       "      <td>0</td>\n",
       "      <td>22</td>\n",
       "      <td>159</td>\n",
       "      <td>58</td>\n",
       "      <td>1</td>\n",
       "      <td>54.2</td>\n",
       "      <td>3.8</td>\n",
       "    </tr>\n",
       "    <tr>\n",
       "      <th>3</th>\n",
       "      <td>2</td>\n",
       "      <td>0</td>\n",
       "      <td>46</td>\n",
       "      <td>192</td>\n",
       "      <td>60</td>\n",
       "      <td>1</td>\n",
       "      <td>54.0</td>\n",
       "      <td>6.0</td>\n",
       "    </tr>\n",
       "    <tr>\n",
       "      <th>4</th>\n",
       "      <td>3</td>\n",
       "      <td>0</td>\n",
       "      <td>55</td>\n",
       "      <td>170</td>\n",
       "      <td>64</td>\n",
       "      <td>1</td>\n",
       "      <td>63.3</td>\n",
       "      <td>0.7</td>\n",
       "    </tr>\n",
       "  </tbody>\n",
       "</table>\n",
       "</div>"
      ],
      "text/plain": [
       "   Person gender  Age  Height  pre.weight  Diet  weight6weeks  weight.lost\n",
       "0      25          41     171          60     2          60.0          0.0\n",
       "1      26          32     174         103     2         103.0          0.0\n",
       "2       1      0   22     159          58     1          54.2          3.8\n",
       "3       2      0   46     192          60     1          54.0          6.0\n",
       "4       3      0   55     170          64     1          63.3          0.7"
      ]
     },
     "execution_count": 5,
     "metadata": {},
     "output_type": "execute_result"
    }
   ],
   "source": [
    "df['weight.lost'] = df['pre.weight'] - df['weight6weeks']\n",
    "df.head(5)"
   ]
  },
  {
   "cell_type": "code",
   "execution_count": 6,
   "id": "6584f7b3",
   "metadata": {},
   "outputs": [
    {
     "data": {
      "text/html": [
       "<div>\n",
       "<style scoped>\n",
       "    .dataframe tbody tr th:only-of-type {\n",
       "        vertical-align: middle;\n",
       "    }\n",
       "\n",
       "    .dataframe tbody tr th {\n",
       "        vertical-align: top;\n",
       "    }\n",
       "\n",
       "    .dataframe thead th {\n",
       "        text-align: right;\n",
       "    }\n",
       "</style>\n",
       "<table border=\"1\" class=\"dataframe\">\n",
       "  <thead>\n",
       "    <tr style=\"text-align: right;\">\n",
       "      <th></th>\n",
       "      <th>Mean</th>\n",
       "      <th>STD</th>\n",
       "    </tr>\n",
       "  </thead>\n",
       "  <tbody>\n",
       "    <tr>\n",
       "      <th>Diet 1</th>\n",
       "      <td>3.300000</td>\n",
       "      <td>2.240148</td>\n",
       "    </tr>\n",
       "    <tr>\n",
       "      <th>Diet 2</th>\n",
       "      <td>3.025926</td>\n",
       "      <td>2.523367</td>\n",
       "    </tr>\n",
       "    <tr>\n",
       "      <th>Diet 3</th>\n",
       "      <td>5.148148</td>\n",
       "      <td>2.395568</td>\n",
       "    </tr>\n",
       "  </tbody>\n",
       "</table>\n",
       "</div>"
      ],
      "text/plain": [
       "            Mean       STD\n",
       "Diet 1  3.300000  2.240148\n",
       "Diet 2  3.025926  2.523367\n",
       "Diet 3  5.148148  2.395568"
      ]
     },
     "execution_count": 6,
     "metadata": {},
     "output_type": "execute_result"
    }
   ],
   "source": [
    "weight_loss_data = np.array([\n",
    "    np.array(df.groupby(['Diet'])['weight.lost'].mean()),\n",
    "    np.array(df.groupby(['Diet'])['weight.lost'].std())\n",
    "    ]\n",
    ")\n",
    "\n",
    "pd.DataFrame(data = weight_loss_data, index = ['Mean', 'STD'], columns = ['Diet 1', 'Diet 2', 'Diet 3']).transpose()"
   ]
  },
  {
   "cell_type": "markdown",
   "id": "ca2790ab",
   "metadata": {},
   "source": [
    "### Normality Check\n",
    "The ANOVA test assumes normality, so we must check if the weight lost for each diet are normally distributed."
   ]
  },
  {
   "cell_type": "code",
   "execution_count": 7,
   "id": "dc7dcda3",
   "metadata": {},
   "outputs": [
    {
     "name": "stdout",
     "output_type": "stream",
     "text": [
      "Shaprio p-value for Diet 1: 0.07748671621084213\n",
      "Shaprio p-value for Diet 2: 0.961176335811615\n",
      "Shaprio p-value for Diet 3: 0.37203603982925415\n"
     ]
    }
   ],
   "source": [
    "for i in range(1,4):\n",
    "    print (f\"Shaprio p-value for Diet {i}: {stats.shapiro(df[df['Diet'] == i]['weight.lost'])[1]}\")"
   ]
  },
  {
   "cell_type": "markdown",
   "id": "af8737e2",
   "metadata": {},
   "source": [
    "Each p-value is greater than .05, so we can assume the data are normally distributed."
   ]
  },
  {
   "cell_type": "markdown",
   "id": "7b05c91e",
   "metadata": {},
   "source": [
    "### Bartlett Test for Variance\n",
    "\n",
    "Because the data are normally distributed, we can use the Bartlett test for homogeneity of variance.\n",
    "\n",
    "From [this link](https://www.itl.nist.gov/div898/handbook/eda/section3/eda357.htm):\n",
    "\n",
    "\"Bartlett's test (Snedecor and Cochran, 1983) is used to test if k samples have equal variances. Some statistical tests, for example the analysis of variance, assume that variances are equal across groups or samples. The Bartlett test can be used to verify that assumption.\n",
    "\n",
    "Bartlett's test is sensitive to departures from normality. That is, if your samples come from non-normal distributions, then Bartlett's test may simply be testing for non-normality. The Levene test is an alternative to the Bartlett test that is less sensitive to departures from normality.\""
   ]
  },
  {
   "cell_type": "code",
   "execution_count": 8,
   "id": "28a50c57",
   "metadata": {},
   "outputs": [
    {
     "data": {
      "text/plain": [
       "BartlettResult(statistic=0.337454630479139, pvalue=0.8447392194944549)"
      ]
     },
     "execution_count": 8,
     "metadata": {},
     "output_type": "execute_result"
    }
   ],
   "source": [
    "stats.bartlett(df[df['Diet'] == 1]['weight.lost'],\n",
    "               df[df['Diet'] == 2]['weight.lost'],\n",
    "               df[df['Diet'] == 3]['weight.lost'])"
   ]
  },
  {
   "cell_type": "markdown",
   "id": "3d32d722",
   "metadata": {},
   "source": [
    "Because the pvalue is greater than .05, we can not reject the null hypothesis (the variances are equal)."
   ]
  },
  {
   "cell_type": "markdown",
   "id": "d094957d",
   "metadata": {},
   "source": [
    "### Levene Test for Variance\n",
    "\n",
    "From [this link](https://www.itl.nist.gov/div898/handbook/eda/section3/eda35a.htm)\n",
    "\n",
    "\"Levene's test is an alternative to the Bartlett test. The Levene test is less sensitive than the Bartlett test to departures from normality. If you have strong evidence that your data do in fact come from a normal, or nearly normal, distribution, then Bartlett's test has better performance.\"\n",
    "\n",
    "Because we have confirmed that the data are normally distributed, and have verified homogeneity of variance with the Bartlett test, this is mostly for reference. "
   ]
  },
  {
   "cell_type": "code",
   "execution_count": 9,
   "id": "ce5c5f07",
   "metadata": {},
   "outputs": [
    {
     "data": {
      "text/plain": [
       "LeveneResult(statistic=0.6589025222174966, pvalue=0.5203879185139708)"
      ]
     },
     "execution_count": 9,
     "metadata": {},
     "output_type": "execute_result"
    }
   ],
   "source": [
    "stats.levene(df[df['Diet'] == 1]['weight.lost'],\n",
    "             df[df['Diet'] == 2]['weight.lost'],\n",
    "             df[df['Diet'] == 3]['weight.lost'],\n",
    "             center = 'mean')"
   ]
  },
  {
   "cell_type": "code",
   "execution_count": 10,
   "id": "33d29719",
   "metadata": {},
   "outputs": [
    {
     "data": {
      "text/plain": [
       "LeveneResult(statistic=0.6256665777896312, pvalue=0.5376731304274011)"
      ]
     },
     "execution_count": 10,
     "metadata": {},
     "output_type": "execute_result"
    }
   ],
   "source": [
    "stats.levene(df[df['Diet'] == 1]['weight.lost'],\n",
    "             df[df['Diet'] == 2]['weight.lost'],\n",
    "             df[df['Diet'] == 3]['weight.lost'],\n",
    "             center = 'median')"
   ]
  },
  {
   "cell_type": "markdown",
   "id": "5899e0f7",
   "metadata": {},
   "source": [
    "Each test gives a p-value greater than .05, so we can assume similar variance for each diet."
   ]
  },
  {
   "cell_type": "markdown",
   "id": "c97246d7",
   "metadata": {},
   "source": [
    "### Visualizing the Data"
   ]
  },
  {
   "cell_type": "code",
   "execution_count": 11,
   "id": "17721cdd",
   "metadata": {},
   "outputs": [
    {
     "data": {
      "image/png": "[encoded data removed]",
      "text/plain": [
       "<Figure size 432x288 with 1 Axes>"
      ]
     },
     "metadata": {},
     "output_type": "display_data"
    }
   ],
   "source": [
    "df.boxplot(column = 'weight.lost', by = 'Diet')\n",
    "plt.title('Weight Lost')\n",
    "plt.suptitle('') # Removes 'Boxplot grouped by Diet'\n",
    "plt.show()"
   ]
  },
  {
   "cell_type": "markdown",
   "id": "bd4589e3",
   "metadata": {},
   "source": [
    "### ANOVA Test"
   ]
  },
  {
   "cell_type": "markdown",
   "id": "bf8e1b20",
   "metadata": {},
   "source": [
    "From [this link](https://www.pythonfordatascience.org/anova-python/)\n",
    "\n",
    "\"ANOVA stands for \"Analysis of Variance\" and is an omnibus test, meaning it tests for a difference overall between all groups. The one-way ANOVA, also referred to as one factor ANOVA, is a parametric test used to test for a statistically significant difference of an outcome between 3 or more groups. Since it is an omnibus test, it tests for a difference overall, i.e. at least one of the groups is statistically significantly different than the others. However, if the ANOVA is significant one cannot tell which group is different. In order to tell which group is different, one has to conduct planned or post-hoc comparisons.\n",
    "\n",
    "The reason why it's called an one-way or one factor ANOVA even though there are 3 or more groups being tested is because those groups are under one categorical variable, such as race or education level, and the name is referring to the number of variables in the analysis and not the number of groups.\"\n",
    "\n",
    "Also, from the scipy docs,\n",
    "\n",
    "\"The one-way ANOVA tests the null hypothesis that two or more groups have the same population mean.\""
   ]
  },
  {
   "cell_type": "code",
   "execution_count": 12,
   "id": "582d9269",
   "metadata": {},
   "outputs": [
    {
     "data": {
      "text/plain": [
       "F_onewayResult(statistic=6.197447453165349, pvalue=0.0032290142385893524)"
      ]
     },
     "execution_count": 12,
     "metadata": {},
     "output_type": "execute_result"
    }
   ],
   "source": [
    "stats.f_oneway(df[df['Diet'] == 1]['weight.lost'],\n",
    "               df[df['Diet'] == 2]['weight.lost'],\n",
    "               df[df['Diet'] == 3]['weight.lost'])"
   ]
  },
  {
   "cell_type": "markdown",
   "id": "fc8d9692",
   "metadata": {},
   "source": [
    "Because the pvalue is less than .05, we can assume that one of the groups does not have the same population mean. While we may be able to see which diet has a different population mean based on the visualization, it is best to run a post hoc test to determine where the differences are in the diets."
   ]
  },
  {
   "cell_type": "markdown",
   "id": "9bdd21af",
   "metadata": {},
   "source": [
    "### Post Hoc Test\n",
    "\n",
    "From [this link](https://www.statisticshowto.com/tukey-test-honest-significant-difference/)\n",
    "\n",
    "\"The Tukey Test (or Tukey procedure), also called Tukey’s Honest Significant Difference test, is a post-hoc test based on the studentized range distribution. An ANOVA test can tell you if your results are significant overall, but it won’t tell you exactly where those differences lie. After you have run an ANOVA and found significant results, then you can run Tukey’s HSD to find out which specific groups’s means (compared with each other) are different. The test compares all possible pairs of means.\""
   ]
  },
  {
   "cell_type": "code",
   "execution_count": 13,
   "id": "bff6e3ea",
   "metadata": {},
   "outputs": [
    {
     "name": "stdout",
     "output_type": "stream",
     "text": [
      "Multiple Comparison of Means - Tukey HSD, FWER=0.05\n",
      "===================================================\n",
      "group1 group2 meandiff p-adj   lower  upper  reject\n",
      "---------------------------------------------------\n",
      "     1      2  -0.2741    0.9 -1.8806 1.3325  False\n",
      "     1      3   1.8481 0.0201  0.2416 3.4547   True\n",
      "     2      3   2.1222 0.0048  0.5636 3.6808   True\n",
      "---------------------------------------------------\n"
     ]
    }
   ],
   "source": [
    "diet_tukey = pairwise_tukeyhsd(endog = df['weight.lost'],\n",
    "                               groups = df['Diet'],\n",
    "                               alpha = 0.05)\n",
    "print (diet_tukey)"
   ]
  },
  {
   "cell_type": "markdown",
   "id": "41190b45",
   "metadata": {},
   "source": [
    "Now, we can conclude that there are significant differences between diets 1 and 3, and between diets 2 and 3."
   ]
  }
 ],
 "metadata": {
  "kernelspec": {
   "display_name": "Python 3",
   "language": "python",
   "name": "python3"
  },
  "language_info": {
   "codemirror_mode": {
    "name": "ipython",
    "version": 3
   },
   "file_extension": ".py",
   "mimetype": "text/x-python",
   "name": "python",
   "nbconvert_exporter": "python",
   "pygments_lexer": "ipython3",
   "version": "3.8.10"
  }
 },
 "nbformat": 4,
 "nbformat_minor": 5
}
