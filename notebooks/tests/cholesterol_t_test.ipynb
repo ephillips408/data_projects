{
 "cells": [
  {
   "cell_type": "code",
   "execution_count": 1,
   "id": "2edc3735",
   "metadata": {},
   "outputs": [],
   "source": [
    "import numpy as np\n",
    "import pandas as pd\n",
    "\n",
    "import scipy.stats as stats"
   ]
  },
  {
   "cell_type": "code",
   "execution_count": 2,
   "id": "b22462dd",
   "metadata": {},
   "outputs": [],
   "source": [
    "df = pd.read_csv('../../data/tests/Cholesterol_R.csv')"
   ]
  },
  {
   "cell_type": "markdown",
   "id": "d0093263",
   "metadata": {},
   "source": [
    "### Viewing the Dataset"
   ]
  },
  {
   "cell_type": "code",
   "execution_count": 3,
   "id": "d2e5929d",
   "metadata": {},
   "outputs": [
    {
     "data": {
      "text/html": [
       "<div>\n",
       "<style scoped>\n",
       "    .dataframe tbody tr th:only-of-type {\n",
       "        vertical-align: middle;\n",
       "    }\n",
       "\n",
       "    .dataframe tbody tr th {\n",
       "        vertical-align: top;\n",
       "    }\n",
       "\n",
       "    .dataframe thead th {\n",
       "        text-align: right;\n",
       "    }\n",
       "</style>\n",
       "<table border=\"1\" class=\"dataframe\">\n",
       "  <thead>\n",
       "    <tr style=\"text-align: right;\">\n",
       "      <th></th>\n",
       "      <th>ID</th>\n",
       "      <th>Before</th>\n",
       "      <th>After4weeks</th>\n",
       "      <th>After8weeks</th>\n",
       "      <th>Margarine</th>\n",
       "    </tr>\n",
       "  </thead>\n",
       "  <tbody>\n",
       "    <tr>\n",
       "      <th>0</th>\n",
       "      <td>1</td>\n",
       "      <td>6.42</td>\n",
       "      <td>5.83</td>\n",
       "      <td>5.75</td>\n",
       "      <td>B</td>\n",
       "    </tr>\n",
       "    <tr>\n",
       "      <th>1</th>\n",
       "      <td>2</td>\n",
       "      <td>6.76</td>\n",
       "      <td>6.20</td>\n",
       "      <td>6.13</td>\n",
       "      <td>A</td>\n",
       "    </tr>\n",
       "    <tr>\n",
       "      <th>2</th>\n",
       "      <td>3</td>\n",
       "      <td>6.56</td>\n",
       "      <td>5.83</td>\n",
       "      <td>5.71</td>\n",
       "      <td>B</td>\n",
       "    </tr>\n",
       "    <tr>\n",
       "      <th>3</th>\n",
       "      <td>4</td>\n",
       "      <td>4.80</td>\n",
       "      <td>4.27</td>\n",
       "      <td>4.15</td>\n",
       "      <td>A</td>\n",
       "    </tr>\n",
       "    <tr>\n",
       "      <th>4</th>\n",
       "      <td>5</td>\n",
       "      <td>8.43</td>\n",
       "      <td>7.71</td>\n",
       "      <td>7.67</td>\n",
       "      <td>B</td>\n",
       "    </tr>\n",
       "    <tr>\n",
       "      <th>5</th>\n",
       "      <td>6</td>\n",
       "      <td>7.49</td>\n",
       "      <td>7.12</td>\n",
       "      <td>7.05</td>\n",
       "      <td>A</td>\n",
       "    </tr>\n",
       "    <tr>\n",
       "      <th>6</th>\n",
       "      <td>7</td>\n",
       "      <td>8.05</td>\n",
       "      <td>7.25</td>\n",
       "      <td>7.10</td>\n",
       "      <td>B</td>\n",
       "    </tr>\n",
       "    <tr>\n",
       "      <th>7</th>\n",
       "      <td>8</td>\n",
       "      <td>5.05</td>\n",
       "      <td>4.63</td>\n",
       "      <td>4.67</td>\n",
       "      <td>A</td>\n",
       "    </tr>\n",
       "    <tr>\n",
       "      <th>8</th>\n",
       "      <td>9</td>\n",
       "      <td>5.77</td>\n",
       "      <td>5.31</td>\n",
       "      <td>5.33</td>\n",
       "      <td>B</td>\n",
       "    </tr>\n",
       "    <tr>\n",
       "      <th>9</th>\n",
       "      <td>10</td>\n",
       "      <td>3.91</td>\n",
       "      <td>3.70</td>\n",
       "      <td>3.66</td>\n",
       "      <td>A</td>\n",
       "    </tr>\n",
       "    <tr>\n",
       "      <th>10</th>\n",
       "      <td>11</td>\n",
       "      <td>6.77</td>\n",
       "      <td>6.15</td>\n",
       "      <td>5.96</td>\n",
       "      <td>B</td>\n",
       "    </tr>\n",
       "    <tr>\n",
       "      <th>11</th>\n",
       "      <td>12</td>\n",
       "      <td>6.44</td>\n",
       "      <td>5.59</td>\n",
       "      <td>5.64</td>\n",
       "      <td>B</td>\n",
       "    </tr>\n",
       "    <tr>\n",
       "      <th>12</th>\n",
       "      <td>13</td>\n",
       "      <td>6.17</td>\n",
       "      <td>5.56</td>\n",
       "      <td>5.51</td>\n",
       "      <td>A</td>\n",
       "    </tr>\n",
       "    <tr>\n",
       "      <th>13</th>\n",
       "      <td>14</td>\n",
       "      <td>7.67</td>\n",
       "      <td>7.11</td>\n",
       "      <td>6.96</td>\n",
       "      <td>A</td>\n",
       "    </tr>\n",
       "    <tr>\n",
       "      <th>14</th>\n",
       "      <td>15</td>\n",
       "      <td>7.34</td>\n",
       "      <td>6.84</td>\n",
       "      <td>6.82</td>\n",
       "      <td>A</td>\n",
       "    </tr>\n",
       "    <tr>\n",
       "      <th>15</th>\n",
       "      <td>16</td>\n",
       "      <td>6.85</td>\n",
       "      <td>6.40</td>\n",
       "      <td>6.29</td>\n",
       "      <td>B</td>\n",
       "    </tr>\n",
       "    <tr>\n",
       "      <th>16</th>\n",
       "      <td>17</td>\n",
       "      <td>5.13</td>\n",
       "      <td>4.52</td>\n",
       "      <td>4.45</td>\n",
       "      <td>A</td>\n",
       "    </tr>\n",
       "    <tr>\n",
       "      <th>17</th>\n",
       "      <td>18</td>\n",
       "      <td>5.73</td>\n",
       "      <td>5.13</td>\n",
       "      <td>5.17</td>\n",
       "      <td>B</td>\n",
       "    </tr>\n",
       "  </tbody>\n",
       "</table>\n",
       "</div>"
      ],
      "text/plain": [
       "    ID  Before  After4weeks  After8weeks Margarine\n",
       "0    1    6.42         5.83         5.75         B\n",
       "1    2    6.76         6.20         6.13         A\n",
       "2    3    6.56         5.83         5.71         B\n",
       "3    4    4.80         4.27         4.15         A\n",
       "4    5    8.43         7.71         7.67         B\n",
       "5    6    7.49         7.12         7.05         A\n",
       "6    7    8.05         7.25         7.10         B\n",
       "7    8    5.05         4.63         4.67         A\n",
       "8    9    5.77         5.31         5.33         B\n",
       "9   10    3.91         3.70         3.66         A\n",
       "10  11    6.77         6.15         5.96         B\n",
       "11  12    6.44         5.59         5.64         B\n",
       "12  13    6.17         5.56         5.51         A\n",
       "13  14    7.67         7.11         6.96         A\n",
       "14  15    7.34         6.84         6.82         A\n",
       "15  16    6.85         6.40         6.29         B\n",
       "16  17    5.13         4.52         4.45         A\n",
       "17  18    5.73         5.13         5.17         B"
      ]
     },
     "execution_count": 3,
     "metadata": {},
     "output_type": "execute_result"
    }
   ],
   "source": [
    "df"
   ]
  },
  {
   "cell_type": "markdown",
   "id": "74ebb5f3",
   "metadata": {},
   "source": [
    "### Checking the Means and Standard Deviations"
   ]
  },
  {
   "cell_type": "code",
   "execution_count": 4,
   "id": "7318ffab",
   "metadata": {},
   "outputs": [
    {
     "name": "stdout",
     "output_type": "stream",
     "text": [
      "6.407777777777778\n",
      "1.1910872717349006\n"
     ]
    }
   ],
   "source": [
    "print (df['Before'].mean())\n",
    "print (df['Before'].std())"
   ]
  },
  {
   "cell_type": "code",
   "execution_count": 5,
   "id": "b3bf8e91",
   "metadata": {},
   "outputs": [
    {
     "name": "stdout",
     "output_type": "stream",
     "text": [
      "5.841666666666668\n",
      "1.123352388271505\n"
     ]
    }
   ],
   "source": [
    "print (df['After4weeks'].mean())\n",
    "print (df['After4weeks'].std())"
   ]
  },
  {
   "cell_type": "code",
   "execution_count": 6,
   "id": "59c39b24",
   "metadata": {},
   "outputs": [
    {
     "name": "stdout",
     "output_type": "stream",
     "text": [
      "5.778888888888889\n",
      "1.1019121823068931\n"
     ]
    }
   ],
   "source": [
    "print (df['After8weeks'].mean())\n",
    "print (df['After8weeks'].std())"
   ]
  },
  {
   "cell_type": "markdown",
   "id": "b080a552",
   "metadata": {},
   "source": [
    "### Adding Information to the Dataframe"
   ]
  },
  {
   "cell_type": "code",
   "execution_count": 7,
   "id": "e770f3cd",
   "metadata": {},
   "outputs": [
    {
     "data": {
      "text/html": [
       "<div>\n",
       "<style scoped>\n",
       "    .dataframe tbody tr th:only-of-type {\n",
       "        vertical-align: middle;\n",
       "    }\n",
       "\n",
       "    .dataframe tbody tr th {\n",
       "        vertical-align: top;\n",
       "    }\n",
       "\n",
       "    .dataframe thead th {\n",
       "        text-align: right;\n",
       "    }\n",
       "</style>\n",
       "<table border=\"1\" class=\"dataframe\">\n",
       "  <thead>\n",
       "    <tr style=\"text-align: right;\">\n",
       "      <th></th>\n",
       "      <th>Before</th>\n",
       "      <th>After4weeks</th>\n",
       "      <th>Mean</th>\n",
       "      <th>Difference</th>\n",
       "    </tr>\n",
       "  </thead>\n",
       "  <tbody>\n",
       "    <tr>\n",
       "      <th>0</th>\n",
       "      <td>6.42</td>\n",
       "      <td>5.83</td>\n",
       "      <td>6.125</td>\n",
       "      <td>-0.59</td>\n",
       "    </tr>\n",
       "    <tr>\n",
       "      <th>1</th>\n",
       "      <td>6.76</td>\n",
       "      <td>6.20</td>\n",
       "      <td>6.480</td>\n",
       "      <td>-0.56</td>\n",
       "    </tr>\n",
       "    <tr>\n",
       "      <th>2</th>\n",
       "      <td>6.56</td>\n",
       "      <td>5.83</td>\n",
       "      <td>6.195</td>\n",
       "      <td>-0.73</td>\n",
       "    </tr>\n",
       "    <tr>\n",
       "      <th>3</th>\n",
       "      <td>4.80</td>\n",
       "      <td>4.27</td>\n",
       "      <td>4.535</td>\n",
       "      <td>-0.53</td>\n",
       "    </tr>\n",
       "    <tr>\n",
       "      <th>4</th>\n",
       "      <td>8.43</td>\n",
       "      <td>7.71</td>\n",
       "      <td>8.070</td>\n",
       "      <td>-0.72</td>\n",
       "    </tr>\n",
       "    <tr>\n",
       "      <th>5</th>\n",
       "      <td>7.49</td>\n",
       "      <td>7.12</td>\n",
       "      <td>7.305</td>\n",
       "      <td>-0.37</td>\n",
       "    </tr>\n",
       "    <tr>\n",
       "      <th>6</th>\n",
       "      <td>8.05</td>\n",
       "      <td>7.25</td>\n",
       "      <td>7.650</td>\n",
       "      <td>-0.80</td>\n",
       "    </tr>\n",
       "    <tr>\n",
       "      <th>7</th>\n",
       "      <td>5.05</td>\n",
       "      <td>4.63</td>\n",
       "      <td>4.840</td>\n",
       "      <td>-0.42</td>\n",
       "    </tr>\n",
       "    <tr>\n",
       "      <th>8</th>\n",
       "      <td>5.77</td>\n",
       "      <td>5.31</td>\n",
       "      <td>5.540</td>\n",
       "      <td>-0.46</td>\n",
       "    </tr>\n",
       "    <tr>\n",
       "      <th>9</th>\n",
       "      <td>3.91</td>\n",
       "      <td>3.70</td>\n",
       "      <td>3.805</td>\n",
       "      <td>-0.21</td>\n",
       "    </tr>\n",
       "    <tr>\n",
       "      <th>10</th>\n",
       "      <td>6.77</td>\n",
       "      <td>6.15</td>\n",
       "      <td>6.460</td>\n",
       "      <td>-0.62</td>\n",
       "    </tr>\n",
       "    <tr>\n",
       "      <th>11</th>\n",
       "      <td>6.44</td>\n",
       "      <td>5.59</td>\n",
       "      <td>6.015</td>\n",
       "      <td>-0.85</td>\n",
       "    </tr>\n",
       "    <tr>\n",
       "      <th>12</th>\n",
       "      <td>6.17</td>\n",
       "      <td>5.56</td>\n",
       "      <td>5.865</td>\n",
       "      <td>-0.61</td>\n",
       "    </tr>\n",
       "    <tr>\n",
       "      <th>13</th>\n",
       "      <td>7.67</td>\n",
       "      <td>7.11</td>\n",
       "      <td>7.390</td>\n",
       "      <td>-0.56</td>\n",
       "    </tr>\n",
       "    <tr>\n",
       "      <th>14</th>\n",
       "      <td>7.34</td>\n",
       "      <td>6.84</td>\n",
       "      <td>7.090</td>\n",
       "      <td>-0.50</td>\n",
       "    </tr>\n",
       "    <tr>\n",
       "      <th>15</th>\n",
       "      <td>6.85</td>\n",
       "      <td>6.40</td>\n",
       "      <td>6.625</td>\n",
       "      <td>-0.45</td>\n",
       "    </tr>\n",
       "    <tr>\n",
       "      <th>16</th>\n",
       "      <td>5.13</td>\n",
       "      <td>4.52</td>\n",
       "      <td>4.825</td>\n",
       "      <td>-0.61</td>\n",
       "    </tr>\n",
       "    <tr>\n",
       "      <th>17</th>\n",
       "      <td>5.73</td>\n",
       "      <td>5.13</td>\n",
       "      <td>5.430</td>\n",
       "      <td>-0.60</td>\n",
       "    </tr>\n",
       "  </tbody>\n",
       "</table>\n",
       "</div>"
      ],
      "text/plain": [
       "    Before  After4weeks   Mean  Difference\n",
       "0     6.42         5.83  6.125       -0.59\n",
       "1     6.76         6.20  6.480       -0.56\n",
       "2     6.56         5.83  6.195       -0.73\n",
       "3     4.80         4.27  4.535       -0.53\n",
       "4     8.43         7.71  8.070       -0.72\n",
       "5     7.49         7.12  7.305       -0.37\n",
       "6     8.05         7.25  7.650       -0.80\n",
       "7     5.05         4.63  4.840       -0.42\n",
       "8     5.77         5.31  5.540       -0.46\n",
       "9     3.91         3.70  3.805       -0.21\n",
       "10    6.77         6.15  6.460       -0.62\n",
       "11    6.44         5.59  6.015       -0.85\n",
       "12    6.17         5.56  5.865       -0.61\n",
       "13    7.67         7.11  7.390       -0.56\n",
       "14    7.34         6.84  7.090       -0.50\n",
       "15    6.85         6.40  6.625       -0.45\n",
       "16    5.13         4.52  4.825       -0.61\n",
       "17    5.73         5.13  5.430       -0.60"
      ]
     },
     "execution_count": 7,
     "metadata": {},
     "output_type": "execute_result"
    }
   ],
   "source": [
    "compare = df[['Before', 'After4weeks']].copy()\n",
    "compare['Mean'] = compare.mean(axis = 1)\n",
    "compare['Difference'] = df['After4weeks'] - df['Before']\n",
    "compare"
   ]
  },
  {
   "cell_type": "code",
   "execution_count": 8,
   "id": "8b90f650",
   "metadata": {},
   "outputs": [
    {
     "name": "stdout",
     "output_type": "stream",
     "text": [
      "-0.5661111111111112\n"
     ]
    }
   ],
   "source": [
    "print (compare['Difference'].mean())"
   ]
  },
  {
   "cell_type": "markdown",
   "id": "8efe749c",
   "metadata": {},
   "source": [
    "### Check for Normality\n",
    "\n",
    "From Wikipedia, \"The Shapiro–Wilk test tests the null hypothesis that a sample x_1, ..., x_n came from a normally distributed population.\"\n",
    "\n",
    "\"The null-hypothesis of this test is that the population is normally distributed. Thus, if the p value is less than the chosen alpha level, then the null hypothesis is rejected and there is evidence that the data tested are not normally distributed. On the other hand, if the p value is greater than the chosen alpha level, then the null hypothesis (that the data came from a normally distributed population) can not be rejected (e.g., for an alpha level of .05, a data set with a p value of less than .05 rejects the null hypothesis that the data are from a normally distributed population).\""
   ]
  },
  {
   "cell_type": "code",
   "execution_count": 9,
   "id": "cb0edf83",
   "metadata": {},
   "outputs": [
    {
     "data": {
      "text/plain": [
       "ShapiroResult(statistic=0.9774226546287537, pvalue=0.9195953607559204)"
      ]
     },
     "execution_count": 9,
     "metadata": {},
     "output_type": "execute_result"
    }
   ],
   "source": [
    "stats.shapiro(compare['Difference'])"
   ]
  },
  {
   "cell_type": "markdown",
   "id": "22262fc4",
   "metadata": {},
   "source": [
    "Because the pvalue is greater than .05, we can assume that the data are normally distributed."
   ]
  },
  {
   "cell_type": "markdown",
   "id": "db7e36bd",
   "metadata": {},
   "source": [
    "### Conduct the Paired T Test\n",
    "\n",
    "From [this link](https://www.jmp.com/en_us/statistics-knowledge-portal/t-test/paired-t-test.html)\n",
    "\n",
    "#### What is the paired t-test?\n",
    "The paired t-test is a method used to test whether the mean difference between pairs of measurements is zero or not.\n",
    "\n",
    "#### When can I use the test?\n",
    "You can use the test when your data values are paired measurements. For example, you might have before-and-after measurements for a group of people. Also, the distribution of differences between the paired measurements should be normally distributed."
   ]
  },
  {
   "cell_type": "markdown",
   "id": "de5e8330",
   "metadata": {},
   "source": [
    "Now, we will want to use ttest_rel() from scipy for this case. From the scipy docs,\n",
    "\n",
    "\"Calculate the t-test on TWO RELATED samples of scores, a and b.\n",
    "\n",
    "This is a two-sided test for the null hypothesis that 2 related or repeated samples have identical average (expected) values.\""
   ]
  },
  {
   "cell_type": "code",
   "execution_count": 10,
   "id": "9171cfcf",
   "metadata": {},
   "outputs": [
    {
     "data": {
      "text/plain": [
       "Ttest_relResult(statistic=-15.438872730914381, pvalue=1.9575345773928476e-11)"
      ]
     },
     "execution_count": 10,
     "metadata": {},
     "output_type": "execute_result"
    }
   ],
   "source": [
    "stats.ttest_rel(compare['After4weeks'],\n",
    "                compare['Before'])"
   ]
  },
  {
   "cell_type": "markdown",
   "id": "8304328b",
   "metadata": {},
   "source": [
    "Because the pvalue is less than .05, we can conclude that the reduction in cholesterol is statistically significant.\n",
    "\n",
    "It is also worth mentioning that we should check that the results are practically important as well as statistically significant. We can check this by dividing the mean difference by the mean cholesterol level before the diet."
   ]
  },
  {
   "cell_type": "code",
   "execution_count": 11,
   "id": "9c9878d0",
   "metadata": {},
   "outputs": [
    {
     "data": {
      "text/plain": [
       "-0.08834749436448762"
      ]
     },
     "execution_count": 11,
     "metadata": {},
     "output_type": "execute_result"
    }
   ],
   "source": [
    "(compare['Difference'].mean()) / (compare['Before'].mean())"
   ]
  },
  {
   "cell_type": "markdown",
   "id": "1915d7bd",
   "metadata": {},
   "source": [
    "The average person lost 8.8% of their cholesterol by following this diet."
   ]
  }
 ],
 "metadata": {
  "kernelspec": {
   "display_name": "Python 3",
   "language": "python",
   "name": "python3"
  },
  "language_info": {
   "codemirror_mode": {
    "name": "ipython",
    "version": 3
   },
   "file_extension": ".py",
   "mimetype": "text/x-python",
   "name": "python",
   "nbconvert_exporter": "python",
   "pygments_lexer": "ipython3",
   "version": "3.8.10"
  }
 },
 "nbformat": 4,
 "nbformat_minor": 5
}
