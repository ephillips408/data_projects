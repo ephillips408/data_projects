{
 "cells": [
  {
   "cell_type": "code",
   "execution_count": 1,
   "id": "4c27d3d6",
   "metadata": {},
   "outputs": [],
   "source": [
    "import numpy as np\n",
    "import pandas as pd"
   ]
  },
  {
   "cell_type": "code",
   "execution_count": 2,
   "id": "f3190323",
   "metadata": {},
   "outputs": [],
   "source": [
    "aug_nyc_listings = pd.read_csv('../../data/dataxp/airbnb/raw_data/nyc_listings.csv')\n",
    "sept_nyc_listings = pd.read_csv('../../data/dataxp/airbnb/raw_data/nyc_listings_sept_01_2021.csv')"
   ]
  },
  {
   "cell_type": "code",
   "execution_count": 3,
   "id": "6e93d29c",
   "metadata": {},
   "outputs": [
    {
     "data": {
      "text/plain": [
       "0            2595\n",
       "1            3831\n",
       "2            5121\n",
       "3            5136\n",
       "4            5178\n",
       "           ...   \n",
       "36719    51447515\n",
       "36720    51449962\n",
       "36721    51450816\n",
       "36722    51451029\n",
       "36723    51451368\n",
       "Name: id, Length: 36724, dtype: int64"
      ]
     },
     "execution_count": 3,
     "metadata": {},
     "output_type": "execute_result"
    }
   ],
   "source": [
    "aug_nyc_listings['id']"
   ]
  },
  {
   "cell_type": "code",
   "execution_count": 4,
   "id": "09a81077",
   "metadata": {},
   "outputs": [
    {
     "data": {
      "text/plain": [
       "0            2595\n",
       "1            3831\n",
       "2            5121\n",
       "3            5136\n",
       "4            5178\n",
       "           ...   \n",
       "36918    52002317\n",
       "36919    52004427\n",
       "36920    52005507\n",
       "36921    52005691\n",
       "36922    52006978\n",
       "Name: id, Length: 36923, dtype: int64"
      ]
     },
     "execution_count": 4,
     "metadata": {},
     "output_type": "execute_result"
    }
   ],
   "source": [
    "sept_nyc_listings['id']"
   ]
  },
  {
   "cell_type": "code",
   "execution_count": null,
   "id": "1b529501",
   "metadata": {},
   "outputs": [],
   "source": []
  }
 ],
 "metadata": {
  "kernelspec": {
   "display_name": "Python 3",
   "language": "python",
   "name": "python3"
  },
  "language_info": {
   "codemirror_mode": {
    "name": "ipython",
    "version": 3
   },
   "file_extension": ".py",
   "mimetype": "text/x-python",
   "name": "python",
   "nbconvert_exporter": "python",
   "pygments_lexer": "ipython3",
   "version": "3.8.10"
  }
 },
 "nbformat": 4,
 "nbformat_minor": 5
}
