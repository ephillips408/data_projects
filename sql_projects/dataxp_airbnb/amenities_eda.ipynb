{
 "cells": [
  {
   "cell_type": "code",
   "execution_count": 1,
   "id": "6c331d42",
   "metadata": {},
   "outputs": [],
   "source": [
    "import numpy as np\n",
    "import pandas as pd\n",
    "import matplotlib.pyplot as plt\n",
    "import seaborn as sns\n",
    "\n",
    "plt.style.use('ggplot')\n",
    "\n",
    "import os\n",
    "from dotenv import load_dotenv\n",
    "import psycopg2 as pg2"
   ]
  },
  {
   "cell_type": "markdown",
   "id": "f9c7dbb9",
   "metadata": {},
   "source": [
    "## Amenities Exploration\n",
    "\n",
    "The purpose of this exploration is to determine the most common amenities, and to see if there are any other amenities that are correlated to a higher price. This will allow homeowners to determine if there are any amenities that they may need to purchase in order to best serve their guests, and to see which amenities may increase the value of their listing."
   ]
  },
  {
   "cell_type": "markdown",
   "id": "186bd998",
   "metadata": {},
   "source": [
    "### Obtaining the Data From Postgres"
   ]
  },
  {
   "cell_type": "code",
   "execution_count": 2,
   "id": "6e017ecc",
   "metadata": {},
   "outputs": [],
   "source": [
    "load_dotenv()\n",
    "\n",
    "conn = pg2.connect(\n",
    "    database = os.getenv('POSTGRES_DATABASE'),\n",
    "    user = os.getenv('POSTGRES_USER'),\n",
    "    password = os.getenv('POSTGRES_PASSWORD')\n",
    ")\n",
    "\n",
    "cursor = conn.cursor()\n",
    "\n",
    "cursor.execute('''\n",
    "    SELECT\n",
    "        id,\n",
    "        name,\n",
    "        neighborhood_group,\n",
    "        neighborhood,\n",
    "        amenities,\n",
    "        price\n",
    "            FROM nyc_airbnb\n",
    "''')\n",
    "\n",
    "result = cursor.fetchall()"
   ]
  },
  {
   "cell_type": "code",
   "execution_count": 3,
   "id": "8d736d4c",
   "metadata": {},
   "outputs": [],
   "source": [
    "df = pd.DataFrame(data = result)"
   ]
  },
  {
   "cell_type": "code",
   "execution_count": 4,
   "id": "cc7b0a11",
   "metadata": {},
   "outputs": [
    {
     "data": {
      "text/html": [
       "<div>\n",
       "<style scoped>\n",
       "    .dataframe tbody tr th:only-of-type {\n",
       "        vertical-align: middle;\n",
       "    }\n",
       "\n",
       "    .dataframe tbody tr th {\n",
       "        vertical-align: top;\n",
       "    }\n",
       "\n",
       "    .dataframe thead th {\n",
       "        text-align: right;\n",
       "    }\n",
       "</style>\n",
       "<table border=\"1\" class=\"dataframe\">\n",
       "  <thead>\n",
       "    <tr style=\"text-align: right;\">\n",
       "      <th></th>\n",
       "      <th>0</th>\n",
       "      <th>1</th>\n",
       "      <th>2</th>\n",
       "      <th>3</th>\n",
       "      <th>4</th>\n",
       "      <th>5</th>\n",
       "    </tr>\n",
       "  </thead>\n",
       "  <tbody>\n",
       "    <tr>\n",
       "      <th>0</th>\n",
       "      <td>808139</td>\n",
       "      <td>Fabulous Garden Apartment in Central Harlem</td>\n",
       "      <td>Manhattan</td>\n",
       "      <td>Harlem</td>\n",
       "      <td>[Essentials, Backyard, Dishwasher, Heating, Mi...</td>\n",
       "      <td>140</td>\n",
       "    </tr>\n",
       "    <tr>\n",
       "      <th>1</th>\n",
       "      <td>808476</td>\n",
       "      <td>Great Space / Private Room</td>\n",
       "      <td>Manhattan</td>\n",
       "      <td>Washington Heights</td>\n",
       "      <td>[Long term stays allowed, TV, Wifi, Fire extin...</td>\n",
       "      <td>85</td>\n",
       "    </tr>\n",
       "    <tr>\n",
       "      <th>2</th>\n",
       "      <td>808618</td>\n",
       "      <td>Spacious &amp; Sunny in Scenic Kw Gdns</td>\n",
       "      <td>Queens</td>\n",
       "      <td>Kew Gardens</td>\n",
       "      <td>[Essentials, Free street parking, Long term st...</td>\n",
       "      <td>64</td>\n",
       "    </tr>\n",
       "    <tr>\n",
       "      <th>3</th>\n",
       "      <td>808705</td>\n",
       "      <td>ONE BED/ LUXURY @ COLUMBUS CIRCLE!</td>\n",
       "      <td>Manhattan</td>\n",
       "      <td>Hell's Kitchen</td>\n",
       "      <td>[Essentials, TV with standard cable, Long term...</td>\n",
       "      <td>139</td>\n",
       "    </tr>\n",
       "    <tr>\n",
       "      <th>4</th>\n",
       "      <td>808774</td>\n",
       "      <td>Chic 1 bd apt in Prime Williamsburg</td>\n",
       "      <td>Brooklyn</td>\n",
       "      <td>Williamsburg</td>\n",
       "      <td>[Essentials, Heating, Dryer, Microwave, Free s...</td>\n",
       "      <td>150</td>\n",
       "    </tr>\n",
       "  </tbody>\n",
       "</table>\n",
       "</div>"
      ],
      "text/plain": [
       "        0                                            1          2  \\\n",
       "0  808139  Fabulous Garden Apartment in Central Harlem  Manhattan   \n",
       "1  808476                   Great Space / Private Room  Manhattan   \n",
       "2  808618           Spacious & Sunny in Scenic Kw Gdns     Queens   \n",
       "3  808705           ONE BED/ LUXURY @ COLUMBUS CIRCLE!  Manhattan   \n",
       "4  808774          Chic 1 bd apt in Prime Williamsburg   Brooklyn   \n",
       "\n",
       "                    3                                                  4    5  \n",
       "0              Harlem  [Essentials, Backyard, Dishwasher, Heating, Mi...  140  \n",
       "1  Washington Heights  [Long term stays allowed, TV, Wifi, Fire extin...   85  \n",
       "2         Kew Gardens  [Essentials, Free street parking, Long term st...   64  \n",
       "3      Hell's Kitchen  [Essentials, TV with standard cable, Long term...  139  \n",
       "4        Williamsburg  [Essentials, Heating, Dryer, Microwave, Free s...  150  "
      ]
     },
     "execution_count": 4,
     "metadata": {},
     "output_type": "execute_result"
    }
   ],
   "source": [
    "df.head()"
   ]
  },
  {
   "cell_type": "code",
   "execution_count": 5,
   "id": "74aec529",
   "metadata": {},
   "outputs": [],
   "source": [
    "# Recall that price reflects price per night\n",
    "\n",
    "df.rename(columns = {\n",
    "    0: 'id',\n",
    "    1: 'name',\n",
    "    2: 'neighborhood_group',\n",
    "    3: 'neighborhood',\n",
    "    4: 'amenities',\n",
    "    5: 'price'\n",
    "}, inplace = True)"
   ]
  },
  {
   "cell_type": "code",
   "execution_count": 6,
   "id": "fdf7cdd0",
   "metadata": {},
   "outputs": [
    {
     "data": {
      "text/html": [
       "<div>\n",
       "<style scoped>\n",
       "    .dataframe tbody tr th:only-of-type {\n",
       "        vertical-align: middle;\n",
       "    }\n",
       "\n",
       "    .dataframe tbody tr th {\n",
       "        vertical-align: top;\n",
       "    }\n",
       "\n",
       "    .dataframe thead th {\n",
       "        text-align: right;\n",
       "    }\n",
       "</style>\n",
       "<table border=\"1\" class=\"dataframe\">\n",
       "  <thead>\n",
       "    <tr style=\"text-align: right;\">\n",
       "      <th></th>\n",
       "      <th>id</th>\n",
       "      <th>name</th>\n",
       "      <th>neighborhood_group</th>\n",
       "      <th>neighborhood</th>\n",
       "      <th>amenities</th>\n",
       "      <th>price</th>\n",
       "    </tr>\n",
       "  </thead>\n",
       "  <tbody>\n",
       "    <tr>\n",
       "      <th>0</th>\n",
       "      <td>808139</td>\n",
       "      <td>Fabulous Garden Apartment in Central Harlem</td>\n",
       "      <td>Manhattan</td>\n",
       "      <td>Harlem</td>\n",
       "      <td>[Essentials, Backyard, Dishwasher, Heating, Mi...</td>\n",
       "      <td>140</td>\n",
       "    </tr>\n",
       "    <tr>\n",
       "      <th>1</th>\n",
       "      <td>808476</td>\n",
       "      <td>Great Space / Private Room</td>\n",
       "      <td>Manhattan</td>\n",
       "      <td>Washington Heights</td>\n",
       "      <td>[Long term stays allowed, TV, Wifi, Fire extin...</td>\n",
       "      <td>85</td>\n",
       "    </tr>\n",
       "    <tr>\n",
       "      <th>2</th>\n",
       "      <td>808618</td>\n",
       "      <td>Spacious &amp; Sunny in Scenic Kw Gdns</td>\n",
       "      <td>Queens</td>\n",
       "      <td>Kew Gardens</td>\n",
       "      <td>[Essentials, Free street parking, Long term st...</td>\n",
       "      <td>64</td>\n",
       "    </tr>\n",
       "    <tr>\n",
       "      <th>3</th>\n",
       "      <td>808705</td>\n",
       "      <td>ONE BED/ LUXURY @ COLUMBUS CIRCLE!</td>\n",
       "      <td>Manhattan</td>\n",
       "      <td>Hell's Kitchen</td>\n",
       "      <td>[Essentials, TV with standard cable, Long term...</td>\n",
       "      <td>139</td>\n",
       "    </tr>\n",
       "    <tr>\n",
       "      <th>4</th>\n",
       "      <td>808774</td>\n",
       "      <td>Chic 1 bd apt in Prime Williamsburg</td>\n",
       "      <td>Brooklyn</td>\n",
       "      <td>Williamsburg</td>\n",
       "      <td>[Essentials, Heating, Dryer, Microwave, Free s...</td>\n",
       "      <td>150</td>\n",
       "    </tr>\n",
       "  </tbody>\n",
       "</table>\n",
       "</div>"
      ],
      "text/plain": [
       "       id                                         name neighborhood_group  \\\n",
       "0  808139  Fabulous Garden Apartment in Central Harlem          Manhattan   \n",
       "1  808476                   Great Space / Private Room          Manhattan   \n",
       "2  808618           Spacious & Sunny in Scenic Kw Gdns             Queens   \n",
       "3  808705           ONE BED/ LUXURY @ COLUMBUS CIRCLE!          Manhattan   \n",
       "4  808774          Chic 1 bd apt in Prime Williamsburg           Brooklyn   \n",
       "\n",
       "         neighborhood                                          amenities  \\\n",
       "0              Harlem  [Essentials, Backyard, Dishwasher, Heating, Mi...   \n",
       "1  Washington Heights  [Long term stays allowed, TV, Wifi, Fire extin...   \n",
       "2         Kew Gardens  [Essentials, Free street parking, Long term st...   \n",
       "3      Hell's Kitchen  [Essentials, TV with standard cable, Long term...   \n",
       "4        Williamsburg  [Essentials, Heating, Dryer, Microwave, Free s...   \n",
       "\n",
       "   price  \n",
       "0    140  \n",
       "1     85  \n",
       "2     64  \n",
       "3    139  \n",
       "4    150  "
      ]
     },
     "execution_count": 6,
     "metadata": {},
     "output_type": "execute_result"
    }
   ],
   "source": [
    "df.head()"
   ]
  },
  {
   "cell_type": "code",
   "execution_count": 7,
   "id": "93f208b3",
   "metadata": {},
   "outputs": [],
   "source": [
    "# Create a series that gives each item in the listing's 'amenities' list a row\n",
    "# a_list is short for amenities list\n",
    "\n",
    "a_list = pd.Series(np.concatenate(df['amenities']))"
   ]
  },
  {
   "cell_type": "code",
   "execution_count": 17,
   "id": "8ed265bf",
   "metadata": {},
   "outputs": [
    {
     "data": {
      "text/plain": [
       "<AxesSubplot:>"
      ]
     },
     "execution_count": 17,
     "metadata": {},
     "output_type": "execute_result"
    },
    {
     "data": {
      "image/png": "[encoded data removed]",
      "text/plain": [
       "<Figure size 720x360 with 1 Axes>"
      ]
     },
     "metadata": {},
     "output_type": "display_data"
    }
   ],
   "source": [
    "a_list.value_counts().nlargest(25).plot(kind = 'bar', figsize = (10, 5))"
   ]
  },
  {
   "cell_type": "markdown",
   "id": "0efc5baf",
   "metadata": {},
   "source": [
    "From the above, we can conclude that the most common amenities are wifi, along with safety and kitchen essentials.\n",
    "\n",
    "Clarification for what are considered essentials can be found [here](https://www.airbnb.com/help/article/2343/what-are-essential-amenities), and information regarding long term stays can be found [here](https://www.airbnb.com/help/article/1354/what-are-some-differences-between-longterm-hosting-and-shortterm-hosting).\n",
    "\n",
    "From the long term stays link \"some jurisdictions, guests may establish rights as a tenant after a month, so we encourage hosts to be knowledgeable about their local laws.\" More information about New York City short term rental laws can be found [here](https://www1.nyc.gov/site/specialenforcement/stay-in-the-know/information-for-hosts.page)."
   ]
  },
  {
   "cell_type": "code",
   "execution_count": null,
   "id": "9951aa0f",
   "metadata": {},
   "outputs": [],
   "source": []
  }
 ],
 "metadata": {
  "kernelspec": {
   "display_name": "Python 3",
   "language": "python",
   "name": "python3"
  },
  "language_info": {
   "codemirror_mode": {
    "name": "ipython",
    "version": 3
   },
   "file_extension": ".py",
   "mimetype": "text/x-python",
   "name": "python",
   "nbconvert_exporter": "python",
   "pygments_lexer": "ipython3",
   "version": "3.8.10"
  }
 },
 "nbformat": 4,
 "nbformat_minor": 5
}
