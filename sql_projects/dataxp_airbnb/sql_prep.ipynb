{
 "cells": [
  {
   "cell_type": "code",
   "execution_count": 1,
   "id": "1b8b3a8d",
   "metadata": {},
   "outputs": [],
   "source": [
    "import numpy as np\n",
    "import pandas as pd"
   ]
  },
  {
   "cell_type": "code",
   "execution_count": 2,
   "id": "ec1e047c",
   "metadata": {},
   "outputs": [],
   "source": [
    "nyc_detailed = pd.read_csv('../../data/dataxp/airbnb/raw_data/nyc_detailed_listings.csv')\n",
    "nyc_listings = pd.read_csv('../../data/dataxp/airbnb/raw_data/nyc_listings.csv')"
   ]
  },
  {
   "cell_type": "code",
   "execution_count": 3,
   "id": "8491e2d8",
   "metadata": {},
   "outputs": [
    {
     "data": {
      "text/html": [
       "<div>\n",
       "<style scoped>\n",
       "    .dataframe tbody tr th:only-of-type {\n",
       "        vertical-align: middle;\n",
       "    }\n",
       "\n",
       "    .dataframe tbody tr th {\n",
       "        vertical-align: top;\n",
       "    }\n",
       "\n",
       "    .dataframe thead th {\n",
       "        text-align: right;\n",
       "    }\n",
       "</style>\n",
       "<table border=\"1\" class=\"dataframe\">\n",
       "  <thead>\n",
       "    <tr style=\"text-align: right;\">\n",
       "      <th></th>\n",
       "      <th>id</th>\n",
       "      <th>listing_url</th>\n",
       "      <th>scrape_id</th>\n",
       "      <th>last_scraped</th>\n",
       "      <th>name</th>\n",
       "      <th>description</th>\n",
       "      <th>neighborhood_overview</th>\n",
       "      <th>picture_url</th>\n",
       "      <th>host_id</th>\n",
       "      <th>host_url</th>\n",
       "      <th>...</th>\n",
       "      <th>review_scores_communication</th>\n",
       "      <th>review_scores_location</th>\n",
       "      <th>review_scores_value</th>\n",
       "      <th>license</th>\n",
       "      <th>instant_bookable</th>\n",
       "      <th>calculated_host_listings_count</th>\n",
       "      <th>calculated_host_listings_count_entire_homes</th>\n",
       "      <th>calculated_host_listings_count_private_rooms</th>\n",
       "      <th>calculated_host_listings_count_shared_rooms</th>\n",
       "      <th>reviews_per_month</th>\n",
       "    </tr>\n",
       "  </thead>\n",
       "  <tbody>\n",
       "    <tr>\n",
       "      <th>0</th>\n",
       "      <td>2595</td>\n",
       "      <td>https://www.airbnb.com/rooms/2595</td>\n",
       "      <td>20210804005827</td>\n",
       "      <td>2021-08-04</td>\n",
       "      <td>Skylit Midtown Castle</td>\n",
       "      <td>Beautiful, spacious skylit studio in the heart...</td>\n",
       "      <td>Centrally located in the heart of Manhattan ju...</td>\n",
       "      <td>https://a0.muscache.com/pictures/f0813a11-40b2...</td>\n",
       "      <td>2845</td>\n",
       "      <td>https://www.airbnb.com/users/show/2845</td>\n",
       "      <td>...</td>\n",
       "      <td>4.79</td>\n",
       "      <td>4.86</td>\n",
       "      <td>4.41</td>\n",
       "      <td>NaN</td>\n",
       "      <td>f</td>\n",
       "      <td>3</td>\n",
       "      <td>3</td>\n",
       "      <td>0</td>\n",
       "      <td>0</td>\n",
       "      <td>0.34</td>\n",
       "    </tr>\n",
       "    <tr>\n",
       "      <th>1</th>\n",
       "      <td>3831</td>\n",
       "      <td>https://www.airbnb.com/rooms/3831</td>\n",
       "      <td>20210804005827</td>\n",
       "      <td>2021-08-04</td>\n",
       "      <td>Whole flr w/private bdrm, bath &amp; kitchen(pls r...</td>\n",
       "      <td>Enjoy 500 s.f. top floor in 1899 brownstone, w...</td>\n",
       "      <td>Just the right mix of urban center and local n...</td>\n",
       "      <td>https://a0.muscache.com/pictures/e49999c2-9fd5...</td>\n",
       "      <td>4869</td>\n",
       "      <td>https://www.airbnb.com/users/show/4869</td>\n",
       "      <td>...</td>\n",
       "      <td>4.81</td>\n",
       "      <td>4.72</td>\n",
       "      <td>4.65</td>\n",
       "      <td>NaN</td>\n",
       "      <td>f</td>\n",
       "      <td>1</td>\n",
       "      <td>1</td>\n",
       "      <td>0</td>\n",
       "      <td>0</td>\n",
       "      <td>5.09</td>\n",
       "    </tr>\n",
       "    <tr>\n",
       "      <th>2</th>\n",
       "      <td>5121</td>\n",
       "      <td>https://www.airbnb.com/rooms/5121</td>\n",
       "      <td>20210804005827</td>\n",
       "      <td>2021-08-04</td>\n",
       "      <td>BlissArtsSpace!</td>\n",
       "      <td>&lt;b&gt;The space&lt;/b&gt;&lt;br /&gt;HELLO EVERYONE AND THANK...</td>\n",
       "      <td>NaN</td>\n",
       "      <td>https://a0.muscache.com/pictures/2090980c-b68e...</td>\n",
       "      <td>7356</td>\n",
       "      <td>https://www.airbnb.com/users/show/7356</td>\n",
       "      <td>...</td>\n",
       "      <td>4.91</td>\n",
       "      <td>4.47</td>\n",
       "      <td>4.52</td>\n",
       "      <td>NaN</td>\n",
       "      <td>f</td>\n",
       "      <td>1</td>\n",
       "      <td>0</td>\n",
       "      <td>1</td>\n",
       "      <td>0</td>\n",
       "      <td>0.55</td>\n",
       "    </tr>\n",
       "    <tr>\n",
       "      <th>3</th>\n",
       "      <td>5136</td>\n",
       "      <td>https://www.airbnb.com/rooms/5136</td>\n",
       "      <td>20210804005827</td>\n",
       "      <td>2021-08-04</td>\n",
       "      <td>Spacious Brooklyn Duplex, Patio + Garden</td>\n",
       "      <td>We welcome you to stay in our lovely 2 br dupl...</td>\n",
       "      <td>NaN</td>\n",
       "      <td>https://a0.muscache.com/pictures/miso/Hosting-...</td>\n",
       "      <td>7378</td>\n",
       "      <td>https://www.airbnb.com/users/show/7378</td>\n",
       "      <td>...</td>\n",
       "      <td>5.00</td>\n",
       "      <td>4.00</td>\n",
       "      <td>5.00</td>\n",
       "      <td>NaN</td>\n",
       "      <td>f</td>\n",
       "      <td>1</td>\n",
       "      <td>1</td>\n",
       "      <td>0</td>\n",
       "      <td>0</td>\n",
       "      <td>0.01</td>\n",
       "    </tr>\n",
       "    <tr>\n",
       "      <th>4</th>\n",
       "      <td>5178</td>\n",
       "      <td>https://www.airbnb.com/rooms/5178</td>\n",
       "      <td>20210804005827</td>\n",
       "      <td>2021-08-04</td>\n",
       "      <td>Large Furnished Room Near B'way</td>\n",
       "      <td>Please don’t expect the luxury here just a bas...</td>\n",
       "      <td>Theater district, many restaurants around here.</td>\n",
       "      <td>https://a0.muscache.com/pictures/12065/f070997...</td>\n",
       "      <td>8967</td>\n",
       "      <td>https://www.airbnb.com/users/show/8967</td>\n",
       "      <td>...</td>\n",
       "      <td>4.40</td>\n",
       "      <td>4.86</td>\n",
       "      <td>4.35</td>\n",
       "      <td>NaN</td>\n",
       "      <td>f</td>\n",
       "      <td>1</td>\n",
       "      <td>0</td>\n",
       "      <td>1</td>\n",
       "      <td>0</td>\n",
       "      <td>3.63</td>\n",
       "    </tr>\n",
       "  </tbody>\n",
       "</table>\n",
       "<p>5 rows × 74 columns</p>\n",
       "</div>"
      ],
      "text/plain": [
       "     id                        listing_url       scrape_id last_scraped  \\\n",
       "0  2595  https://www.airbnb.com/rooms/2595  20210804005827   2021-08-04   \n",
       "1  3831  https://www.airbnb.com/rooms/3831  20210804005827   2021-08-04   \n",
       "2  5121  https://www.airbnb.com/rooms/5121  20210804005827   2021-08-04   \n",
       "3  5136  https://www.airbnb.com/rooms/5136  20210804005827   2021-08-04   \n",
       "4  5178  https://www.airbnb.com/rooms/5178  20210804005827   2021-08-04   \n",
       "\n",
       "                                                name  \\\n",
       "0                              Skylit Midtown Castle   \n",
       "1  Whole flr w/private bdrm, bath & kitchen(pls r...   \n",
       "2                                    BlissArtsSpace!   \n",
       "3           Spacious Brooklyn Duplex, Patio + Garden   \n",
       "4                   Large Furnished Room Near B'way　   \n",
       "\n",
       "                                         description  \\\n",
       "0  Beautiful, spacious skylit studio in the heart...   \n",
       "1  Enjoy 500 s.f. top floor in 1899 brownstone, w...   \n",
       "2  <b>The space</b><br />HELLO EVERYONE AND THANK...   \n",
       "3  We welcome you to stay in our lovely 2 br dupl...   \n",
       "4  Please don’t expect the luxury here just a bas...   \n",
       "\n",
       "                               neighborhood_overview  \\\n",
       "0  Centrally located in the heart of Manhattan ju...   \n",
       "1  Just the right mix of urban center and local n...   \n",
       "2                                                NaN   \n",
       "3                                                NaN   \n",
       "4    Theater district, many restaurants around here.   \n",
       "\n",
       "                                         picture_url  host_id  \\\n",
       "0  https://a0.muscache.com/pictures/f0813a11-40b2...     2845   \n",
       "1  https://a0.muscache.com/pictures/e49999c2-9fd5...     4869   \n",
       "2  https://a0.muscache.com/pictures/2090980c-b68e...     7356   \n",
       "3  https://a0.muscache.com/pictures/miso/Hosting-...     7378   \n",
       "4  https://a0.muscache.com/pictures/12065/f070997...     8967   \n",
       "\n",
       "                                 host_url  ... review_scores_communication  \\\n",
       "0  https://www.airbnb.com/users/show/2845  ...                        4.79   \n",
       "1  https://www.airbnb.com/users/show/4869  ...                        4.81   \n",
       "2  https://www.airbnb.com/users/show/7356  ...                        4.91   \n",
       "3  https://www.airbnb.com/users/show/7378  ...                        5.00   \n",
       "4  https://www.airbnb.com/users/show/8967  ...                        4.40   \n",
       "\n",
       "  review_scores_location review_scores_value license instant_bookable  \\\n",
       "0                   4.86                4.41     NaN                f   \n",
       "1                   4.72                4.65     NaN                f   \n",
       "2                   4.47                4.52     NaN                f   \n",
       "3                   4.00                5.00     NaN                f   \n",
       "4                   4.86                4.35     NaN                f   \n",
       "\n",
       "  calculated_host_listings_count calculated_host_listings_count_entire_homes  \\\n",
       "0                              3                                           3   \n",
       "1                              1                                           1   \n",
       "2                              1                                           0   \n",
       "3                              1                                           1   \n",
       "4                              1                                           0   \n",
       "\n",
       "  calculated_host_listings_count_private_rooms  \\\n",
       "0                                            0   \n",
       "1                                            0   \n",
       "2                                            1   \n",
       "3                                            0   \n",
       "4                                            1   \n",
       "\n",
       "  calculated_host_listings_count_shared_rooms reviews_per_month  \n",
       "0                                           0              0.34  \n",
       "1                                           0              5.09  \n",
       "2                                           0              0.55  \n",
       "3                                           0              0.01  \n",
       "4                                           0              3.63  \n",
       "\n",
       "[5 rows x 74 columns]"
      ]
     },
     "execution_count": 3,
     "metadata": {},
     "output_type": "execute_result"
    }
   ],
   "source": [
    "nyc_detailed.head()"
   ]
  },
  {
   "cell_type": "code",
   "execution_count": 4,
   "id": "c51eeee2",
   "metadata": {},
   "outputs": [
    {
     "data": {
      "text/html": [
       "<div>\n",
       "<style scoped>\n",
       "    .dataframe tbody tr th:only-of-type {\n",
       "        vertical-align: middle;\n",
       "    }\n",
       "\n",
       "    .dataframe tbody tr th {\n",
       "        vertical-align: top;\n",
       "    }\n",
       "\n",
       "    .dataframe thead th {\n",
       "        text-align: right;\n",
       "    }\n",
       "</style>\n",
       "<table border=\"1\" class=\"dataframe\">\n",
       "  <thead>\n",
       "    <tr style=\"text-align: right;\">\n",
       "      <th></th>\n",
       "      <th>id</th>\n",
       "      <th>name</th>\n",
       "      <th>host_id</th>\n",
       "      <th>host_name</th>\n",
       "      <th>neighbourhood_group</th>\n",
       "      <th>neighbourhood</th>\n",
       "      <th>latitude</th>\n",
       "      <th>longitude</th>\n",
       "      <th>room_type</th>\n",
       "      <th>price</th>\n",
       "      <th>minimum_nights</th>\n",
       "      <th>number_of_reviews</th>\n",
       "      <th>last_review</th>\n",
       "      <th>reviews_per_month</th>\n",
       "      <th>calculated_host_listings_count</th>\n",
       "      <th>availability_365</th>\n",
       "      <th>number_of_reviews_ltm</th>\n",
       "      <th>license</th>\n",
       "    </tr>\n",
       "  </thead>\n",
       "  <tbody>\n",
       "    <tr>\n",
       "      <th>0</th>\n",
       "      <td>2595</td>\n",
       "      <td>Skylit Midtown Castle</td>\n",
       "      <td>2845</td>\n",
       "      <td>Jennifer</td>\n",
       "      <td>Manhattan</td>\n",
       "      <td>Midtown</td>\n",
       "      <td>40.75356</td>\n",
       "      <td>-73.98559</td>\n",
       "      <td>Entire home/apt</td>\n",
       "      <td>150</td>\n",
       "      <td>30</td>\n",
       "      <td>48</td>\n",
       "      <td>2019-11-04</td>\n",
       "      <td>0.34</td>\n",
       "      <td>3</td>\n",
       "      <td>341</td>\n",
       "      <td>0</td>\n",
       "      <td>NaN</td>\n",
       "    </tr>\n",
       "    <tr>\n",
       "      <th>1</th>\n",
       "      <td>3831</td>\n",
       "      <td>Whole flr w/private bdrm, bath &amp; kitchen(pls r...</td>\n",
       "      <td>4869</td>\n",
       "      <td>LisaRoxanne</td>\n",
       "      <td>Brooklyn</td>\n",
       "      <td>Bedford-Stuyvesant</td>\n",
       "      <td>40.68494</td>\n",
       "      <td>-73.95765</td>\n",
       "      <td>Entire home/apt</td>\n",
       "      <td>75</td>\n",
       "      <td>1</td>\n",
       "      <td>408</td>\n",
       "      <td>2021-06-29</td>\n",
       "      <td>5.09</td>\n",
       "      <td>1</td>\n",
       "      <td>212</td>\n",
       "      <td>68</td>\n",
       "      <td>NaN</td>\n",
       "    </tr>\n",
       "    <tr>\n",
       "      <th>2</th>\n",
       "      <td>5121</td>\n",
       "      <td>BlissArtsSpace!</td>\n",
       "      <td>7356</td>\n",
       "      <td>Garon</td>\n",
       "      <td>Brooklyn</td>\n",
       "      <td>Bedford-Stuyvesant</td>\n",
       "      <td>40.68535</td>\n",
       "      <td>-73.95512</td>\n",
       "      <td>Private room</td>\n",
       "      <td>60</td>\n",
       "      <td>30</td>\n",
       "      <td>50</td>\n",
       "      <td>2016-06-05</td>\n",
       "      <td>0.55</td>\n",
       "      <td>1</td>\n",
       "      <td>365</td>\n",
       "      <td>0</td>\n",
       "      <td>NaN</td>\n",
       "    </tr>\n",
       "    <tr>\n",
       "      <th>3</th>\n",
       "      <td>5136</td>\n",
       "      <td>Spacious Brooklyn Duplex, Patio + Garden</td>\n",
       "      <td>7378</td>\n",
       "      <td>Rebecca</td>\n",
       "      <td>Brooklyn</td>\n",
       "      <td>Sunset Park</td>\n",
       "      <td>40.66265</td>\n",
       "      <td>-73.99454</td>\n",
       "      <td>Entire home/apt</td>\n",
       "      <td>275</td>\n",
       "      <td>5</td>\n",
       "      <td>1</td>\n",
       "      <td>2014-01-02</td>\n",
       "      <td>0.01</td>\n",
       "      <td>1</td>\n",
       "      <td>184</td>\n",
       "      <td>0</td>\n",
       "      <td>NaN</td>\n",
       "    </tr>\n",
       "    <tr>\n",
       "      <th>4</th>\n",
       "      <td>5178</td>\n",
       "      <td>Large Furnished Room Near B'way</td>\n",
       "      <td>8967</td>\n",
       "      <td>Shunichi</td>\n",
       "      <td>Manhattan</td>\n",
       "      <td>Midtown</td>\n",
       "      <td>40.76457</td>\n",
       "      <td>-73.98317</td>\n",
       "      <td>Private room</td>\n",
       "      <td>61</td>\n",
       "      <td>2</td>\n",
       "      <td>485</td>\n",
       "      <td>2021-07-18</td>\n",
       "      <td>3.63</td>\n",
       "      <td>1</td>\n",
       "      <td>255</td>\n",
       "      <td>12</td>\n",
       "      <td>NaN</td>\n",
       "    </tr>\n",
       "  </tbody>\n",
       "</table>\n",
       "</div>"
      ],
      "text/plain": [
       "     id                                               name  host_id  \\\n",
       "0  2595                              Skylit Midtown Castle     2845   \n",
       "1  3831  Whole flr w/private bdrm, bath & kitchen(pls r...     4869   \n",
       "2  5121                                    BlissArtsSpace!     7356   \n",
       "3  5136           Spacious Brooklyn Duplex, Patio + Garden     7378   \n",
       "4  5178                   Large Furnished Room Near B'way　     8967   \n",
       "\n",
       "     host_name neighbourhood_group       neighbourhood  latitude  longitude  \\\n",
       "0     Jennifer           Manhattan             Midtown  40.75356  -73.98559   \n",
       "1  LisaRoxanne            Brooklyn  Bedford-Stuyvesant  40.68494  -73.95765   \n",
       "2        Garon            Brooklyn  Bedford-Stuyvesant  40.68535  -73.95512   \n",
       "3      Rebecca            Brooklyn         Sunset Park  40.66265  -73.99454   \n",
       "4     Shunichi           Manhattan             Midtown  40.76457  -73.98317   \n",
       "\n",
       "         room_type  price  minimum_nights  number_of_reviews last_review  \\\n",
       "0  Entire home/apt    150              30                 48  2019-11-04   \n",
       "1  Entire home/apt     75               1                408  2021-06-29   \n",
       "2     Private room     60              30                 50  2016-06-05   \n",
       "3  Entire home/apt    275               5                  1  2014-01-02   \n",
       "4     Private room     61               2                485  2021-07-18   \n",
       "\n",
       "   reviews_per_month  calculated_host_listings_count  availability_365  \\\n",
       "0               0.34                               3               341   \n",
       "1               5.09                               1               212   \n",
       "2               0.55                               1               365   \n",
       "3               0.01                               1               184   \n",
       "4               3.63                               1               255   \n",
       "\n",
       "   number_of_reviews_ltm  license  \n",
       "0                      0      NaN  \n",
       "1                     68      NaN  \n",
       "2                      0      NaN  \n",
       "3                      0      NaN  \n",
       "4                     12      NaN  "
      ]
     },
     "execution_count": 4,
     "metadata": {},
     "output_type": "execute_result"
    }
   ],
   "source": [
    "nyc_listings.head()"
   ]
  },
  {
   "cell_type": "markdown",
   "id": "c5ad4ff6",
   "metadata": {},
   "source": [
    "## Preparing the Data\n",
    "\n",
    "The purpose of this analysis is to guide homeowners in New York City to a price if they decide to list their residence on AirBNB. We will select the relevant data from both `.csv` files, merge them to one DataFrame, and then clean the data as necessary."
   ]
  },
  {
   "cell_type": "code",
   "execution_count": 5,
   "id": "10986bd1",
   "metadata": {},
   "outputs": [
    {
     "name": "stdout",
     "output_type": "stream",
     "text": [
      "<class 'pandas.core.frame.DataFrame'>\n",
      "RangeIndex: 36724 entries, 0 to 36723\n",
      "Data columns (total 74 columns):\n",
      " #   Column                                        Non-Null Count  Dtype  \n",
      "---  ------                                        --------------  -----  \n",
      " 0   id                                            36724 non-null  int64  \n",
      " 1   listing_url                                   36724 non-null  object \n",
      " 2   scrape_id                                     36724 non-null  int64  \n",
      " 3   last_scraped                                  36724 non-null  object \n",
      " 4   name                                          36711 non-null  object \n",
      " 5   description                                   35488 non-null  object \n",
      " 6   neighborhood_overview                         22591 non-null  object \n",
      " 7   picture_url                                   36724 non-null  object \n",
      " 8   host_id                                       36724 non-null  int64  \n",
      " 9   host_url                                      36724 non-null  object \n",
      " 10  host_name                                     36701 non-null  object \n",
      " 11  host_since                                    36701 non-null  object \n",
      " 12  host_location                                 36605 non-null  object \n",
      " 13  host_about                                    21692 non-null  object \n",
      " 14  host_response_time                            21048 non-null  object \n",
      " 15  host_response_rate                            21048 non-null  object \n",
      " 16  host_acceptance_rate                          21538 non-null  object \n",
      " 17  host_is_superhost                             36701 non-null  object \n",
      " 18  host_thumbnail_url                            36701 non-null  object \n",
      " 19  host_picture_url                              36701 non-null  object \n",
      " 20  host_neighbourhood                            29853 non-null  object \n",
      " 21  host_listings_count                           36701 non-null  float64\n",
      " 22  host_total_listings_count                     36701 non-null  float64\n",
      " 23  host_verifications                            36724 non-null  object \n",
      " 24  host_has_profile_pic                          36701 non-null  object \n",
      " 25  host_identity_verified                        36701 non-null  object \n",
      " 26  neighbourhood                                 22592 non-null  object \n",
      " 27  neighbourhood_cleansed                        36724 non-null  object \n",
      " 28  neighbourhood_group_cleansed                  36724 non-null  object \n",
      " 29  latitude                                      36724 non-null  float64\n",
      " 30  longitude                                     36724 non-null  float64\n",
      " 31  property_type                                 36724 non-null  object \n",
      " 32  room_type                                     36724 non-null  object \n",
      " 33  accommodates                                  36724 non-null  int64  \n",
      " 34  bathrooms                                     0 non-null      float64\n",
      " 35  bathrooms_text                                36615 non-null  object \n",
      " 36  bedrooms                                      32855 non-null  float64\n",
      " 37  beds                                          36130 non-null  float64\n",
      " 38  amenities                                     36724 non-null  object \n",
      " 39  price                                         36724 non-null  object \n",
      " 40  minimum_nights                                36724 non-null  int64  \n",
      " 41  maximum_nights                                36724 non-null  int64  \n",
      " 42  minimum_minimum_nights                        36707 non-null  float64\n",
      " 43  maximum_minimum_nights                        36707 non-null  float64\n",
      " 44  minimum_maximum_nights                        36707 non-null  float64\n",
      " 45  maximum_maximum_nights                        36707 non-null  float64\n",
      " 46  minimum_nights_avg_ntm                        36707 non-null  float64\n",
      " 47  maximum_nights_avg_ntm                        36707 non-null  float64\n",
      " 48  calendar_updated                              0 non-null      float64\n",
      " 49  has_availability                              36724 non-null  object \n",
      " 50  availability_30                               36724 non-null  int64  \n",
      " 51  availability_60                               36724 non-null  int64  \n",
      " 52  availability_90                               36724 non-null  int64  \n",
      " 53  availability_365                              36724 non-null  int64  \n",
      " 54  calendar_last_scraped                         36724 non-null  object \n",
      " 55  number_of_reviews                             36724 non-null  int64  \n",
      " 56  number_of_reviews_ltm                         36724 non-null  int64  \n",
      " 57  number_of_reviews_l30d                        36724 non-null  int64  \n",
      " 58  first_review                                  27309 non-null  object \n",
      " 59  last_review                                   27309 non-null  object \n",
      " 60  review_scores_rating                          27309 non-null  float64\n",
      " 61  review_scores_accuracy                        26661 non-null  float64\n",
      " 62  review_scores_cleanliness                     26672 non-null  float64\n",
      " 63  review_scores_checkin                         26653 non-null  float64\n",
      " 64  review_scores_communication                   26664 non-null  float64\n",
      " 65  review_scores_location                        26649 non-null  float64\n",
      " 66  review_scores_value                           26649 non-null  float64\n",
      " 67  license                                       0 non-null      float64\n",
      " 68  instant_bookable                              36724 non-null  object \n",
      " 69  calculated_host_listings_count                36724 non-null  int64  \n",
      " 70  calculated_host_listings_count_entire_homes   36724 non-null  int64  \n",
      " 71  calculated_host_listings_count_private_rooms  36724 non-null  int64  \n",
      " 72  calculated_host_listings_count_shared_rooms   36724 non-null  int64  \n",
      " 73  reviews_per_month                             27309 non-null  float64\n",
      "dtypes: float64(23), int64(17), object(34)\n",
      "memory usage: 20.7+ MB\n"
     ]
    }
   ],
   "source": [
    "nyc_detailed.info()"
   ]
  },
  {
   "cell_type": "code",
   "execution_count": 6,
   "id": "d4206a19",
   "metadata": {},
   "outputs": [
    {
     "name": "stdout",
     "output_type": "stream",
     "text": [
      "<class 'pandas.core.frame.DataFrame'>\n",
      "RangeIndex: 36724 entries, 0 to 36723\n",
      "Data columns (total 18 columns):\n",
      " #   Column                          Non-Null Count  Dtype  \n",
      "---  ------                          --------------  -----  \n",
      " 0   id                              36724 non-null  int64  \n",
      " 1   name                            36711 non-null  object \n",
      " 2   host_id                         36724 non-null  int64  \n",
      " 3   host_name                       36701 non-null  object \n",
      " 4   neighbourhood_group             36724 non-null  object \n",
      " 5   neighbourhood                   36724 non-null  object \n",
      " 6   latitude                        36724 non-null  float64\n",
      " 7   longitude                       36724 non-null  float64\n",
      " 8   room_type                       36724 non-null  object \n",
      " 9   price                           36724 non-null  int64  \n",
      " 10  minimum_nights                  36724 non-null  int64  \n",
      " 11  number_of_reviews               36724 non-null  int64  \n",
      " 12  last_review                     27309 non-null  object \n",
      " 13  reviews_per_month               27309 non-null  float64\n",
      " 14  calculated_host_listings_count  36724 non-null  int64  \n",
      " 15  availability_365                36724 non-null  int64  \n",
      " 16  number_of_reviews_ltm           36724 non-null  int64  \n",
      " 17  license                         0 non-null      float64\n",
      "dtypes: float64(4), int64(8), object(6)\n",
      "memory usage: 5.0+ MB\n"
     ]
    }
   ],
   "source": [
    "nyc_listings.info()"
   ]
  },
  {
   "cell_type": "markdown",
   "id": "e1ec7e51",
   "metadata": {},
   "source": [
    "## Choosing Which Columns to Add to `nyc_listings`"
   ]
  },
  {
   "cell_type": "markdown",
   "id": "0a3cb857",
   "metadata": {},
   "source": [
    "The following columns from `nyc_detailed` may be useful for analysis.\n",
    "* host_response_time\n",
    "* host_response_rate\n",
    "* host_has_profile_pic\n",
    "* property_type\n",
    "* bedrooms\n",
    "* bathrooms_text (notice that bathrooms has 0 non-null values.)\n",
    "* description (may be helpful for NLP)\n",
    "* accommodates (number of people that the listing can hold)\n",
    "* amenities\n",
    "* maximum_nights\n",
    "* review_scores_rating\n",
    "* review_scores_cleanliness\n",
    "* review_scores_value\n",
    "* review_scores_communication\n",
    "* instant_bookable (Whether the guest can automatically book the listing without the host requiring to accept their booking request. An indicator of a commercial listing.)"
   ]
  },
  {
   "cell_type": "code",
   "execution_count": 7,
   "id": "da07f180",
   "metadata": {},
   "outputs": [],
   "source": [
    "keep_columns = [\n",
    "    'id', # This is likely the column on which to merge.\n",
    "    'last_scraped',\n",
    "    'host_response_time',\n",
    "    'host_response_rate',\n",
    "    'host_has_profile_pic',\n",
    "    'property_type',\n",
    "    'bedrooms',\n",
    "    'bathrooms_text',\n",
    "    'description',\n",
    "    'accommodates',\n",
    "    'amenities',\n",
    "    'maximum_nights',\n",
    "    'review_scores_rating',\n",
    "    'review_scores_cleanliness',\n",
    "    'review_scores_value',\n",
    "    'review_scores_communication',\n",
    "    'instant_bookable'\n",
    "]"
   ]
  },
  {
   "cell_type": "code",
   "execution_count": 8,
   "id": "b3a9e2a9",
   "metadata": {},
   "outputs": [
    {
     "data": {
      "text/plain": [
       "True"
      ]
     },
     "execution_count": 8,
     "metadata": {},
     "output_type": "execute_result"
    }
   ],
   "source": [
    "# Make sure that the columns are equal prior to merging.\n",
    "\n",
    "nyc_detailed['id'].equals(nyc_listings['id'])"
   ]
  },
  {
   "cell_type": "code",
   "execution_count": 9,
   "id": "4835431b",
   "metadata": {},
   "outputs": [
    {
     "data": {
      "text/html": [
       "<div>\n",
       "<style scoped>\n",
       "    .dataframe tbody tr th:only-of-type {\n",
       "        vertical-align: middle;\n",
       "    }\n",
       "\n",
       "    .dataframe tbody tr th {\n",
       "        vertical-align: top;\n",
       "    }\n",
       "\n",
       "    .dataframe thead th {\n",
       "        text-align: right;\n",
       "    }\n",
       "</style>\n",
       "<table border=\"1\" class=\"dataframe\">\n",
       "  <thead>\n",
       "    <tr style=\"text-align: right;\">\n",
       "      <th></th>\n",
       "      <th>id</th>\n",
       "      <th>name</th>\n",
       "      <th>host_id</th>\n",
       "      <th>host_name</th>\n",
       "      <th>neighbourhood_group</th>\n",
       "      <th>neighbourhood</th>\n",
       "      <th>latitude</th>\n",
       "      <th>longitude</th>\n",
       "      <th>room_type</th>\n",
       "      <th>price</th>\n",
       "      <th>...</th>\n",
       "      <th>bathrooms_text</th>\n",
       "      <th>description</th>\n",
       "      <th>accommodates</th>\n",
       "      <th>amenities</th>\n",
       "      <th>maximum_nights</th>\n",
       "      <th>review_scores_rating</th>\n",
       "      <th>review_scores_cleanliness</th>\n",
       "      <th>review_scores_value</th>\n",
       "      <th>review_scores_communication</th>\n",
       "      <th>instant_bookable</th>\n",
       "    </tr>\n",
       "  </thead>\n",
       "  <tbody>\n",
       "    <tr>\n",
       "      <th>0</th>\n",
       "      <td>2595</td>\n",
       "      <td>Skylit Midtown Castle</td>\n",
       "      <td>2845</td>\n",
       "      <td>Jennifer</td>\n",
       "      <td>Manhattan</td>\n",
       "      <td>Midtown</td>\n",
       "      <td>40.75356</td>\n",
       "      <td>-73.98559</td>\n",
       "      <td>Entire home/apt</td>\n",
       "      <td>150</td>\n",
       "      <td>...</td>\n",
       "      <td>1 bath</td>\n",
       "      <td>Beautiful, spacious skylit studio in the heart...</td>\n",
       "      <td>1</td>\n",
       "      <td>[\"Essentials\", \"Extra pillows and blankets\", \"...</td>\n",
       "      <td>1125</td>\n",
       "      <td>4.70</td>\n",
       "      <td>4.62</td>\n",
       "      <td>4.41</td>\n",
       "      <td>4.79</td>\n",
       "      <td>f</td>\n",
       "    </tr>\n",
       "    <tr>\n",
       "      <th>1</th>\n",
       "      <td>3831</td>\n",
       "      <td>Whole flr w/private bdrm, bath &amp; kitchen(pls r...</td>\n",
       "      <td>4869</td>\n",
       "      <td>LisaRoxanne</td>\n",
       "      <td>Brooklyn</td>\n",
       "      <td>Bedford-Stuyvesant</td>\n",
       "      <td>40.68494</td>\n",
       "      <td>-73.95765</td>\n",
       "      <td>Entire home/apt</td>\n",
       "      <td>75</td>\n",
       "      <td>...</td>\n",
       "      <td>1 bath</td>\n",
       "      <td>Enjoy 500 s.f. top floor in 1899 brownstone, w...</td>\n",
       "      <td>3</td>\n",
       "      <td>[\"Essentials\", \"TV with standard cable\", \"Baby...</td>\n",
       "      <td>730</td>\n",
       "      <td>4.46</td>\n",
       "      <td>4.50</td>\n",
       "      <td>4.65</td>\n",
       "      <td>4.81</td>\n",
       "      <td>f</td>\n",
       "    </tr>\n",
       "    <tr>\n",
       "      <th>2</th>\n",
       "      <td>5121</td>\n",
       "      <td>BlissArtsSpace!</td>\n",
       "      <td>7356</td>\n",
       "      <td>Garon</td>\n",
       "      <td>Brooklyn</td>\n",
       "      <td>Bedford-Stuyvesant</td>\n",
       "      <td>40.68535</td>\n",
       "      <td>-73.95512</td>\n",
       "      <td>Private room</td>\n",
       "      <td>60</td>\n",
       "      <td>...</td>\n",
       "      <td>NaN</td>\n",
       "      <td>&lt;b&gt;The space&lt;/b&gt;&lt;br /&gt;HELLO EVERYONE AND THANK...</td>\n",
       "      <td>2</td>\n",
       "      <td>[\"Long term stays allowed\", \"Air conditioning\"...</td>\n",
       "      <td>730</td>\n",
       "      <td>4.52</td>\n",
       "      <td>4.09</td>\n",
       "      <td>4.52</td>\n",
       "      <td>4.91</td>\n",
       "      <td>f</td>\n",
       "    </tr>\n",
       "    <tr>\n",
       "      <th>3</th>\n",
       "      <td>5136</td>\n",
       "      <td>Spacious Brooklyn Duplex, Patio + Garden</td>\n",
       "      <td>7378</td>\n",
       "      <td>Rebecca</td>\n",
       "      <td>Brooklyn</td>\n",
       "      <td>Sunset Park</td>\n",
       "      <td>40.66265</td>\n",
       "      <td>-73.99454</td>\n",
       "      <td>Entire home/apt</td>\n",
       "      <td>275</td>\n",
       "      <td>...</td>\n",
       "      <td>1.5 baths</td>\n",
       "      <td>We welcome you to stay in our lovely 2 br dupl...</td>\n",
       "      <td>4</td>\n",
       "      <td>[\"TV with standard cable\", \"Long term stays al...</td>\n",
       "      <td>1125</td>\n",
       "      <td>5.00</td>\n",
       "      <td>5.00</td>\n",
       "      <td>5.00</td>\n",
       "      <td>5.00</td>\n",
       "      <td>f</td>\n",
       "    </tr>\n",
       "    <tr>\n",
       "      <th>4</th>\n",
       "      <td>5178</td>\n",
       "      <td>Large Furnished Room Near B'way</td>\n",
       "      <td>8967</td>\n",
       "      <td>Shunichi</td>\n",
       "      <td>Manhattan</td>\n",
       "      <td>Midtown</td>\n",
       "      <td>40.76457</td>\n",
       "      <td>-73.98317</td>\n",
       "      <td>Private room</td>\n",
       "      <td>61</td>\n",
       "      <td>...</td>\n",
       "      <td>1 bath</td>\n",
       "      <td>Please don’t expect the luxury here just a bas...</td>\n",
       "      <td>2</td>\n",
       "      <td>[\"Essentials\", \"Free street parking\", \"TV\", \"W...</td>\n",
       "      <td>14</td>\n",
       "      <td>4.20</td>\n",
       "      <td>3.71</td>\n",
       "      <td>4.35</td>\n",
       "      <td>4.40</td>\n",
       "      <td>f</td>\n",
       "    </tr>\n",
       "  </tbody>\n",
       "</table>\n",
       "<p>5 rows × 34 columns</p>\n",
       "</div>"
      ],
      "text/plain": [
       "     id                                               name  host_id  \\\n",
       "0  2595                              Skylit Midtown Castle     2845   \n",
       "1  3831  Whole flr w/private bdrm, bath & kitchen(pls r...     4869   \n",
       "2  5121                                    BlissArtsSpace!     7356   \n",
       "3  5136           Spacious Brooklyn Duplex, Patio + Garden     7378   \n",
       "4  5178                   Large Furnished Room Near B'way　     8967   \n",
       "\n",
       "     host_name neighbourhood_group       neighbourhood  latitude  longitude  \\\n",
       "0     Jennifer           Manhattan             Midtown  40.75356  -73.98559   \n",
       "1  LisaRoxanne            Brooklyn  Bedford-Stuyvesant  40.68494  -73.95765   \n",
       "2        Garon            Brooklyn  Bedford-Stuyvesant  40.68535  -73.95512   \n",
       "3      Rebecca            Brooklyn         Sunset Park  40.66265  -73.99454   \n",
       "4     Shunichi           Manhattan             Midtown  40.76457  -73.98317   \n",
       "\n",
       "         room_type  price  ...  bathrooms_text  \\\n",
       "0  Entire home/apt    150  ...          1 bath   \n",
       "1  Entire home/apt     75  ...          1 bath   \n",
       "2     Private room     60  ...             NaN   \n",
       "3  Entire home/apt    275  ...       1.5 baths   \n",
       "4     Private room     61  ...          1 bath   \n",
       "\n",
       "                                         description accommodates  \\\n",
       "0  Beautiful, spacious skylit studio in the heart...            1   \n",
       "1  Enjoy 500 s.f. top floor in 1899 brownstone, w...            3   \n",
       "2  <b>The space</b><br />HELLO EVERYONE AND THANK...            2   \n",
       "3  We welcome you to stay in our lovely 2 br dupl...            4   \n",
       "4  Please don’t expect the luxury here just a bas...            2   \n",
       "\n",
       "                                           amenities  maximum_nights  \\\n",
       "0  [\"Essentials\", \"Extra pillows and blankets\", \"...            1125   \n",
       "1  [\"Essentials\", \"TV with standard cable\", \"Baby...             730   \n",
       "2  [\"Long term stays allowed\", \"Air conditioning\"...             730   \n",
       "3  [\"TV with standard cable\", \"Long term stays al...            1125   \n",
       "4  [\"Essentials\", \"Free street parking\", \"TV\", \"W...              14   \n",
       "\n",
       "   review_scores_rating  review_scores_cleanliness  review_scores_value  \\\n",
       "0                  4.70                       4.62                 4.41   \n",
       "1                  4.46                       4.50                 4.65   \n",
       "2                  4.52                       4.09                 4.52   \n",
       "3                  5.00                       5.00                 5.00   \n",
       "4                  4.20                       3.71                 4.35   \n",
       "\n",
       "  review_scores_communication instant_bookable  \n",
       "0                        4.79                f  \n",
       "1                        4.81                f  \n",
       "2                        4.91                f  \n",
       "3                        5.00                f  \n",
       "4                        4.40                f  \n",
       "\n",
       "[5 rows x 34 columns]"
      ]
     },
     "execution_count": 9,
     "metadata": {},
     "output_type": "execute_result"
    }
   ],
   "source": [
    "nyc_merged = nyc_listings.merge(nyc_detailed[keep_columns], on = 'id')\n",
    "nyc_merged.head()"
   ]
  },
  {
   "cell_type": "code",
   "execution_count": 10,
   "id": "69a253c1",
   "metadata": {},
   "outputs": [
    {
     "name": "stdout",
     "output_type": "stream",
     "text": [
      "<class 'pandas.core.frame.DataFrame'>\n",
      "Int64Index: 36724 entries, 0 to 36723\n",
      "Data columns (total 34 columns):\n",
      " #   Column                          Non-Null Count  Dtype  \n",
      "---  ------                          --------------  -----  \n",
      " 0   id                              36724 non-null  int64  \n",
      " 1   name                            36711 non-null  object \n",
      " 2   host_id                         36724 non-null  int64  \n",
      " 3   host_name                       36701 non-null  object \n",
      " 4   neighbourhood_group             36724 non-null  object \n",
      " 5   neighbourhood                   36724 non-null  object \n",
      " 6   latitude                        36724 non-null  float64\n",
      " 7   longitude                       36724 non-null  float64\n",
      " 8   room_type                       36724 non-null  object \n",
      " 9   price                           36724 non-null  int64  \n",
      " 10  minimum_nights                  36724 non-null  int64  \n",
      " 11  number_of_reviews               36724 non-null  int64  \n",
      " 12  last_review                     27309 non-null  object \n",
      " 13  reviews_per_month               27309 non-null  float64\n",
      " 14  calculated_host_listings_count  36724 non-null  int64  \n",
      " 15  availability_365                36724 non-null  int64  \n",
      " 16  number_of_reviews_ltm           36724 non-null  int64  \n",
      " 17  license                         0 non-null      float64\n",
      " 18  last_scraped                    36724 non-null  object \n",
      " 19  host_response_time              21048 non-null  object \n",
      " 20  host_response_rate              21048 non-null  object \n",
      " 21  host_has_profile_pic            36701 non-null  object \n",
      " 22  property_type                   36724 non-null  object \n",
      " 23  bedrooms                        32855 non-null  float64\n",
      " 24  bathrooms_text                  36615 non-null  object \n",
      " 25  description                     35488 non-null  object \n",
      " 26  accommodates                    36724 non-null  int64  \n",
      " 27  amenities                       36724 non-null  object \n",
      " 28  maximum_nights                  36724 non-null  int64  \n",
      " 29  review_scores_rating            27309 non-null  float64\n",
      " 30  review_scores_cleanliness       26672 non-null  float64\n",
      " 31  review_scores_value             26649 non-null  float64\n",
      " 32  review_scores_communication     26664 non-null  float64\n",
      " 33  instant_bookable                36724 non-null  object \n",
      "dtypes: float64(9), int64(10), object(15)\n",
      "memory usage: 9.8+ MB\n"
     ]
    }
   ],
   "source": [
    "nyc_merged.info()"
   ]
  },
  {
   "cell_type": "code",
   "execution_count": 11,
   "id": "80ab7c40",
   "metadata": {},
   "outputs": [],
   "source": [
    "nyc_merged.drop(\n",
    "    ['last_review', 'license', 'calculated_host_listings_count', 'host_name', 'availability_365'],\n",
    "    axis = 1,\n",
    "    inplace = True\n",
    ")"
   ]
  },
  {
   "cell_type": "markdown",
   "id": "a8ae0c86",
   "metadata": {},
   "source": [
    "## Cleaning the `bathrooms_text` column.\n",
    "\n",
    "We will create a new column called `private_bath`, and remove the text from the `bathrooms_text` column."
   ]
  },
  {
   "cell_type": "code",
   "execution_count": 12,
   "id": "d21076b1",
   "metadata": {},
   "outputs": [
    {
     "data": {
      "text/plain": [
       "1 bath               19030\n",
       "1 shared bath         9126\n",
       "1 private bath        2260\n",
       "2 baths               2169\n",
       "2 shared baths        1115\n",
       "1.5 baths             1002\n",
       "1.5 shared baths       706\n",
       "2.5 baths              293\n",
       "3 baths                213\n",
       "0 shared baths         135\n",
       "3 shared baths         114\n",
       "2.5 shared baths        92\n",
       "3.5 baths               75\n",
       "4 baths                 61\n",
       "0 baths                 49\n",
       "4 shared baths          39\n",
       "Half-bath               37\n",
       "4.5 baths               21\n",
       "Shared half-bath        17\n",
       "Private half-bath       17\n",
       "5 baths                  8\n",
       "5.5 baths                6\n",
       "6 baths                  6\n",
       "6 shared baths           5\n",
       "5 shared baths           4\n",
       "8 baths                  3\n",
       "3.5 shared baths         3\n",
       "4.5 shared baths         1\n",
       "5.5 shared baths         1\n",
       "7.5 baths                1\n",
       "6.5 shared baths         1\n",
       "6.5 baths                1\n",
       "15.5 baths               1\n",
       "7 shared baths           1\n",
       "7 baths                  1\n",
       "10 baths                 1\n",
       "Name: bathrooms_text, dtype: int64"
      ]
     },
     "execution_count": 12,
     "metadata": {},
     "output_type": "execute_result"
    }
   ],
   "source": [
    "nyc_merged['bathrooms_text'].value_counts()"
   ]
  },
  {
   "cell_type": "code",
   "execution_count": 13,
   "id": "d01574c9",
   "metadata": {},
   "outputs": [],
   "source": [
    "# Replaces everything with 'half-bath' in the name with .5\n",
    "# Need to keep '.5 shared' for creating shared or private bathroom column.\n",
    "\n",
    "nyc_merged['bathrooms_text'].replace(\n",
    "    ['Half-bath', 'Private half-bath'], \n",
    "    value = 0.5, \n",
    "    inplace = True)\n",
    "\n",
    "nyc_merged['bathrooms_text'].replace(\n",
    "    'Shared half-bath', \n",
    "    value = '0.5 shared', \n",
    "    inplace = True)"
   ]
  },
  {
   "cell_type": "code",
   "execution_count": 14,
   "id": "102ba9c0",
   "metadata": {},
   "outputs": [
    {
     "data": {
      "text/plain": [
       "1 bath              19030\n",
       "1 shared bath        9126\n",
       "1 private bath       2260\n",
       "2 baths              2169\n",
       "2 shared baths       1115\n",
       "1.5 baths            1002\n",
       "1.5 shared baths      706\n",
       "2.5 baths             293\n",
       "3 baths               213\n",
       "0 shared baths        135\n",
       "3 shared baths        114\n",
       "2.5 shared baths       92\n",
       "3.5 baths              75\n",
       "4 baths                61\n",
       "0.5                    54\n",
       "0 baths                49\n",
       "4 shared baths         39\n",
       "4.5 baths              21\n",
       "0.5 shared             17\n",
       "5 baths                 8\n",
       "6 baths                 6\n",
       "5.5 baths               6\n",
       "6 shared baths          5\n",
       "5 shared baths          4\n",
       "3.5 shared baths        3\n",
       "8 baths                 3\n",
       "15.5 baths              1\n",
       "6.5 shared baths        1\n",
       "4.5 shared baths        1\n",
       "5.5 shared baths        1\n",
       "7.5 baths               1\n",
       "6.5 baths               1\n",
       "7 shared baths          1\n",
       "7 baths                 1\n",
       "10 baths                1\n",
       "Name: bathrooms_text, dtype: int64"
      ]
     },
     "execution_count": 14,
     "metadata": {},
     "output_type": "execute_result"
    }
   ],
   "source": [
    "nyc_merged['bathrooms_text'].value_counts()"
   ]
  },
  {
   "cell_type": "code",
   "execution_count": 15,
   "id": "c9a1953c",
   "metadata": {},
   "outputs": [],
   "source": [
    "# If the 'bathrooms_text' column contains the word 'shared', nyc_merged['private_bath'] = 0\n",
    "# Else, nyc_merged['private_bath'] = 1\n",
    "\n",
    "nyc_merged['private_bath'] = np.where(\n",
    "    nyc_merged['bathrooms_text'].str.contains('shared'), 0, 1\n",
    ")"
   ]
  },
  {
   "cell_type": "code",
   "execution_count": 16,
   "id": "0bc8d299",
   "metadata": {},
   "outputs": [
    {
     "data": {
      "text/html": [
       "<div>\n",
       "<style scoped>\n",
       "    .dataframe tbody tr th:only-of-type {\n",
       "        vertical-align: middle;\n",
       "    }\n",
       "\n",
       "    .dataframe tbody tr th {\n",
       "        vertical-align: top;\n",
       "    }\n",
       "\n",
       "    .dataframe thead th {\n",
       "        text-align: right;\n",
       "    }\n",
       "</style>\n",
       "<table border=\"1\" class=\"dataframe\">\n",
       "  <thead>\n",
       "    <tr style=\"text-align: right;\">\n",
       "      <th></th>\n",
       "      <th>bathrooms_text</th>\n",
       "      <th>private_bath</th>\n",
       "    </tr>\n",
       "  </thead>\n",
       "  <tbody>\n",
       "    <tr>\n",
       "      <th>2486</th>\n",
       "      <td>1 bath</td>\n",
       "      <td>1</td>\n",
       "    </tr>\n",
       "    <tr>\n",
       "      <th>5012</th>\n",
       "      <td>2 baths</td>\n",
       "      <td>1</td>\n",
       "    </tr>\n",
       "    <tr>\n",
       "      <th>31001</th>\n",
       "      <td>1 bath</td>\n",
       "      <td>1</td>\n",
       "    </tr>\n",
       "    <tr>\n",
       "      <th>19457</th>\n",
       "      <td>1 bath</td>\n",
       "      <td>1</td>\n",
       "    </tr>\n",
       "    <tr>\n",
       "      <th>12353</th>\n",
       "      <td>1 shared bath</td>\n",
       "      <td>0</td>\n",
       "    </tr>\n",
       "    <tr>\n",
       "      <th>28084</th>\n",
       "      <td>1 bath</td>\n",
       "      <td>1</td>\n",
       "    </tr>\n",
       "    <tr>\n",
       "      <th>18918</th>\n",
       "      <td>1 private bath</td>\n",
       "      <td>1</td>\n",
       "    </tr>\n",
       "    <tr>\n",
       "      <th>35660</th>\n",
       "      <td>1 shared bath</td>\n",
       "      <td>0</td>\n",
       "    </tr>\n",
       "    <tr>\n",
       "      <th>27605</th>\n",
       "      <td>1 private bath</td>\n",
       "      <td>1</td>\n",
       "    </tr>\n",
       "    <tr>\n",
       "      <th>27324</th>\n",
       "      <td>1 shared bath</td>\n",
       "      <td>0</td>\n",
       "    </tr>\n",
       "  </tbody>\n",
       "</table>\n",
       "</div>"
      ],
      "text/plain": [
       "       bathrooms_text  private_bath\n",
       "2486           1 bath             1\n",
       "5012          2 baths             1\n",
       "31001          1 bath             1\n",
       "19457          1 bath             1\n",
       "12353   1 shared bath             0\n",
       "28084          1 bath             1\n",
       "18918  1 private bath             1\n",
       "35660   1 shared bath             0\n",
       "27605  1 private bath             1\n",
       "27324   1 shared bath             0"
      ]
     },
     "execution_count": 16,
     "metadata": {},
     "output_type": "execute_result"
    }
   ],
   "source": [
    "# Check the above column creation\n",
    "\n",
    "nyc_merged[['bathrooms_text', 'private_bath']].sample(10, random_state = 1)"
   ]
  },
  {
   "cell_type": "code",
   "execution_count": 17,
   "id": "c0bfc7e4",
   "metadata": {},
   "outputs": [
    {
     "data": {
      "text/plain": [
       "False    36615\n",
       "True       109\n",
       "Name: bathrooms_text, dtype: int64"
      ]
     },
     "execution_count": 17,
     "metadata": {},
     "output_type": "execute_result"
    }
   ],
   "source": [
    "nyc_merged['bathrooms_text'].isna().value_counts()"
   ]
  },
  {
   "cell_type": "code",
   "execution_count": 18,
   "id": "79d42023",
   "metadata": {},
   "outputs": [],
   "source": [
    "# There are NaN values in the bathrooms_text column, so replace all values that are not NaN with the first entry of\n",
    "# the split, which is always the number of bathrooms.\n",
    "\n",
    "for ind in range(len(nyc_merged)): \n",
    "    if type(nyc_merged.at[ind, 'bathrooms_text']) != float:\n",
    "        nyc_merged.at[ind, 'bathrooms_text'] = float(nyc_merged.at[ind, 'bathrooms_text'].split()[0])"
   ]
  },
  {
   "cell_type": "code",
   "execution_count": 19,
   "id": "d76002cc",
   "metadata": {},
   "outputs": [
    {
     "data": {
      "text/plain": [
       "bathrooms_text  private_bath\n",
       "1.0             1               21290\n",
       "                0                9126\n",
       "2.0             1                2169\n",
       "                0                1115\n",
       "1.5             1                1002\n",
       "                0                 706\n",
       "2.5             1                 293\n",
       "3.0             1                 213\n",
       "0.0             0                 135\n",
       "3.0             0                 114\n",
       "2.5             0                  92\n",
       "3.5             1                  75\n",
       "0.5             0                  71\n",
       "4.0             1                  61\n",
       "0.0             1                  49\n",
       "4.0             0                  39\n",
       "4.5             1                  21\n",
       "5.0             1                   8\n",
       "6.0             1                   6\n",
       "5.5             1                   6\n",
       "6.0             0                   5\n",
       "5.0             0                   4\n",
       "8.0             1                   3\n",
       "3.5             0                   3\n",
       "5.5             0                   1\n",
       "6.5             0                   1\n",
       "                1                   1\n",
       "7.0             0                   1\n",
       "                1                   1\n",
       "7.5             1                   1\n",
       "4.5             0                   1\n",
       "10.0            1                   1\n",
       "15.5            1                   1\n",
       "dtype: int64"
      ]
     },
     "execution_count": 19,
     "metadata": {},
     "output_type": "execute_result"
    }
   ],
   "source": [
    "# Checking the conversion.\n",
    "\n",
    "nyc_merged[['bathrooms_text', 'private_bath']].value_counts()"
   ]
  },
  {
   "cell_type": "code",
   "execution_count": 20,
   "id": "92cba029",
   "metadata": {},
   "outputs": [],
   "source": [
    "# Renaming the 'bathrooms_text' to 'bathrooms'\n",
    "\n",
    "nyc_merged.rename(columns = {'bathrooms_text': 'bathrooms'}, inplace = True)"
   ]
  },
  {
   "cell_type": "markdown",
   "id": "db662fb8",
   "metadata": {},
   "source": [
    "## Cleaning the `descriptions` Column\n",
    "\n",
    "We will have to take care with cleaning this column. This is because New York has train lines that are named with letters, so if we convert all words to lower case and want to remove stop words for description processing, we could lose valuable information about the A-train.\n",
    "\n",
    "To counter this, we will replace all instances of A train with A-train in order to not lose information.\n",
    "\n",
    "It is important to note that we may lose some information about listings with 'a train' in the description, if we decide to convert to . This is because the description could include text similar 'Popular destinations can be accessed by a train,' or 'The Met is easily accessible via train,' which do not specifically refer to the A-train.\n",
    "\n",
    "Finally, the HTML tags will be removed from the descriptions as well.\n",
    "\n",
    "Do note that there two different replace methods used here. One of which is the [pandas Series string replacement method](https://pandas.pydata.org/docs/reference/api/pandas.Series.str.replace.html), and the other is the [built in Python string replacement method](https://docs.python.org/3/library/stdtypes.html#str.replace). All `.str.replace()` calls are instances of the pandas method, and `.replace()` is the built in Python method."
   ]
  },
  {
   "cell_type": "markdown",
   "id": "2d9e52d6",
   "metadata": {},
   "source": [
    "### A-train Cleaning"
   ]
  },
  {
   "cell_type": "code",
   "execution_count": 21,
   "id": "95fe4804",
   "metadata": {},
   "outputs": [
    {
     "data": {
      "text/plain": [
       "False    35412\n",
       "True        76\n",
       "Name: description, dtype: int64"
      ]
     },
     "execution_count": 21,
     "metadata": {},
     "output_type": "execute_result"
    }
   ],
   "source": [
    "nyc_merged['description'].str.contains('a train').value_counts()"
   ]
  },
  {
   "cell_type": "code",
   "execution_count": 22,
   "id": "eef55f29",
   "metadata": {},
   "outputs": [
    {
     "data": {
      "text/plain": [
       "False    35458\n",
       "True        30\n",
       "Name: description, dtype: int64"
      ]
     },
     "execution_count": 22,
     "metadata": {},
     "output_type": "execute_result"
    }
   ],
   "source": [
    "nyc_merged['description'].str.contains('a line').value_counts()"
   ]
  },
  {
   "cell_type": "code",
   "execution_count": 23,
   "id": "ee8a205e",
   "metadata": {},
   "outputs": [
    {
     "data": {
      "text/plain": [
       "False    35469\n",
       "True        19\n",
       "Name: description, dtype: int64"
      ]
     },
     "execution_count": 23,
     "metadata": {},
     "output_type": "execute_result"
    }
   ],
   "source": [
    "nyc_merged['description'].str.contains('via train').value_counts()"
   ]
  },
  {
   "cell_type": "code",
   "execution_count": 24,
   "id": "0ed1a8ad",
   "metadata": {},
   "outputs": [
    {
     "data": {
      "text/plain": [
       "False    35488\n",
       "Name: description, dtype: int64"
      ]
     },
     "execution_count": 24,
     "metadata": {},
     "output_type": "execute_result"
    }
   ],
   "source": [
    "nyc_merged['description'].str.contains('the a train').value_counts()"
   ]
  },
  {
   "cell_type": "code",
   "execution_count": 25,
   "id": "ff9c8564",
   "metadata": {},
   "outputs": [
    {
     "data": {
      "text/plain": [
       "False    35188\n",
       "True       300\n",
       "Name: description, dtype: int64"
      ]
     },
     "execution_count": 25,
     "metadata": {},
     "output_type": "execute_result"
    }
   ],
   "source": [
    "nyc_merged['description'].str.contains('A train').value_counts()"
   ]
  },
  {
   "cell_type": "code",
   "execution_count": 26,
   "id": "57d8a929",
   "metadata": {},
   "outputs": [
    {
     "data": {
      "text/plain": [
       "False    35477\n",
       "True        11\n",
       "Name: description, dtype: int64"
      ]
     },
     "execution_count": 26,
     "metadata": {},
     "output_type": "execute_result"
    }
   ],
   "source": [
    "nyc_merged['description'].str.contains('A line').value_counts()"
   ]
  },
  {
   "cell_type": "code",
   "execution_count": 27,
   "id": "c2c7add2",
   "metadata": {},
   "outputs": [
    {
     "data": {
      "text/plain": [
       "False    35467\n",
       "True        21\n",
       "Name: description, dtype: int64"
      ]
     },
     "execution_count": 27,
     "metadata": {},
     "output_type": "execute_result"
    }
   ],
   "source": [
    "nyc_merged['description'].str.contains('A-train').value_counts()"
   ]
  },
  {
   "cell_type": "code",
   "execution_count": 28,
   "id": "2315985a",
   "metadata": {},
   "outputs": [],
   "source": [
    "# Replace all instances of 'A train' with 'A-Train' in a new pandas series.\n",
    "# case = True makes sure that the search is case sensitive.\n",
    "\n",
    "a_train_descriptions = nyc_merged['description'].str.replace(\n",
    "    'A train',\n",
    "    repl = 'A-train',\n",
    "    case = True)"
   ]
  },
  {
   "cell_type": "code",
   "execution_count": 29,
   "id": "3b665040",
   "metadata": {},
   "outputs": [
    {
     "data": {
      "text/plain": [
       "False    35188\n",
       "True       300\n",
       "Name: description, dtype: int64"
      ]
     },
     "execution_count": 29,
     "metadata": {},
     "output_type": "execute_result"
    }
   ],
   "source": [
    "nyc_merged['description'].str.contains('A train').value_counts()"
   ]
  },
  {
   "cell_type": "code",
   "execution_count": 30,
   "id": "ae7c2c3e",
   "metadata": {},
   "outputs": [
    {
     "data": {
      "text/plain": [
       "False    35467\n",
       "True        21\n",
       "Name: description, dtype: int64"
      ]
     },
     "execution_count": 30,
     "metadata": {},
     "output_type": "execute_result"
    }
   ],
   "source": [
    "nyc_merged['description'].str.contains('A-train').value_counts()"
   ]
  },
  {
   "cell_type": "code",
   "execution_count": 31,
   "id": "799cf1a1",
   "metadata": {},
   "outputs": [
    {
     "data": {
      "text/plain": [
       "False    35488\n",
       "Name: description, dtype: int64"
      ]
     },
     "execution_count": 31,
     "metadata": {},
     "output_type": "execute_result"
    }
   ],
   "source": [
    "a_train_descriptions.str.contains('A train').value_counts()"
   ]
  },
  {
   "cell_type": "code",
   "execution_count": 32,
   "id": "4545a88a",
   "metadata": {},
   "outputs": [
    {
     "data": {
      "text/plain": [
       "False    35169\n",
       "True       319\n",
       "Name: description, dtype: int64"
      ]
     },
     "execution_count": 32,
     "metadata": {},
     "output_type": "execute_result"
    }
   ],
   "source": [
    "a_train_descriptions.str.contains('A-train').value_counts()"
   ]
  },
  {
   "cell_type": "code",
   "execution_count": 33,
   "id": "474b703b",
   "metadata": {},
   "outputs": [
    {
     "name": "stdout",
     "output_type": "stream",
     "text": [
      "[6509, 13585, 13586, 14992, 16105, 16228, 17653, 23007, 23130, 23204, 23205, 28350, 31348, 31354, 31356, 32038, 32632, 34338, 34364] \n",
      " 19\n"
     ]
    }
   ],
   "source": [
    "# Finding the indices that differ from both of the lists.\n",
    "\n",
    "new_desc_ind = a_train_descriptions[a_train_descriptions.str.contains('A-train') == True].index\n",
    "prev_desc_ind = nyc_merged[nyc_merged['description'].str.contains('A train') == True].index\n",
    "\n",
    "# These are the indices that are in new_desc_ind but not in prev_desc_ind\n",
    "ind_diffs = [ item for item in new_desc_ind if item not in prev_desc_ind ]\n",
    "\n",
    "print (ind_diffs, '\\n', len(ind_diffs))"
   ]
  },
  {
   "cell_type": "code",
   "execution_count": 34,
   "id": "136d698d",
   "metadata": {},
   "outputs": [
    {
     "name": "stdout",
     "output_type": "stream",
     "text": [
      "True\n",
      "True\n",
      "True\n",
      "True\n",
      "True\n",
      "True\n",
      "True\n",
      "True\n",
      "True\n",
      "True\n",
      "True\n",
      "True\n",
      "True\n",
      "True\n",
      "True\n",
      "True\n",
      "True\n",
      "True\n",
      "True\n"
     ]
    }
   ],
   "source": [
    "# This lets us know that the columns that are additional 19 columns in ind_diffs have not changed the\n",
    "# original description.\n",
    "\n",
    "for ind in ind_diffs:\n",
    "    print (True if a_train_descriptions.iloc[ind] == nyc_merged.iloc[ind]['description'] else False)"
   ]
  },
  {
   "cell_type": "code",
   "execution_count": 35,
   "id": "d9703e4e",
   "metadata": {},
   "outputs": [],
   "source": [
    "nyc_merged['description'] = a_train_descriptions"
   ]
  },
  {
   "cell_type": "code",
   "execution_count": 36,
   "id": "3f09ee27",
   "metadata": {},
   "outputs": [
    {
     "data": {
      "text/plain": [
       "False    35412\n",
       "True        76\n",
       "Name: description, dtype: int64"
      ]
     },
     "execution_count": 36,
     "metadata": {},
     "output_type": "execute_result"
    }
   ],
   "source": [
    "# Making sure we did not lose information with decriptions that contain 'a train'\n",
    "# Notice that we receive the same number of True values prior to the column replacement.\n",
    "\n",
    "nyc_merged['description'].str.contains('a train').value_counts()"
   ]
  },
  {
   "cell_type": "markdown",
   "id": "7165111e",
   "metadata": {},
   "source": [
    "### Removing the HTML Tags"
   ]
  },
  {
   "cell_type": "code",
   "execution_count": 37,
   "id": "58024323",
   "metadata": {},
   "outputs": [],
   "source": [
    "# Replace line breaks with a space, and replace bold tags with an empty string.\n",
    "# Was having issues with some types of column being float.\n",
    "# Replacing commas with a space will make the description less readable, but will ease the process of the Postgres import.\n",
    "\n",
    "for ind in range(len(nyc_merged)):\n",
    "    if type(nyc_merged.at[ind, 'description']) == str:\n",
    "        nyc_merged.at[ind, 'description'] = nyc_merged.at[ind, 'description'].replace(\n",
    "            '<br /><br />', ' '\n",
    "        ).replace(\n",
    "            '<br />', ' '\n",
    "        ).replace(\n",
    "            '<b>', ''\n",
    "        ).replace(\n",
    "            '</b>', ''\n",
    "        ).replace(',', ' '\n",
    "        )"
   ]
  },
  {
   "cell_type": "markdown",
   "id": "01dd7e31",
   "metadata": {},
   "source": [
    "## Cleaning the `bedrooms` Column\n",
    "\n",
    "We will determine whether the rows with `NaN` values for bedrooms are likely to be studios or loft, and replace the values with 0 accordingly."
   ]
  },
  {
   "cell_type": "code",
   "execution_count": 38,
   "id": "ad79e495",
   "metadata": {},
   "outputs": [
    {
     "name": "stdout",
     "output_type": "stream",
     "text": [
      "['Entire rental unit' 'Entire guest suite' 'Private room in rental unit'\n",
      " 'Private room in townhouse' 'Private room in condominium (condo)'\n",
      " 'Private room in loft' 'Entire loft' 'Private room in residential home'\n",
      " 'Entire condominium (condo)' 'Entire residential home' 'Entire townhouse'\n",
      " 'Private room in bed and breakfast' 'Entire guesthouse'\n",
      " 'Private room in guest suite' 'Bus' 'Room in boutique hotel'\n",
      " 'Shared room in loft' 'Shared room in rental unit'\n",
      " 'Shared room in residential home' 'Private room' 'Private room in hostel'\n",
      " 'Entire place' 'Private room in guesthouse' 'Boat'\n",
      " 'Entire serviced apartment' 'Room in aparthotel'\n",
      " 'Shared room in earth house' 'Floor' 'Shared room in hostel'\n",
      " 'Room in serviced apartment' 'Entire cottage'\n",
      " 'Shared room in condominium (condo)' 'Private room in serviced apartment'\n",
      " 'Room in hotel' 'Private room in boat' 'Cave' 'Tiny house'\n",
      " 'Private room in floor' 'Entire bungalow' 'Shared room in townhouse'\n",
      " 'Houseboat' 'Private room in bungalow' 'Entire villa'\n",
      " 'Private room in resort' 'Shared room in guest suite'\n",
      " 'Private room in castle' 'Private room in villa' 'Shared room in floor'\n",
      " 'Shared room in serviced apartment' 'Entire bed and breakfast'\n",
      " 'Entire home/apt' 'Private room in tiny house' 'Private room in tent'\n",
      " 'Private room in in-law' 'Private room in barn' 'Camper/RV'\n",
      " 'Room in resort' 'Shared room in bed and breakfast'\n",
      " 'Private room in farm stay' 'Private room in casa particular'\n",
      " 'Private room in dorm' 'Room in bed and breakfast'\n",
      " 'Private room in camper/rv' 'Shared room in island'\n",
      " 'Shared room in bungalow' 'Private room in earth house'\n",
      " 'Private room in cottage' 'Lighthouse' 'Private room in train' 'Barn'\n",
      " 'Private room in lighthouse' 'Castle' 'Tent' 'Tower' 'Casa particular']\n"
     ]
    }
   ],
   "source": [
    "print (nyc_merged['property_type'].unique())"
   ]
  },
  {
   "cell_type": "code",
   "execution_count": 39,
   "id": "f828f466",
   "metadata": {},
   "outputs": [
    {
     "data": {
      "text/plain": [
       "False    32855\n",
       "True      3869\n",
       "Name: bedrooms, dtype: int64"
      ]
     },
     "execution_count": 39,
     "metadata": {},
     "output_type": "execute_result"
    }
   ],
   "source": [
    "nyc_merged['bedrooms'].isna().value_counts()"
   ]
  },
  {
   "cell_type": "code",
   "execution_count": 40,
   "id": "985576c8",
   "metadata": {},
   "outputs": [
    {
     "data": {
      "text/plain": [
       "Entire rental unit                     2726\n",
       "Private room in rental unit             239\n",
       "Room in hotel                           152\n",
       "Entire condominium (condo)              117\n",
       "Room in boutique hotel                  112\n",
       "Entire loft                             109\n",
       "Entire serviced apartment                60\n",
       "Entire guest suite                       58\n",
       "Private room in residential home         57\n",
       "Entire residential home                  56\n",
       "Room in aparthotel                       26\n",
       "Entire townhouse                         25\n",
       "Private room in townhouse                19\n",
       "Private room in guest suite              17\n",
       "Entire place                             16\n",
       "Room in serviced apartment               12\n",
       "Private room in condominium (condo)      10\n",
       "Private room in resort                    9\n",
       "Private room in loft                      8\n",
       "Entire guesthouse                         8\n",
       "Private room in serviced apartment        6\n",
       "Entire bungalow                           5\n",
       "Tiny house                                4\n",
       "Boat                                      3\n",
       "Private room                              2\n",
       "Private room in tiny house                2\n",
       "Camper/RV                                 2\n",
       "Entire home/apt                           1\n",
       "Room in bed and breakfast                 1\n",
       "Private room in guesthouse                1\n",
       "Bus                                       1\n",
       "Houseboat                                 1\n",
       "Barn                                      1\n",
       "Private room in camper/rv                 1\n",
       "Private room in earth house               1\n",
       "Castle                                    1\n",
       "Name: property_type, dtype: int64"
      ]
     },
     "execution_count": 40,
     "metadata": {},
     "output_type": "execute_result"
    }
   ],
   "source": [
    "nyc_merged[\n",
    "    (nyc_merged['bedrooms'].isna() == True)\n",
    "]['property_type'].value_counts()"
   ]
  },
  {
   "cell_type": "code",
   "execution_count": 41,
   "id": "2f483423",
   "metadata": {},
   "outputs": [
    {
     "data": {
      "text/plain": [
       "Entire rental unit                     1760\n",
       "Entire loft                              81\n",
       "Entire condominium (condo)               80\n",
       "Entire guest suite                       41\n",
       "Entire serviced apartment                40\n",
       "Private room in rental unit              40\n",
       "Room in boutique hotel                   37\n",
       "Entire residential home                  27\n",
       "Entire townhouse                         14\n",
       "Room in aparthotel                       14\n",
       "Entire place                             12\n",
       "Private room in residential home         11\n",
       "Room in serviced apartment                8\n",
       "Private room in guest suite               7\n",
       "Entire guesthouse                         4\n",
       "Tiny house                                4\n",
       "Private room in loft                      3\n",
       "Room in hotel                             3\n",
       "Private room in resort                    2\n",
       "Private room in townhouse                 2\n",
       "Private room                              1\n",
       "Entire home/apt                           1\n",
       "Private room in tiny house                1\n",
       "Entire bungalow                           1\n",
       "Private room in serviced apartment        1\n",
       "Private room in earth house               1\n",
       "Private room in condominium (condo)       1\n",
       "Name: property_type, dtype: int64"
      ]
     },
     "execution_count": 41,
     "metadata": {},
     "output_type": "execute_result"
    }
   ],
   "source": [
    "nyc_merged[\n",
    "    (nyc_merged['bedrooms'].isna() == True) &\n",
    "    (nyc_merged['description'].str.contains('studio|loft|condo|condominium') == True)\n",
    "]['property_type'].value_counts()"
   ]
  },
  {
   "cell_type": "code",
   "execution_count": 42,
   "id": "c879db32",
   "metadata": {},
   "outputs": [
    {
     "data": {
      "text/plain": [
       "Entire rental unit                     900\n",
       "Private room in rental unit            146\n",
       "Room in hotel                          138\n",
       "Room in boutique hotel                  49\n",
       "Private room in residential home        31\n",
       "Entire condominium (condo)              31\n",
       "Entire residential home                 27\n",
       "Entire loft                             24\n",
       "Entire serviced apartment               18\n",
       "Private room in townhouse               15\n",
       "Entire guest suite                      15\n",
       "Room in aparthotel                      12\n",
       "Entire townhouse                        11\n",
       "Private room in guest suite             10\n",
       "Private room in condominium (condo)      8\n",
       "Private room in resort                   6\n",
       "Entire bungalow                          4\n",
       "Entire guesthouse                        4\n",
       "Entire place                             4\n",
       "Private room in serviced apartment       4\n",
       "Room in serviced apartment               3\n",
       "Boat                                     3\n",
       "Private room in loft                     2\n",
       "Camper/RV                                2\n",
       "Bus                                      1\n",
       "Private room                             1\n",
       "Private room in tiny house               1\n",
       "Room in bed and breakfast                1\n",
       "Houseboat                                1\n",
       "Private room in camper/rv                1\n",
       "Castle                                   1\n",
       "Name: property_type, dtype: int64"
      ]
     },
     "execution_count": 42,
     "metadata": {},
     "output_type": "execute_result"
    }
   ],
   "source": [
    "nyc_merged[\n",
    "    (nyc_merged['bedrooms'].isna() == True) &\n",
    "    (nyc_merged['description'].str.contains('studio|loft|condo|condominium') == False)\n",
    "]['property_type'].value_counts()"
   ]
  },
  {
   "cell_type": "code",
   "execution_count": 43,
   "id": "b6396c1d",
   "metadata": {},
   "outputs": [
    {
     "data": {
      "text/plain": [
       "1.0     25375\n",
       "2.0      5133\n",
       "0.0      3869\n",
       "3.0      1679\n",
       "4.0       491\n",
       "5.0       108\n",
       "6.0        32\n",
       "8.0        16\n",
       "7.0        11\n",
       "9.0         4\n",
       "10.0        3\n",
       "14.0        1\n",
       "11.0        1\n",
       "13.0        1\n",
       "Name: bedrooms, dtype: int64"
      ]
     },
     "execution_count": 43,
     "metadata": {},
     "output_type": "execute_result"
    }
   ],
   "source": [
    "# By visual inspection, it appears that there will be little information lost if all NaN values for bedrooms\n",
    "# are replaced with 0.\n",
    "\n",
    "nyc_merged['bedrooms'].fillna(0, inplace = True)\n",
    "\n",
    "nyc_merged['bedrooms'].value_counts()"
   ]
  },
  {
   "cell_type": "markdown",
   "id": "15d072fb",
   "metadata": {},
   "source": [
    "### Cleaning the `host` Related Column Information "
   ]
  },
  {
   "cell_type": "code",
   "execution_count": 44,
   "id": "869a3afa",
   "metadata": {},
   "outputs": [
    {
     "name": "stdout",
     "output_type": "stream",
     "text": [
      "<class 'pandas.core.frame.DataFrame'>\n",
      "Int64Index: 36724 entries, 0 to 36723\n",
      "Data columns (total 30 columns):\n",
      " #   Column                       Non-Null Count  Dtype  \n",
      "---  ------                       --------------  -----  \n",
      " 0   id                           36724 non-null  int64  \n",
      " 1   name                         36711 non-null  object \n",
      " 2   host_id                      36724 non-null  int64  \n",
      " 3   neighbourhood_group          36724 non-null  object \n",
      " 4   neighbourhood                36724 non-null  object \n",
      " 5   latitude                     36724 non-null  float64\n",
      " 6   longitude                    36724 non-null  float64\n",
      " 7   room_type                    36724 non-null  object \n",
      " 8   price                        36724 non-null  int64  \n",
      " 9   minimum_nights               36724 non-null  int64  \n",
      " 10  number_of_reviews            36724 non-null  int64  \n",
      " 11  reviews_per_month            27309 non-null  float64\n",
      " 12  number_of_reviews_ltm        36724 non-null  int64  \n",
      " 13  last_scraped                 36724 non-null  object \n",
      " 14  host_response_time           21048 non-null  object \n",
      " 15  host_response_rate           21048 non-null  object \n",
      " 16  host_has_profile_pic         36701 non-null  object \n",
      " 17  property_type                36724 non-null  object \n",
      " 18  bedrooms                     36724 non-null  float64\n",
      " 19  bathrooms                    36615 non-null  object \n",
      " 20  description                  35488 non-null  object \n",
      " 21  accommodates                 36724 non-null  int64  \n",
      " 22  amenities                    36724 non-null  object \n",
      " 23  maximum_nights               36724 non-null  int64  \n",
      " 24  review_scores_rating         27309 non-null  float64\n",
      " 25  review_scores_cleanliness    26672 non-null  float64\n",
      " 26  review_scores_value          26649 non-null  float64\n",
      " 27  review_scores_communication  26664 non-null  float64\n",
      " 28  instant_bookable             36724 non-null  object \n",
      " 29  private_bath                 36724 non-null  int64  \n",
      "dtypes: float64(8), int64(9), object(13)\n",
      "memory usage: 9.7+ MB\n"
     ]
    }
   ],
   "source": [
    "nyc_merged.info()"
   ]
  },
  {
   "cell_type": "code",
   "execution_count": 45,
   "id": "79583bdc",
   "metadata": {},
   "outputs": [
    {
     "data": {
      "text/plain": [
       "within an hour        10319\n",
       "within a few hours     4772\n",
       "within a day           3839\n",
       "a few days or more     2118\n",
       "Name: host_response_time, dtype: int64"
      ]
     },
     "execution_count": 45,
     "metadata": {},
     "output_type": "execute_result"
    }
   ],
   "source": [
    "nyc_merged['host_response_time'].value_counts()"
   ]
  },
  {
   "cell_type": "code",
   "execution_count": 46,
   "id": "66b458e5",
   "metadata": {},
   "outputs": [
    {
     "data": {
      "text/plain": [
       "False    21048\n",
       "True     15676\n",
       "Name: host_response_time, dtype: int64"
      ]
     },
     "execution_count": 46,
     "metadata": {},
     "output_type": "execute_result"
    }
   ],
   "source": [
    "nyc_merged['host_response_time'].isna().value_counts()"
   ]
  },
  {
   "cell_type": "code",
   "execution_count": 47,
   "id": "d97fa7ef",
   "metadata": {},
   "outputs": [
    {
     "data": {
      "text/plain": [
       "dtype('O')"
      ]
     },
     "execution_count": 47,
     "metadata": {},
     "output_type": "execute_result"
    }
   ],
   "source": [
    "nyc_merged['host_response_rate'].dtypes"
   ]
  },
  {
   "cell_type": "code",
   "execution_count": 48,
   "id": "5dd33be5",
   "metadata": {},
   "outputs": [
    {
     "data": {
      "text/plain": [
       "t    36545\n",
       "f      156\n",
       "Name: host_has_profile_pic, dtype: int64"
      ]
     },
     "execution_count": 48,
     "metadata": {},
     "output_type": "execute_result"
    }
   ],
   "source": [
    "nyc_merged['host_has_profile_pic'].value_counts()"
   ]
  },
  {
   "cell_type": "code",
   "execution_count": 49,
   "id": "acf86bc3",
   "metadata": {},
   "outputs": [],
   "source": [
    "# There are NA vales for this column. We are going to assume that if the value for this column is NA,\n",
    "# then the host does not have a profile picture.\n",
    "\n",
    "# Replaces 't' values with 1 indicating that the host does have a profile picture. Otherwise, 0 will represent\n",
    "# no profile picture.\n",
    "\n",
    "nyc_merged['host_has_profile_pic'] = np.where(\n",
    "    nyc_merged['host_has_profile_pic'] == 't', 1, 0\n",
    ")"
   ]
  },
  {
   "cell_type": "code",
   "execution_count": 50,
   "id": "09d8bfd4",
   "metadata": {},
   "outputs": [
    {
     "data": {
      "text/plain": [
       "1    36545\n",
       "0      179\n",
       "Name: host_has_profile_pic, dtype: int64"
      ]
     },
     "execution_count": 50,
     "metadata": {},
     "output_type": "execute_result"
    }
   ],
   "source": [
    "nyc_merged['host_has_profile_pic'].value_counts()"
   ]
  },
  {
   "cell_type": "code",
   "execution_count": 51,
   "id": "92523ce7",
   "metadata": {},
   "outputs": [
    {
     "data": {
      "text/plain": [
       "False    21048\n",
       "True     15676\n",
       "Name: host_response_rate, dtype: int64"
      ]
     },
     "execution_count": 51,
     "metadata": {},
     "output_type": "execute_result"
    }
   ],
   "source": [
    "nyc_merged['host_response_rate'].isna().value_counts()"
   ]
  },
  {
   "cell_type": "code",
   "execution_count": 52,
   "id": "cff20beb",
   "metadata": {},
   "outputs": [
    {
     "data": {
      "text/plain": [
       "100%    11579\n",
       "0%       1155\n",
       "99%       860\n",
       "90%       823\n",
       "97%       600\n",
       "        ...  \n",
       "24%         2\n",
       "32%         1\n",
       "66%         1\n",
       "12%         1\n",
       "28%         1\n",
       "Name: host_response_rate, Length: 90, dtype: int64"
      ]
     },
     "execution_count": 52,
     "metadata": {},
     "output_type": "execute_result"
    }
   ],
   "source": [
    "nyc_merged['host_response_rate'].value_counts()"
   ]
  },
  {
   "cell_type": "code",
   "execution_count": 53,
   "id": "6eea6b09",
   "metadata": {},
   "outputs": [],
   "source": [
    "for ind in range(len(nyc_merged)):\n",
    "    \n",
    "    # If the type is a string, then we know the column has a percent sign.\n",
    "    # So, remove the percent sign at the end of the string.\n",
    "    \n",
    "    if (type(nyc_merged.at[ind, 'host_response_rate']) == str):\n",
    "        nyc_merged.at[ind, 'host_response_rate'] = int(nyc_merged.at[ind, 'host_response_rate'][0:-1])\n",
    "        "
   ]
  },
  {
   "cell_type": "code",
   "execution_count": 54,
   "id": "b30a2ad2",
   "metadata": {},
   "outputs": [
    {
     "data": {
      "text/plain": [
       "100    11579\n",
       "0       1155\n",
       "99       860\n",
       "90       823\n",
       "97       600\n",
       "       ...  \n",
       "24         2\n",
       "32         1\n",
       "66         1\n",
       "12         1\n",
       "28         1\n",
       "Name: host_response_rate, Length: 90, dtype: int64"
      ]
     },
     "execution_count": 54,
     "metadata": {},
     "output_type": "execute_result"
    }
   ],
   "source": [
    "# Checking the column update\n",
    "\n",
    "nyc_merged['host_response_rate'].value_counts()"
   ]
  },
  {
   "cell_type": "markdown",
   "id": "f6c116fb",
   "metadata": {},
   "source": [
    "## Cleaning the `amenities` Column."
   ]
  },
  {
   "cell_type": "code",
   "execution_count": 55,
   "id": "fc9af99d",
   "metadata": {},
   "outputs": [],
   "source": [
    "# Remove unnecessary double quotes, remove the brackets from the string, then split by comma-space.\n",
    "\n",
    "for ind in range (len(nyc_merged)):\n",
    "    nyc_merged.at[ind, 'amenities'] = nyc_merged['amenities'][ind].replace('\"', '').strip('][').split(', ')"
   ]
  },
  {
   "cell_type": "markdown",
   "id": "2dd161c6",
   "metadata": {},
   "source": [
    "## Cleaning the `instant_bookable` Column\n",
    "\n",
    "From the Airbnb data dictionary, the `instant_bookable` column indicates the following.\n",
    "\n",
    "\"Whether the guest can automatically book the listring without the host requiring to accept their booking request. An indicator of a commercial listing.\"\n",
    "\n",
    "So, this column allows us to differentiate between commercial and non-commercial listing."
   ]
  },
  {
   "cell_type": "code",
   "execution_count": 56,
   "id": "2dcdc165",
   "metadata": {},
   "outputs": [],
   "source": [
    "# Replace 't' with 1, indicating a commercial listing, otherwise, 0 will represent a listing that is not commercial.\n",
    "\n",
    "nyc_merged['instant_bookable'] = np.where(\n",
    "    nyc_merged['instant_bookable'] == 't', 1, 0\n",
    ")"
   ]
  },
  {
   "cell_type": "code",
   "execution_count": 57,
   "id": "e1efd5f6",
   "metadata": {},
   "outputs": [
    {
     "data": {
      "text/plain": [
       "0    26967\n",
       "1     9757\n",
       "Name: instant_bookable, dtype: int64"
      ]
     },
     "execution_count": 57,
     "metadata": {},
     "output_type": "execute_result"
    }
   ],
   "source": [
    "# Checking the replacement.\n",
    "\n",
    "nyc_merged['instant_bookable'].value_counts()"
   ]
  },
  {
   "cell_type": "markdown",
   "id": "406b30e5",
   "metadata": {},
   "source": [
    "### Rearranging the Columns"
   ]
  },
  {
   "cell_type": "code",
   "execution_count": 58,
   "id": "f1df7073",
   "metadata": {},
   "outputs": [],
   "source": [
    "new_col_order = [\n",
    " 'id',\n",
    " 'name',\n",
    " 'host_id',\n",
    " 'last_scraped',\n",
    " 'neighbourhood_group',\n",
    " 'neighbourhood',\n",
    " 'latitude',\n",
    " 'longitude',\n",
    " 'room_type',\n",
    " 'price',\n",
    " 'minimum_nights',\n",
    " 'number_of_reviews',\n",
    " 'reviews_per_month',\n",
    " 'number_of_reviews_ltm',\n",
    " 'host_response_time',\n",
    " 'host_response_rate',\n",
    " 'host_has_profile_pic',\n",
    " 'property_type',\n",
    " 'bedrooms',\n",
    " 'bathrooms',\n",
    " 'private_bath',\n",
    " 'description',\n",
    " 'accommodates',\n",
    " 'amenities',\n",
    " 'maximum_nights',\n",
    " 'review_scores_rating',\n",
    " 'review_scores_cleanliness',\n",
    " 'review_scores_value',\n",
    " 'review_scores_communication',\n",
    " 'instant_bookable',\n",
    "]\n",
    "\n",
    "nyc_merged = nyc_merged[new_col_order]"
   ]
  },
  {
   "cell_type": "code",
   "execution_count": 59,
   "id": "ffd44fc2",
   "metadata": {},
   "outputs": [
    {
     "name": "stdout",
     "output_type": "stream",
     "text": [
      "<class 'pandas.core.frame.DataFrame'>\n",
      "Int64Index: 36724 entries, 0 to 36723\n",
      "Data columns (total 30 columns):\n",
      " #   Column                       Non-Null Count  Dtype  \n",
      "---  ------                       --------------  -----  \n",
      " 0   id                           36724 non-null  int64  \n",
      " 1   name                         36711 non-null  object \n",
      " 2   host_id                      36724 non-null  int64  \n",
      " 3   last_scraped                 36724 non-null  object \n",
      " 4   neighbourhood_group          36724 non-null  object \n",
      " 5   neighbourhood                36724 non-null  object \n",
      " 6   latitude                     36724 non-null  float64\n",
      " 7   longitude                    36724 non-null  float64\n",
      " 8   room_type                    36724 non-null  object \n",
      " 9   price                        36724 non-null  int64  \n",
      " 10  minimum_nights               36724 non-null  int64  \n",
      " 11  number_of_reviews            36724 non-null  int64  \n",
      " 12  reviews_per_month            27309 non-null  float64\n",
      " 13  number_of_reviews_ltm        36724 non-null  int64  \n",
      " 14  host_response_time           21048 non-null  object \n",
      " 15  host_response_rate           21048 non-null  object \n",
      " 16  host_has_profile_pic         36724 non-null  int64  \n",
      " 17  property_type                36724 non-null  object \n",
      " 18  bedrooms                     36724 non-null  float64\n",
      " 19  bathrooms                    36615 non-null  object \n",
      " 20  private_bath                 36724 non-null  int64  \n",
      " 21  description                  35488 non-null  object \n",
      " 22  accommodates                 36724 non-null  int64  \n",
      " 23  amenities                    36724 non-null  object \n",
      " 24  maximum_nights               36724 non-null  int64  \n",
      " 25  review_scores_rating         27309 non-null  float64\n",
      " 26  review_scores_cleanliness    26672 non-null  float64\n",
      " 27  review_scores_value          26649 non-null  float64\n",
      " 28  review_scores_communication  26664 non-null  float64\n",
      " 29  instant_bookable             36724 non-null  int64  \n",
      "dtypes: float64(8), int64(11), object(11)\n",
      "memory usage: 9.7+ MB\n"
     ]
    }
   ],
   "source": [
    "nyc_merged.info()"
   ]
  },
  {
   "cell_type": "markdown",
   "id": "806eb591",
   "metadata": {},
   "source": [
    "### Saving the DataFrame"
   ]
  },
  {
   "cell_type": "code",
   "execution_count": 60,
   "id": "1a6d09c3",
   "metadata": {},
   "outputs": [],
   "source": [
    "# Commented out to prevent overwriting in the event of rerunning the kernel.\n",
    "\n",
    "# nyc_merged.to_csv(path_or_buf = '../../data/dataxp/airbnb/cleaned_data/nyc_listings_cleaned.csv')"
   ]
  }
 ],
 "metadata": {
  "kernelspec": {
   "display_name": "Python 3",
   "language": "python",
   "name": "python3"
  },
  "language_info": {
   "codemirror_mode": {
    "name": "ipython",
    "version": 3
   },
   "file_extension": ".py",
   "mimetype": "text/x-python",
   "name": "python",
   "nbconvert_exporter": "python",
   "pygments_lexer": "ipython3",
   "version": "3.8.10"
  }
 },
 "nbformat": 4,
 "nbformat_minor": 5
}
