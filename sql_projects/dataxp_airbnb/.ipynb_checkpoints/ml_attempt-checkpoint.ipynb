{
 "cells": [
  {
   "cell_type": "code",
   "execution_count": 1,
   "id": "725e62d0",
   "metadata": {},
   "outputs": [],
   "source": [
    "import numpy as np\n",
    "import pandas as pd\n",
    "import psycopg2 as pg2\n",
    "\n",
    "import os\n",
    "from dotenv import load_dotenv\n",
    "\n",
    "from sklearn.compose import ColumnTransformer\n",
    "from sklearn.preprocessing import OneHotEncoder\n",
    "from sklearn.model_selection import train_test_split\n",
    "from sklearn.preprocessing import StandardScaler\n",
    "\n",
    "from sklearn.svm import SVR\n",
    "from sklearn.metrics import r2_score"
   ]
  },
  {
   "cell_type": "markdown",
   "id": "8dcd9378",
   "metadata": {},
   "source": [
    "## Obtaining the Data From Postgres"
   ]
  },
  {
   "cell_type": "code",
   "execution_count": 2,
   "id": "c4e05f62",
   "metadata": {},
   "outputs": [],
   "source": [
    "load_dotenv()\n",
    "\n",
    "conn = pg2.connect(\n",
    "    database = os.getenv('POSTGRES_DATABASE'),\n",
    "    user = os.getenv('POSTGRES_USER'),\n",
    "    password = os.getenv('POSTGRES_PASSWORD')\n",
    ")\n",
    "\n",
    "cursor = conn.cursor()\n",
    "\n",
    "cursor.execute('''\n",
    "    SELECT\n",
    "        neighborhood_group,\n",
    "        neighborhood,\n",
    "        room_type,\n",
    "        minimum_nights,\n",
    "        bedrooms,\n",
    "        bathrooms,\n",
    "        private_bath,\n",
    "        accommodates,\n",
    "        price\n",
    "            FROM nyc_airbnb\n",
    "''')\n",
    "\n",
    "result = cursor.fetchall()\n",
    "\n",
    "conn.close()"
   ]
  },
  {
   "cell_type": "code",
   "execution_count": 3,
   "id": "808b8266",
   "metadata": {},
   "outputs": [],
   "source": [
    "df = pd.DataFrame(data = result)"
   ]
  },
  {
   "cell_type": "code",
   "execution_count": 4,
   "id": "62a951dd",
   "metadata": {},
   "outputs": [],
   "source": [
    "df.rename(columns = {\n",
    "    0: 'neighborhood',\n",
    "    1: 'neighborhood_group',\n",
    "    2: 'room_type',\n",
    "    3: 'minimum_nights',\n",
    "    4: 'bedrooms',\n",
    "    5: 'bathrooms',\n",
    "    6: 'private_bath',\n",
    "    7: 'accommodates',\n",
    "    8: 'price'\n",
    "}, inplace = True)"
   ]
  },
  {
   "cell_type": "code",
   "execution_count": 5,
   "id": "d87cd8df",
   "metadata": {},
   "outputs": [
    {
     "data": {
      "text/html": [
       "<div>\n",
       "<style scoped>\n",
       "    .dataframe tbody tr th:only-of-type {\n",
       "        vertical-align: middle;\n",
       "    }\n",
       "\n",
       "    .dataframe tbody tr th {\n",
       "        vertical-align: top;\n",
       "    }\n",
       "\n",
       "    .dataframe thead th {\n",
       "        text-align: right;\n",
       "    }\n",
       "</style>\n",
       "<table border=\"1\" class=\"dataframe\">\n",
       "  <thead>\n",
       "    <tr style=\"text-align: right;\">\n",
       "      <th></th>\n",
       "      <th>neighborhood</th>\n",
       "      <th>neighborhood_group</th>\n",
       "      <th>room_type</th>\n",
       "      <th>minimum_nights</th>\n",
       "      <th>bedrooms</th>\n",
       "      <th>bathrooms</th>\n",
       "      <th>private_bath</th>\n",
       "      <th>accommodates</th>\n",
       "      <th>price</th>\n",
       "    </tr>\n",
       "  </thead>\n",
       "  <tbody>\n",
       "    <tr>\n",
       "      <th>0</th>\n",
       "      <td>Manhattan</td>\n",
       "      <td>Midtown</td>\n",
       "      <td>Entire home/apt</td>\n",
       "      <td>30</td>\n",
       "      <td>0.0</td>\n",
       "      <td>1.0</td>\n",
       "      <td>1</td>\n",
       "      <td>1</td>\n",
       "      <td>150</td>\n",
       "    </tr>\n",
       "    <tr>\n",
       "      <th>1</th>\n",
       "      <td>Brooklyn</td>\n",
       "      <td>Bedford-Stuyvesant</td>\n",
       "      <td>Entire home/apt</td>\n",
       "      <td>1</td>\n",
       "      <td>1.0</td>\n",
       "      <td>1.0</td>\n",
       "      <td>1</td>\n",
       "      <td>3</td>\n",
       "      <td>75</td>\n",
       "    </tr>\n",
       "    <tr>\n",
       "      <th>2</th>\n",
       "      <td>Brooklyn</td>\n",
       "      <td>Bedford-Stuyvesant</td>\n",
       "      <td>Private room</td>\n",
       "      <td>30</td>\n",
       "      <td>1.0</td>\n",
       "      <td>NaN</td>\n",
       "      <td>0</td>\n",
       "      <td>2</td>\n",
       "      <td>60</td>\n",
       "    </tr>\n",
       "    <tr>\n",
       "      <th>3</th>\n",
       "      <td>Brooklyn</td>\n",
       "      <td>Sunset Park</td>\n",
       "      <td>Entire home/apt</td>\n",
       "      <td>5</td>\n",
       "      <td>2.0</td>\n",
       "      <td>1.5</td>\n",
       "      <td>1</td>\n",
       "      <td>4</td>\n",
       "      <td>275</td>\n",
       "    </tr>\n",
       "    <tr>\n",
       "      <th>4</th>\n",
       "      <td>Manhattan</td>\n",
       "      <td>Midtown</td>\n",
       "      <td>Private room</td>\n",
       "      <td>2</td>\n",
       "      <td>1.0</td>\n",
       "      <td>1.0</td>\n",
       "      <td>1</td>\n",
       "      <td>2</td>\n",
       "      <td>61</td>\n",
       "    </tr>\n",
       "  </tbody>\n",
       "</table>\n",
       "</div>"
      ],
      "text/plain": [
       "  neighborhood  neighborhood_group        room_type  minimum_nights  bedrooms  \\\n",
       "0    Manhattan             Midtown  Entire home/apt              30       0.0   \n",
       "1     Brooklyn  Bedford-Stuyvesant  Entire home/apt               1       1.0   \n",
       "2     Brooklyn  Bedford-Stuyvesant     Private room              30       1.0   \n",
       "3     Brooklyn         Sunset Park  Entire home/apt               5       2.0   \n",
       "4    Manhattan             Midtown     Private room               2       1.0   \n",
       "\n",
       "   bathrooms  private_bath  accommodates  price  \n",
       "0        1.0             1             1    150  \n",
       "1        1.0             1             3     75  \n",
       "2        NaN             0             2     60  \n",
       "3        1.5             1             4    275  \n",
       "4        1.0             1             2     61  "
      ]
     },
     "execution_count": 5,
     "metadata": {},
     "output_type": "execute_result"
    }
   ],
   "source": [
    "df.head()"
   ]
  },
  {
   "cell_type": "markdown",
   "id": "4618d564",
   "metadata": {},
   "source": [
    "## Cleaning the Data"
   ]
  },
  {
   "cell_type": "code",
   "execution_count": 6,
   "id": "c10042e0",
   "metadata": {},
   "outputs": [],
   "source": [
    "# Making a copy prevents the warning.\n",
    "\n",
    "neighborhood_df = df[(df['neighborhood'] == 'Brooklyn') & (df['neighborhood_group'] == 'Prospect Heights')].copy()"
   ]
  },
  {
   "cell_type": "code",
   "execution_count": 7,
   "id": "5f1fd284",
   "metadata": {},
   "outputs": [
    {
     "data": {
      "text/plain": [
       "False    218\n",
       "Name: bathrooms, dtype: int64"
      ]
     },
     "execution_count": 7,
     "metadata": {},
     "output_type": "execute_result"
    }
   ],
   "source": [
    "neighborhood_df['bathrooms'].isna().value_counts()"
   ]
  },
  {
   "cell_type": "code",
   "execution_count": 8,
   "id": "87d307ff",
   "metadata": {},
   "outputs": [],
   "source": [
    "# Assume that at every listing has at least one bathroom\n",
    "\n",
    "neighborhood_df['bathrooms'].fillna(value = 1, inplace = True)"
   ]
  },
  {
   "cell_type": "code",
   "execution_count": 9,
   "id": "72ed227f",
   "metadata": {},
   "outputs": [
    {
     "data": {
      "text/plain": [
       "False    218\n",
       "Name: bathrooms, dtype: int64"
      ]
     },
     "execution_count": 9,
     "metadata": {},
     "output_type": "execute_result"
    }
   ],
   "source": [
    "neighborhood_df['bathrooms'].isna().value_counts()"
   ]
  },
  {
   "cell_type": "code",
   "execution_count": 10,
   "id": "3e6111f2",
   "metadata": {},
   "outputs": [],
   "source": [
    "# Remove the data where the price is listed as 0\n",
    "\n",
    "neighborhood_df = neighborhood_df[neighborhood_df['price'] != 0]"
   ]
  },
  {
   "cell_type": "code",
   "execution_count": 11,
   "id": "f9a7768d",
   "metadata": {},
   "outputs": [
    {
     "data": {
      "text/plain": [
       "Entire home/apt    139\n",
       "Private room        79\n",
       "Name: room_type, dtype: int64"
      ]
     },
     "execution_count": 11,
     "metadata": {},
     "output_type": "execute_result"
    }
   ],
   "source": [
    "neighborhood_df['room_type'].value_counts()"
   ]
  },
  {
   "cell_type": "code",
   "execution_count": 12,
   "id": "22c4c21d",
   "metadata": {},
   "outputs": [],
   "source": [
    "# We are not interested in hotel rooms, so we can drop this data.\n",
    "\n",
    "neighborhood_df = neighborhood_df[neighborhood_df['room_type'] != 'Hotel room']"
   ]
  },
  {
   "cell_type": "markdown",
   "id": "ee32e24b",
   "metadata": {},
   "source": [
    "## Preparing the Data for ML"
   ]
  },
  {
   "cell_type": "code",
   "execution_count": 13,
   "id": "c814bee6",
   "metadata": {},
   "outputs": [],
   "source": [
    "# X is the columns room_type, minimum_nights, bedrooms, bathrooms, private_bath, and accommodates\n",
    "# y is the price column\n",
    "\n",
    "X = neighborhood_df.iloc[:, 2:-1].values\n",
    "y = neighborhood_df.iloc[:, -1].values"
   ]
  },
  {
   "cell_type": "code",
   "execution_count": 14,
   "id": "1b4d692d",
   "metadata": {},
   "outputs": [
    {
     "data": {
      "text/plain": [
       "array([['Entire home/apt', 30, 4.0, 2.0, 1, 8],\n",
       "       ['Private room', 30, 1.0, 1.5, 0, 2],\n",
       "       ['Entire home/apt', 30, 2.0, 1.0, 1, 4],\n",
       "       ...,\n",
       "       ['Entire home/apt', 7, 0.0, 1.0, 1, 2],\n",
       "       ['Entire home/apt', 7, 0.0, 1.0, 1, 2],\n",
       "       ['Private room', 90, 1.0, 1.0, 0, 1]], dtype=object)"
      ]
     },
     "execution_count": 14,
     "metadata": {},
     "output_type": "execute_result"
    }
   ],
   "source": [
    "X"
   ]
  },
  {
   "cell_type": "code",
   "execution_count": 15,
   "id": "c6928383",
   "metadata": {},
   "outputs": [],
   "source": [
    "# OneHotEncoder given a column to each room_type with a 1 or 0 value.\n",
    "# remainder = 'passthrough' makes sure that we keep the remaining columns.\n",
    "\n",
    "ct = ColumnTransformer(transformers = [('encoder', OneHotEncoder(), [0])], remainder = 'passthrough')\n",
    "X = np.array(ct.fit_transform(X))"
   ]
  },
  {
   "cell_type": "code",
   "execution_count": 16,
   "id": "0b190bed",
   "metadata": {},
   "outputs": [
    {
     "data": {
      "text/plain": [
       "array([[1.0, 0.0, 30, ..., 2.0, 1, 8],\n",
       "       [0.0, 1.0, 30, ..., 1.5, 0, 2],\n",
       "       [1.0, 0.0, 30, ..., 1.0, 1, 4],\n",
       "       ...,\n",
       "       [1.0, 0.0, 7, ..., 1.0, 1, 2],\n",
       "       [1.0, 0.0, 7, ..., 1.0, 1, 2],\n",
       "       [0.0, 1.0, 90, ..., 1.0, 0, 1]], dtype=object)"
      ]
     },
     "execution_count": 16,
     "metadata": {},
     "output_type": "execute_result"
    }
   ],
   "source": [
    "X"
   ]
  },
  {
   "cell_type": "markdown",
   "id": "452e4f61",
   "metadata": {},
   "source": [
    "[1, 0, 0] appears to be 'Entire home/apt'  \n",
    "[0, 1, 0] appears to be 'Private room'  \n",
    "This must mean that [0, 0, 1] is 'Shared room'"
   ]
  },
  {
   "cell_type": "code",
   "execution_count": 17,
   "id": "faa1adb9",
   "metadata": {},
   "outputs": [],
   "source": [
    "# test_size = 0.2 gives 20 percent of observations into the test_set.\n",
    "# random_state fixes the seed.\n",
    "\n",
    "X_train, X_test, y_train, y_test = train_test_split(X, y, test_size = 0.2, random_state = 1)"
   ]
  },
  {
   "cell_type": "code",
   "execution_count": 18,
   "id": "26610b56",
   "metadata": {},
   "outputs": [],
   "source": [
    "# We need to make y 2D in order to pass it through StandardScaler.fit_transform()\n",
    "\n",
    "y_train = y_train.reshape(len(y_train), 1)"
   ]
  },
  {
   "cell_type": "code",
   "execution_count": 19,
   "id": "0bfdda49",
   "metadata": {},
   "outputs": [],
   "source": [
    "# We will need to use a different standard scaler on X and y because the standard scaler will\n",
    "# use the same mean and standard deviation for both X and y, which obviously have different\n",
    "# means and standard deviations.\n",
    "\n",
    "sc_X = StandardScaler()\n",
    "sc_y = StandardScaler()\n",
    "X_train = sc_X.fit_transform(X_train)\n",
    "y_train = sc_y.fit_transform(y_train)"
   ]
  },
  {
   "cell_type": "markdown",
   "id": "3bf4c947",
   "metadata": {},
   "source": [
    "## Running the SVR Model"
   ]
  },
  {
   "cell_type": "code",
   "execution_count": 20,
   "id": "a353bfae",
   "metadata": {},
   "outputs": [
    {
     "data": {
      "text/plain": [
       "SVR(kernel='linear')"
      ]
     },
     "execution_count": 20,
     "metadata": {},
     "output_type": "execute_result"
    }
   ],
   "source": [
    "# kernel = 'linear' recommended by the link below\n",
    "# https://scikit-learn.org/stable/tutorial/machine_learning_map/index.html\n",
    "# regressor.fit expects a 1D array for y. y.reshape(len(y)) changes the array back to 1D.\n",
    "\n",
    "regressor = SVR(kernel = 'linear')\n",
    "regressor.fit(X_train, y_train.reshape(len(y_train)))"
   ]
  },
  {
   "cell_type": "markdown",
   "id": "762e9dc0",
   "metadata": {},
   "source": [
    "## Predicting the Test Set Results"
   ]
  },
  {
   "cell_type": "code",
   "execution_count": 21,
   "id": "40746d7a",
   "metadata": {},
   "outputs": [
    {
     "name": "stdout",
     "output_type": "stream",
     "text": [
      "[[127.25 104.  ]\n",
      " [445.61 550.  ]\n",
      " [242.68 200.  ]\n",
      " [137.37 180.  ]\n",
      " [151.82 185.  ]\n",
      " [156.16 143.  ]\n",
      " [118.79 129.  ]\n",
      " [158.31 170.  ]\n",
      " [130.8   75.  ]\n",
      " [133.61 175.  ]\n",
      " [137.37  67.  ]\n",
      " [420.91 458.  ]\n",
      " [ 67.7   85.  ]\n",
      " [196.25  50.  ]\n",
      " [ 92.88 132.  ]\n",
      " [320.93 450.  ]\n",
      " [118.   120.  ]\n",
      " [193.07 165.  ]\n",
      " [152.97 241.  ]\n",
      " [117.22  96.  ]\n",
      " [157.52  95.  ]\n",
      " [200.1  225.  ]\n",
      " [ 92.3   90.  ]\n",
      " [118.   123.  ]\n",
      " [117.43 100.  ]\n",
      " [118.   125.  ]\n",
      " [118.   100.  ]\n",
      " [ 56.14  50.  ]\n",
      " [118.   105.  ]\n",
      " [200.1  150.  ]\n",
      " [223.32 200.  ]\n",
      " [234.98 149.  ]\n",
      " [117.22 129.  ]\n",
      " [118.    55.  ]\n",
      " [156.73 120.  ]\n",
      " [137.37 130.  ]\n",
      " [156.73 102.  ]\n",
      " [321.72 140.  ]\n",
      " [ 71.46  79.  ]\n",
      " [130.51 180.  ]\n",
      " [199.31 120.  ]\n",
      " [118.   195.  ]\n",
      " [114.04  60.  ]\n",
      " [ 71.46  65.  ]]\n"
     ]
    }
   ],
   "source": [
    "y_pred = sc_y.inverse_transform(regressor.predict(sc_X.transform(X_test)))\n",
    "np.set_printoptions(precision=2)\n",
    "print(np.concatenate((y_pred.reshape(len(y_pred),1), y_test.reshape(len(y_test),1)),1))"
   ]
  },
  {
   "cell_type": "markdown",
   "id": "2cbccbed",
   "metadata": {},
   "source": [
    "## Evaluating the Model Performance"
   ]
  },
  {
   "cell_type": "code",
   "execution_count": 22,
   "id": "a49523d9",
   "metadata": {},
   "outputs": [
    {
     "data": {
      "text/plain": [
       "0.672241052428816"
      ]
     },
     "execution_count": 22,
     "metadata": {},
     "output_type": "execute_result"
    }
   ],
   "source": [
    "r2_score(y_test, y_pred)"
   ]
  },
  {
   "cell_type": "code",
   "execution_count": null,
   "id": "c2947a79",
   "metadata": {},
   "outputs": [],
   "source": []
  }
 ],
 "metadata": {
  "kernelspec": {
   "display_name": "Python 3",
   "language": "python",
   "name": "python3"
  },
  "language_info": {
   "codemirror_mode": {
    "name": "ipython",
    "version": 3
   },
   "file_extension": ".py",
   "mimetype": "text/x-python",
   "name": "python",
   "nbconvert_exporter": "python",
   "pygments_lexer": "ipython3",
   "version": "3.8.10"
  }
 },
 "nbformat": 4,
 "nbformat_minor": 5
}
