{
 "cells": [
  {
   "cell_type": "code",
   "execution_count": 42,
   "id": "figured-alpha",
   "metadata": {},
   "outputs": [],
   "source": [
    "import os\n",
    "import numpy as np\n",
    "import pandas as pd\n",
    "import seaborn as sns\n",
    "import psycopg2 as pg2\n",
    "\n",
    "from dotenv import load_dotenv\n",
    "\n",
    "import query_strings"
   ]
  },
  {
   "cell_type": "code",
   "execution_count": null,
   "id": "lightweight-verification",
   "metadata": {},
   "outputs": [],
   "source": [
    "%load_ext dotenv\n",
    "%dotenv\n",
    "\n",
    "%reload_ext autoreload\n",
    "%autoreload 2"
   ]
  },
  {
   "cell_type": "code",
   "execution_count": 34,
   "id": "surface-thirty",
   "metadata": {},
   "outputs": [
    {
     "data": {
      "text/plain": [
       "True"
      ]
     },
     "execution_count": 34,
     "metadata": {},
     "output_type": "execute_result"
    }
   ],
   "source": [
    "load_dotenv()"
   ]
  },
  {
   "cell_type": "code",
   "execution_count": 35,
   "id": "corrected-collaboration",
   "metadata": {},
   "outputs": [],
   "source": [
    "conn = pg2.connect(\n",
    "    database = os.getenv('POSTGRES_DATABASE'), \n",
    "    user = os.getenv('POSTGRES_USER'), \n",
    "    password = os.getenv('POSTGRES_PASSWORD')\n",
    ")"
   ]
  },
  {
   "cell_type": "code",
   "execution_count": 36,
   "id": "discrete-flush",
   "metadata": {},
   "outputs": [],
   "source": [
    "cur = conn.cursor()"
   ]
  },
  {
   "cell_type": "code",
   "execution_count": 45,
   "id": "union-pearl",
   "metadata": {},
   "outputs": [],
   "source": [
    "cur.execute(query_strings.city_subcategory_sale_counts)"
   ]
  },
  {
   "cell_type": "code",
   "execution_count": 48,
   "id": "israeli-repeat",
   "metadata": {},
   "outputs": [],
   "source": [
    "city_subcat_sales_df = pd.DataFrame(data = cur.fetchall())"
   ]
  },
  {
   "cell_type": "code",
   "execution_count": null,
   "id": "thick-pledge",
   "metadata": {},
   "outputs": [],
   "source": []
  }
 ],
 "metadata": {
  "kernelspec": {
   "display_name": "Python 3",
   "language": "python",
   "name": "python3"
  },
  "language_info": {
   "codemirror_mode": {
    "name": "ipython",
    "version": 3
   },
   "file_extension": ".py",
   "mimetype": "text/x-python",
   "name": "python",
   "nbconvert_exporter": "python",
   "pygments_lexer": "ipython3",
   "version": "3.8.5"
  }
 },
 "nbformat": 4,
 "nbformat_minor": 5
}
