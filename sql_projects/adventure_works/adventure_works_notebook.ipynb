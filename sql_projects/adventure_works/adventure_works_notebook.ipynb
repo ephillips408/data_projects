{
 "cells": [
  {
   "cell_type": "code",
   "execution_count": 17,
   "id": "atomic-departure",
   "metadata": {},
   "outputs": [],
   "source": [
    "import os\n",
    "import numpy as np\n",
    "import pandas as pd\n",
    "import seaborn as sns\n",
    "import psycopg2 as pg2\n",
    "\n",
    "from dotenv import load_dotenv\n",
    "\n",
    "import query_strings"
   ]
  },
  {
   "cell_type": "code",
   "execution_count": 2,
   "id": "thorough-masters",
   "metadata": {},
   "outputs": [],
   "source": [
    "%load_ext dotenv\n",
    "%dotenv\n",
    "\n",
    "%reload_ext autoreload\n",
    "%autoreload 2"
   ]
  },
  {
   "cell_type": "code",
   "execution_count": 3,
   "id": "subtle-pencil",
   "metadata": {},
   "outputs": [
    {
     "data": {
      "text/plain": [
       "True"
      ]
     },
     "execution_count": 3,
     "metadata": {},
     "output_type": "execute_result"
    }
   ],
   "source": [
    "load_dotenv()"
   ]
  },
  {
   "cell_type": "code",
   "execution_count": 4,
   "id": "clean-pregnancy",
   "metadata": {},
   "outputs": [],
   "source": [
    "conn = pg2.connect(\n",
    "    database = os.getenv('POSTGRES_DATABASE'), \n",
    "    user = os.getenv('POSTGRES_USER'), \n",
    "    password = os.getenv('POSTGRES_PASSWORD')\n",
    ")"
   ]
  },
  {
   "cell_type": "code",
   "execution_count": 5,
   "id": "baking-greek",
   "metadata": {},
   "outputs": [],
   "source": [
    "cur = conn.cursor()"
   ]
  },
  {
   "cell_type": "code",
   "execution_count": 6,
   "id": "empty-reminder",
   "metadata": {},
   "outputs": [],
   "source": [
    "cur.execute(query_strings.city_subcategory_sale_counts)"
   ]
  },
  {
   "cell_type": "code",
   "execution_count": 7,
   "id": "expired-while",
   "metadata": {},
   "outputs": [],
   "source": [
    "city_subcat_sales_df = pd.DataFrame(data = cur.fetchall())"
   ]
  },
  {
   "cell_type": "code",
   "execution_count": 9,
   "id": "superior-yeast",
   "metadata": {},
   "outputs": [],
   "source": [
    "cur.execute(query_strings.sales_info_city)"
   ]
  },
  {
   "cell_type": "code",
   "execution_count": 10,
   "id": "collective-tunnel",
   "metadata": {},
   "outputs": [],
   "source": [
    "sales_info_city_df = pd.DataFrame(data = cur.fetchall())"
   ]
  },
  {
   "cell_type": "code",
   "execution_count": 11,
   "id": "successful-swimming",
   "metadata": {},
   "outputs": [
    {
     "data": {
      "text/html": [
       "<div>\n",
       "<style scoped>\n",
       "    .dataframe tbody tr th:only-of-type {\n",
       "        vertical-align: middle;\n",
       "    }\n",
       "\n",
       "    .dataframe tbody tr th {\n",
       "        vertical-align: top;\n",
       "    }\n",
       "\n",
       "    .dataframe thead th {\n",
       "        text-align: right;\n",
       "    }\n",
       "</style>\n",
       "<table border=\"1\" class=\"dataframe\">\n",
       "  <thead>\n",
       "    <tr style=\"text-align: right;\">\n",
       "      <th></th>\n",
       "      <th>0</th>\n",
       "      <th>1</th>\n",
       "      <th>2</th>\n",
       "      <th>3</th>\n",
       "    </tr>\n",
       "  </thead>\n",
       "  <tbody>\n",
       "    <tr>\n",
       "      <th>0</th>\n",
       "      <td>Toronto</td>\n",
       "      <td>176</td>\n",
       "      <td>5034269.59</td>\n",
       "      <td>28603.80</td>\n",
       "    </tr>\n",
       "    <tr>\n",
       "      <th>1</th>\n",
       "      <td>London</td>\n",
       "      <td>756</td>\n",
       "      <td>3071176.64</td>\n",
       "      <td>4062.40</td>\n",
       "    </tr>\n",
       "    <tr>\n",
       "      <th>2</th>\n",
       "      <td>Paris</td>\n",
       "      <td>575</td>\n",
       "      <td>2233808.20</td>\n",
       "      <td>3884.88</td>\n",
       "    </tr>\n",
       "    <tr>\n",
       "      <th>3</th>\n",
       "      <td>Seattle</td>\n",
       "      <td>134</td>\n",
       "      <td>1767307.65</td>\n",
       "      <td>13188.86</td>\n",
       "    </tr>\n",
       "    <tr>\n",
       "      <th>4</th>\n",
       "      <td>Burnaby</td>\n",
       "      <td>98</td>\n",
       "      <td>1503463.85</td>\n",
       "      <td>15341.47</td>\n",
       "    </tr>\n",
       "  </tbody>\n",
       "</table>\n",
       "</div>"
      ],
      "text/plain": [
       "         0    1           2         3\n",
       "0  Toronto  176  5034269.59  28603.80\n",
       "1   London  756  3071176.64   4062.40\n",
       "2    Paris  575  2233808.20   3884.88\n",
       "3  Seattle  134  1767307.65  13188.86\n",
       "4  Burnaby   98  1503463.85  15341.47"
      ]
     },
     "execution_count": 11,
     "metadata": {},
     "output_type": "execute_result"
    }
   ],
   "source": [
    "sales_info_city_df.head()"
   ]
  },
  {
   "cell_type": "code",
   "execution_count": null,
   "id": "clear-rebound",
   "metadata": {},
   "outputs": [],
   "source": []
  }
 ],
 "metadata": {
  "kernelspec": {
   "display_name": "Python 3",
   "language": "python",
   "name": "python3"
  },
  "language_info": {
   "codemirror_mode": {
    "name": "ipython",
    "version": 3
   },
   "file_extension": ".py",
   "mimetype": "text/x-python",
   "name": "python",
   "nbconvert_exporter": "python",
   "pygments_lexer": "ipython3",
   "version": "3.8.5"
  }
 },
 "nbformat": 4,
 "nbformat_minor": 5
}
