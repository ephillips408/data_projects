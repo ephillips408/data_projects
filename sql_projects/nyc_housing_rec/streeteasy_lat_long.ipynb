{
 "cells": [
  {
   "cell_type": "code",
   "execution_count": 1,
   "id": "0d5c6b4f",
   "metadata": {},
   "outputs": [],
   "source": [
    "import numpy as np\n",
    "import pandas as pd\n",
    "\n",
    "from geopy.geocoders import Nominatim"
   ]
  },
  {
   "cell_type": "markdown",
   "id": "05ca2fe5",
   "metadata": {},
   "source": [
    "## Lat/Long Information for Street Easy Neighborhoods\n",
    "\n",
    "While working with Tableau, visualization errors occurred while trying to visualize data that was obtained from blending two different sources. To solve this problem, we proceed by adding lat/long information to the existing `street_easy_nyc.csv` file, and will use this new file as the data source in Tableau."
   ]
  },
  {
   "cell_type": "code",
   "execution_count": 2,
   "id": "60cb0a99",
   "metadata": {},
   "outputs": [],
   "source": [
    "df = pd.read_csv('../../data/dataxp/airbnb_project/cleaned_data/street_easy_nyc.csv')"
   ]
  },
  {
   "cell_type": "code",
   "execution_count": 3,
   "id": "b1069084",
   "metadata": {},
   "outputs": [
    {
     "name": "stdout",
     "output_type": "stream",
     "text": [
      "<class 'pandas.core.frame.DataFrame'>\n",
      "RangeIndex: 110880 entries, 0 to 110879\n",
      "Data columns (total 6 columns):\n",
      " #   Column     Non-Null Count   Dtype  \n",
      "---  ------     --------------   -----  \n",
      " 0   area_name  110880 non-null  object \n",
      " 1   borough    110320 non-null  object \n",
      " 2   bedrooms   110880 non-null  object \n",
      " 3   price      49234 non-null   float64\n",
      " 4   year       110880 non-null  int64  \n",
      " 5   month      110880 non-null  int64  \n",
      "dtypes: float64(1), int64(2), object(3)\n",
      "memory usage: 5.1+ MB\n"
     ]
    }
   ],
   "source": [
    "# Making sure that this dataframe is equivalent in size to the SELECT * FROM street_easy_nyc SQL query.\n",
    "\n",
    "df.info()"
   ]
  },
  {
   "cell_type": "markdown",
   "id": "4087883f",
   "metadata": {},
   "source": [
    "## Adding Lat/Long Information for Each Neighborhood"
   ]
  },
  {
   "cell_type": "code",
   "execution_count": 4,
   "id": "24db06f3",
   "metadata": {},
   "outputs": [],
   "source": [
    "# We need a lat/long coordinate for all of the neighborhoods in the DataFrame\n",
    "# Keeping 'area_name' consistent allows for easer merging later on.\n",
    "\n",
    "locations = pd.DataFrame({'area_name': df['area_name'].unique()})"
   ]
  },
  {
   "cell_type": "code",
   "execution_count": 5,
   "id": "fe07816d",
   "metadata": {},
   "outputs": [],
   "source": [
    "# Adding ', New York City' will make sure we geolocate the correct neighborhood.\n",
    "\n",
    "locations['area_name'] = locations['area_name'].apply(lambda x: str(x) + ', New York City')"
   ]
  },
  {
   "cell_type": "code",
   "execution_count": 6,
   "id": "4e9ede27",
   "metadata": {},
   "outputs": [
    {
     "data": {
      "text/html": [
       "<div>\n",
       "<style scoped>\n",
       "    .dataframe tbody tr th:only-of-type {\n",
       "        vertical-align: middle;\n",
       "    }\n",
       "\n",
       "    .dataframe tbody tr th {\n",
       "        vertical-align: top;\n",
       "    }\n",
       "\n",
       "    .dataframe thead th {\n",
       "        text-align: right;\n",
       "    }\n",
       "</style>\n",
       "<table border=\"1\" class=\"dataframe\">\n",
       "  <thead>\n",
       "    <tr style=\"text-align: right;\">\n",
       "      <th></th>\n",
       "      <th>area_name</th>\n",
       "    </tr>\n",
       "  </thead>\n",
       "  <tbody>\n",
       "    <tr>\n",
       "      <th>0</th>\n",
       "      <td>Downtown, New York City</td>\n",
       "    </tr>\n",
       "    <tr>\n",
       "      <th>1</th>\n",
       "      <td>Midtown, New York City</td>\n",
       "    </tr>\n",
       "    <tr>\n",
       "      <th>2</th>\n",
       "      <td>Upper East Side, New York City</td>\n",
       "    </tr>\n",
       "    <tr>\n",
       "      <th>3</th>\n",
       "      <td>Upper Manhattan, New York City</td>\n",
       "    </tr>\n",
       "    <tr>\n",
       "      <th>4</th>\n",
       "      <td>Upper West Side, New York City</td>\n",
       "    </tr>\n",
       "  </tbody>\n",
       "</table>\n",
       "</div>"
      ],
      "text/plain": [
       "                        area_name\n",
       "0         Downtown, New York City\n",
       "1          Midtown, New York City\n",
       "2  Upper East Side, New York City\n",
       "3  Upper Manhattan, New York City\n",
       "4  Upper West Side, New York City"
      ]
     },
     "execution_count": 6,
     "metadata": {},
     "output_type": "execute_result"
    }
   ],
   "source": [
    "# Viewing the change\n",
    "\n",
    "locations.head()"
   ]
  },
  {
   "cell_type": "code",
   "execution_count": 7,
   "id": "050b330f",
   "metadata": {},
   "outputs": [],
   "source": [
    "geolocator = Nominatim(timeout = 10, user_agent = 'my_geolocator')"
   ]
  },
  {
   "cell_type": "code",
   "execution_count": 8,
   "id": "fa42dded",
   "metadata": {},
   "outputs": [
    {
     "data": {
      "text/plain": [
       "(40.7737016, -73.9641196)"
      ]
     },
     "execution_count": 8,
     "metadata": {},
     "output_type": "execute_result"
    }
   ],
   "source": [
    "# This is how we will get the lat/long coordinates\n",
    "\n",
    "geolocator.geocode('Upper East Side, New York City')[1]"
   ]
  },
  {
   "cell_type": "code",
   "execution_count": 9,
   "id": "90dc4238",
   "metadata": {},
   "outputs": [],
   "source": [
    "lat_long = []\n",
    "\n",
    "for neighborhood in locations['area_name']:\n",
    "    \n",
    "    try:\n",
    "        coords = geolocator.geocode(neighborhood)[1]\n",
    "        lat_long.append(coords)\n",
    "        \n",
    "    except (TypeError, NameError):\n",
    "        lat_long.append(None)"
   ]
  },
  {
   "cell_type": "code",
   "execution_count": 10,
   "id": "61a48ee9",
   "metadata": {},
   "outputs": [
    {
     "name": "stdout",
     "output_type": "stream",
     "text": [
      "195\n",
      "195\n"
     ]
    }
   ],
   "source": [
    "# Making sure that lat_long and locations are the same length\n",
    "\n",
    "print (len(lat_long))\n",
    "print (len(locations))"
   ]
  },
  {
   "cell_type": "code",
   "execution_count": 11,
   "id": "2dd34c67",
   "metadata": {},
   "outputs": [],
   "source": [
    "locations['coords'] = lat_long"
   ]
  },
  {
   "cell_type": "code",
   "execution_count": 12,
   "id": "c12f0ee8",
   "metadata": {},
   "outputs": [
    {
     "data": {
      "text/html": [
       "<div>\n",
       "<style scoped>\n",
       "    .dataframe tbody tr th:only-of-type {\n",
       "        vertical-align: middle;\n",
       "    }\n",
       "\n",
       "    .dataframe tbody tr th {\n",
       "        vertical-align: top;\n",
       "    }\n",
       "\n",
       "    .dataframe thead th {\n",
       "        text-align: right;\n",
       "    }\n",
       "</style>\n",
       "<table border=\"1\" class=\"dataframe\">\n",
       "  <thead>\n",
       "    <tr style=\"text-align: right;\">\n",
       "      <th></th>\n",
       "      <th>area_name</th>\n",
       "      <th>coords</th>\n",
       "    </tr>\n",
       "  </thead>\n",
       "  <tbody>\n",
       "    <tr>\n",
       "      <th>0</th>\n",
       "      <td>Downtown, New York City</td>\n",
       "      <td>(40.5997561, -73.9463899)</td>\n",
       "    </tr>\n",
       "    <tr>\n",
       "      <th>1</th>\n",
       "      <td>Midtown, New York City</td>\n",
       "      <td>(40.76008455, -73.97815861015326)</td>\n",
       "    </tr>\n",
       "    <tr>\n",
       "      <th>2</th>\n",
       "      <td>Upper East Side, New York City</td>\n",
       "      <td>(40.7737016, -73.9641196)</td>\n",
       "    </tr>\n",
       "    <tr>\n",
       "      <th>3</th>\n",
       "      <td>Upper Manhattan, New York City</td>\n",
       "      <td>(40.7870455, -73.9754163)</td>\n",
       "    </tr>\n",
       "    <tr>\n",
       "      <th>4</th>\n",
       "      <td>Upper West Side, New York City</td>\n",
       "      <td>(40.7870455, -73.9754163)</td>\n",
       "    </tr>\n",
       "  </tbody>\n",
       "</table>\n",
       "</div>"
      ],
      "text/plain": [
       "                        area_name                             coords\n",
       "0         Downtown, New York City          (40.5997561, -73.9463899)\n",
       "1          Midtown, New York City  (40.76008455, -73.97815861015326)\n",
       "2  Upper East Side, New York City          (40.7737016, -73.9641196)\n",
       "3  Upper Manhattan, New York City          (40.7870455, -73.9754163)\n",
       "4  Upper West Side, New York City          (40.7870455, -73.9754163)"
      ]
     },
     "execution_count": 12,
     "metadata": {},
     "output_type": "execute_result"
    }
   ],
   "source": [
    "locations.head()"
   ]
  },
  {
   "cell_type": "code",
   "execution_count": 13,
   "id": "39955dd5",
   "metadata": {},
   "outputs": [
    {
     "data": {
      "text/html": [
       "<div>\n",
       "<style scoped>\n",
       "    .dataframe tbody tr th:only-of-type {\n",
       "        vertical-align: middle;\n",
       "    }\n",
       "\n",
       "    .dataframe tbody tr th {\n",
       "        vertical-align: top;\n",
       "    }\n",
       "\n",
       "    .dataframe thead th {\n",
       "        text-align: right;\n",
       "    }\n",
       "</style>\n",
       "<table border=\"1\" class=\"dataframe\">\n",
       "  <thead>\n",
       "    <tr style=\"text-align: right;\">\n",
       "      <th></th>\n",
       "      <th>area_name</th>\n",
       "      <th>coords</th>\n",
       "    </tr>\n",
       "  </thead>\n",
       "  <tbody>\n",
       "    <tr>\n",
       "      <th>136</th>\n",
       "      <td>Old Mill Basin, New York City</td>\n",
       "      <td>None</td>\n",
       "    </tr>\n",
       "    <tr>\n",
       "      <th>146</th>\n",
       "      <td>Prospect Lefferts Gardens, New York City</td>\n",
       "      <td>None</td>\n",
       "    </tr>\n",
       "    <tr>\n",
       "      <th>172</th>\n",
       "      <td>Stuyvesant Town/PCV, New York City</td>\n",
       "      <td>None</td>\n",
       "    </tr>\n",
       "    <tr>\n",
       "      <th>175</th>\n",
       "      <td>The Rockaways, New York City</td>\n",
       "      <td>None</td>\n",
       "    </tr>\n",
       "    <tr>\n",
       "      <th>186</th>\n",
       "      <td>Westchester Village, New York City</td>\n",
       "      <td>None</td>\n",
       "    </tr>\n",
       "  </tbody>\n",
       "</table>\n",
       "</div>"
      ],
      "text/plain": [
       "                                    area_name coords\n",
       "136             Old Mill Basin, New York City   None\n",
       "146  Prospect Lefferts Gardens, New York City   None\n",
       "172        Stuyvesant Town/PCV, New York City   None\n",
       "175              The Rockaways, New York City   None\n",
       "186        Westchester Village, New York City   None"
      ]
     },
     "execution_count": 13,
     "metadata": {},
     "output_type": "execute_result"
    }
   ],
   "source": [
    "# Check the None values\n",
    "\n",
    "locations[locations['coords'].isna() == True]"
   ]
  },
  {
   "cell_type": "markdown",
   "id": "6f263dc9",
   "metadata": {},
   "source": [
    "After checking these neighborhoods for pricing information in SQL, it was determined that Prospect Lefferts Gardens (PLG), Stuyvesant Town, and the Rockaways were the only neighborhoods that had pricing information in the database.\n",
    "\n",
    "We will add the information for PLG and Stuyvesant Town using individual geocoding searches. Some searches use "
   ]
  },
  {
   "cell_type": "code",
   "execution_count": 14,
   "id": "0345cdb5",
   "metadata": {},
   "outputs": [],
   "source": [
    "locations.loc[146, 'coords'] = geolocator.geocode('PLG, Brooklyn, New York, New York')[1]\n",
    "locations.loc[172, 'coords'] = geolocator.geocode('Stuyvesant Town, New York City')[1]\n",
    "locations.loc[175, 'coords'] = geolocator.geocode('Rockaway Beach, Queens, New York')[1]"
   ]
  },
  {
   "cell_type": "code",
   "execution_count": 15,
   "id": "102239fc",
   "metadata": {},
   "outputs": [
    {
     "data": {
      "text/html": [
       "<div>\n",
       "<style scoped>\n",
       "    .dataframe tbody tr th:only-of-type {\n",
       "        vertical-align: middle;\n",
       "    }\n",
       "\n",
       "    .dataframe tbody tr th {\n",
       "        vertical-align: top;\n",
       "    }\n",
       "\n",
       "    .dataframe thead th {\n",
       "        text-align: right;\n",
       "    }\n",
       "</style>\n",
       "<table border=\"1\" class=\"dataframe\">\n",
       "  <thead>\n",
       "    <tr style=\"text-align: right;\">\n",
       "      <th></th>\n",
       "      <th>area_name</th>\n",
       "      <th>coords</th>\n",
       "    </tr>\n",
       "  </thead>\n",
       "  <tbody>\n",
       "    <tr>\n",
       "      <th>136</th>\n",
       "      <td>Old Mill Basin, New York City</td>\n",
       "      <td>None</td>\n",
       "    </tr>\n",
       "    <tr>\n",
       "      <th>186</th>\n",
       "      <td>Westchester Village, New York City</td>\n",
       "      <td>None</td>\n",
       "    </tr>\n",
       "  </tbody>\n",
       "</table>\n",
       "</div>"
      ],
      "text/plain": [
       "                              area_name coords\n",
       "136       Old Mill Basin, New York City   None\n",
       "186  Westchester Village, New York City   None"
      ]
     },
     "execution_count": 15,
     "metadata": {},
     "output_type": "execute_result"
    }
   ],
   "source": [
    "# Checking the alteration\n",
    "\n",
    "locations[locations['coords'].isna() == True]"
   ]
  },
  {
   "cell_type": "code",
   "execution_count": 16,
   "id": "a4184ff2",
   "metadata": {},
   "outputs": [],
   "source": [
    "# We will drop the above two columns because they do not have any pricing information.\n",
    "\n",
    "locations = locations.dropna().reset_index().drop('index', axis = 1)"
   ]
  },
  {
   "cell_type": "code",
   "execution_count": 17,
   "id": "ae9c5cda",
   "metadata": {},
   "outputs": [],
   "source": [
    "# Create individual lat and long columns\n",
    "\n",
    "locations['lat'] = locations['coords'].apply(lambda x: x[0])\n",
    "locations['long'] = locations['coords'].apply(lambda x: x[1])"
   ]
  },
  {
   "cell_type": "code",
   "execution_count": 18,
   "id": "faae989b",
   "metadata": {},
   "outputs": [],
   "source": [
    "# We can drop the 'coords' column because we have lat and long information in individual columns\n",
    "\n",
    "locations = locations.drop('coords', axis = 1)"
   ]
  },
  {
   "cell_type": "code",
   "execution_count": 19,
   "id": "cb4031c2",
   "metadata": {},
   "outputs": [],
   "source": [
    "# We can now remove ', New York City' from the 'neighborhood' column, as that information was only used\n",
    "# for geolocation purposes.\n",
    "\n",
    "locations['area_name'] = locations['area_name'].apply(lambda x: x.replace(', New York City', ''))"
   ]
  },
  {
   "cell_type": "code",
   "execution_count": 20,
   "id": "e3849f40",
   "metadata": {},
   "outputs": [
    {
     "data": {
      "text/html": [
       "<div>\n",
       "<style scoped>\n",
       "    .dataframe tbody tr th:only-of-type {\n",
       "        vertical-align: middle;\n",
       "    }\n",
       "\n",
       "    .dataframe tbody tr th {\n",
       "        vertical-align: top;\n",
       "    }\n",
       "\n",
       "    .dataframe thead th {\n",
       "        text-align: right;\n",
       "    }\n",
       "</style>\n",
       "<table border=\"1\" class=\"dataframe\">\n",
       "  <thead>\n",
       "    <tr style=\"text-align: right;\">\n",
       "      <th></th>\n",
       "      <th>area_name</th>\n",
       "      <th>lat</th>\n",
       "      <th>long</th>\n",
       "    </tr>\n",
       "  </thead>\n",
       "  <tbody>\n",
       "    <tr>\n",
       "      <th>82</th>\n",
       "      <td>Gravesend</td>\n",
       "      <td>40.596134</td>\n",
       "      <td>-73.973943</td>\n",
       "    </tr>\n",
       "    <tr>\n",
       "      <th>58</th>\n",
       "      <td>East Elmhurst</td>\n",
       "      <td>40.761212</td>\n",
       "      <td>-73.865136</td>\n",
       "    </tr>\n",
       "    <tr>\n",
       "      <th>160</th>\n",
       "      <td>Sheepshead Bay</td>\n",
       "      <td>40.591216</td>\n",
       "      <td>-73.944582</td>\n",
       "    </tr>\n",
       "    <tr>\n",
       "      <th>74</th>\n",
       "      <td>Forest Hills</td>\n",
       "      <td>40.719594</td>\n",
       "      <td>-73.844855</td>\n",
       "    </tr>\n",
       "    <tr>\n",
       "      <th>3</th>\n",
       "      <td>Upper Manhattan</td>\n",
       "      <td>40.787045</td>\n",
       "      <td>-73.975416</td>\n",
       "    </tr>\n",
       "    <tr>\n",
       "      <th>14</th>\n",
       "      <td>Bellerose</td>\n",
       "      <td>40.732778</td>\n",
       "      <td>-73.717778</td>\n",
       "    </tr>\n",
       "    <tr>\n",
       "      <th>134</th>\n",
       "      <td>Oakland Gardens</td>\n",
       "      <td>40.753991</td>\n",
       "      <td>-73.765966</td>\n",
       "    </tr>\n",
       "    <tr>\n",
       "      <th>111</th>\n",
       "      <td>Marine Park</td>\n",
       "      <td>40.595568</td>\n",
       "      <td>-73.916610</td>\n",
       "    </tr>\n",
       "    <tr>\n",
       "      <th>116</th>\n",
       "      <td>Midtown South</td>\n",
       "      <td>40.749842</td>\n",
       "      <td>-73.984251</td>\n",
       "    </tr>\n",
       "    <tr>\n",
       "      <th>183</th>\n",
       "      <td>West Harlem</td>\n",
       "      <td>40.801136</td>\n",
       "      <td>-73.959446</td>\n",
       "    </tr>\n",
       "  </tbody>\n",
       "</table>\n",
       "</div>"
      ],
      "text/plain": [
       "           area_name        lat       long\n",
       "82         Gravesend  40.596134 -73.973943\n",
       "58     East Elmhurst  40.761212 -73.865136\n",
       "160   Sheepshead Bay  40.591216 -73.944582\n",
       "74      Forest Hills  40.719594 -73.844855\n",
       "3    Upper Manhattan  40.787045 -73.975416\n",
       "14         Bellerose  40.732778 -73.717778\n",
       "134  Oakland Gardens  40.753991 -73.765966\n",
       "111      Marine Park  40.595568 -73.916610\n",
       "116    Midtown South  40.749842 -73.984251\n",
       "183      West Harlem  40.801136 -73.959446"
      ]
     },
     "execution_count": 20,
     "metadata": {},
     "output_type": "execute_result"
    }
   ],
   "source": [
    "# Checking the above alterations.\n",
    "\n",
    "locations.sample(10)"
   ]
  },
  {
   "cell_type": "markdown",
   "id": "562d9663",
   "metadata": {},
   "source": [
    "## Merging the DataFrames"
   ]
  },
  {
   "cell_type": "code",
   "execution_count": 22,
   "id": "2fa69d7c",
   "metadata": {},
   "outputs": [],
   "source": [
    "df = df.merge(locations, on = 'area_name', how = 'left')"
   ]
  },
  {
   "cell_type": "code",
   "execution_count": 23,
   "id": "254d23b1",
   "metadata": {},
   "outputs": [
    {
     "data": {
      "text/html": [
       "<div>\n",
       "<style scoped>\n",
       "    .dataframe tbody tr th:only-of-type {\n",
       "        vertical-align: middle;\n",
       "    }\n",
       "\n",
       "    .dataframe tbody tr th {\n",
       "        vertical-align: top;\n",
       "    }\n",
       "\n",
       "    .dataframe thead th {\n",
       "        text-align: right;\n",
       "    }\n",
       "</style>\n",
       "<table border=\"1\" class=\"dataframe\">\n",
       "  <thead>\n",
       "    <tr style=\"text-align: right;\">\n",
       "      <th></th>\n",
       "      <th>area_name</th>\n",
       "      <th>borough</th>\n",
       "      <th>bedrooms</th>\n",
       "      <th>price</th>\n",
       "      <th>year</th>\n",
       "      <th>month</th>\n",
       "      <th>lat</th>\n",
       "      <th>long</th>\n",
       "    </tr>\n",
       "  </thead>\n",
       "  <tbody>\n",
       "    <tr>\n",
       "      <th>15602</th>\n",
       "      <td>Roosevelt Island</td>\n",
       "      <td>Manhattan</td>\n",
       "      <td>2</td>\n",
       "      <td>3100.0</td>\n",
       "      <td>2011</td>\n",
       "      <td>8</td>\n",
       "      <td>40.761418</td>\n",
       "      <td>-73.950228</td>\n",
       "    </tr>\n",
       "    <tr>\n",
       "      <th>71777</th>\n",
       "      <td>Kew Gardens Hills</td>\n",
       "      <td>Queens</td>\n",
       "      <td>2</td>\n",
       "      <td>1975.0</td>\n",
       "      <td>2017</td>\n",
       "      <td>7</td>\n",
       "      <td>40.727499</td>\n",
       "      <td>-73.821720</td>\n",
       "    </tr>\n",
       "    <tr>\n",
       "      <th>86731</th>\n",
       "      <td>Bath Beach</td>\n",
       "      <td>Brooklyn</td>\n",
       "      <td>2</td>\n",
       "      <td>1900.0</td>\n",
       "      <td>2019</td>\n",
       "      <td>2</td>\n",
       "      <td>40.596451</td>\n",
       "      <td>-73.994659</td>\n",
       "    </tr>\n",
       "    <tr>\n",
       "      <th>28214</th>\n",
       "      <td>Kensington</td>\n",
       "      <td>Brooklyn</td>\n",
       "      <td>2</td>\n",
       "      <td>NaN</td>\n",
       "      <td>2012</td>\n",
       "      <td>12</td>\n",
       "      <td>40.646215</td>\n",
       "      <td>-73.970694</td>\n",
       "    </tr>\n",
       "    <tr>\n",
       "      <th>1398</th>\n",
       "      <td>Bedford Park</td>\n",
       "      <td>Bronx</td>\n",
       "      <td>3 plus</td>\n",
       "      <td>NaN</td>\n",
       "      <td>2010</td>\n",
       "      <td>2</td>\n",
       "      <td>40.870100</td>\n",
       "      <td>-73.885691</td>\n",
       "    </tr>\n",
       "    <tr>\n",
       "      <th>54070</th>\n",
       "      <td>Bensonhurst</td>\n",
       "      <td>Brooklyn</td>\n",
       "      <td>1</td>\n",
       "      <td>1450.0</td>\n",
       "      <td>2015</td>\n",
       "      <td>9</td>\n",
       "      <td>40.604977</td>\n",
       "      <td>-73.993406</td>\n",
       "    </tr>\n",
       "    <tr>\n",
       "      <th>19893</th>\n",
       "      <td>Inwood</td>\n",
       "      <td>Manhattan</td>\n",
       "      <td>0</td>\n",
       "      <td>NaN</td>\n",
       "      <td>2012</td>\n",
       "      <td>2</td>\n",
       "      <td>40.869258</td>\n",
       "      <td>-73.920495</td>\n",
       "    </tr>\n",
       "    <tr>\n",
       "      <th>38104</th>\n",
       "      <td>Hillcrest</td>\n",
       "      <td>Queens</td>\n",
       "      <td>0</td>\n",
       "      <td>NaN</td>\n",
       "      <td>2014</td>\n",
       "      <td>1</td>\n",
       "      <td>40.709643</td>\n",
       "      <td>-73.802642</td>\n",
       "    </tr>\n",
       "    <tr>\n",
       "      <th>28760</th>\n",
       "      <td>Country Club</td>\n",
       "      <td>Bronx</td>\n",
       "      <td>1</td>\n",
       "      <td>NaN</td>\n",
       "      <td>2013</td>\n",
       "      <td>1</td>\n",
       "      <td>40.839167</td>\n",
       "      <td>-73.819722</td>\n",
       "    </tr>\n",
       "    <tr>\n",
       "      <th>62445</th>\n",
       "      <td>Fort Greene</td>\n",
       "      <td>Brooklyn</td>\n",
       "      <td>3 plus</td>\n",
       "      <td>3998.0</td>\n",
       "      <td>2016</td>\n",
       "      <td>7</td>\n",
       "      <td>40.690771</td>\n",
       "      <td>-73.976624</td>\n",
       "    </tr>\n",
       "  </tbody>\n",
       "</table>\n",
       "</div>"
      ],
      "text/plain": [
       "               area_name    borough bedrooms   price  year  month        lat  \\\n",
       "15602   Roosevelt Island  Manhattan        2  3100.0  2011      8  40.761418   \n",
       "71777  Kew Gardens Hills     Queens        2  1975.0  2017      7  40.727499   \n",
       "86731         Bath Beach   Brooklyn        2  1900.0  2019      2  40.596451   \n",
       "28214         Kensington   Brooklyn        2     NaN  2012     12  40.646215   \n",
       "1398        Bedford Park      Bronx   3 plus     NaN  2010      2  40.870100   \n",
       "54070        Bensonhurst   Brooklyn        1  1450.0  2015      9  40.604977   \n",
       "19893             Inwood  Manhattan        0     NaN  2012      2  40.869258   \n",
       "38104          Hillcrest     Queens        0     NaN  2014      1  40.709643   \n",
       "28760       Country Club      Bronx        1     NaN  2013      1  40.839167   \n",
       "62445        Fort Greene   Brooklyn   3 plus  3998.0  2016      7  40.690771   \n",
       "\n",
       "            long  \n",
       "15602 -73.950228  \n",
       "71777 -73.821720  \n",
       "86731 -73.994659  \n",
       "28214 -73.970694  \n",
       "1398  -73.885691  \n",
       "54070 -73.993406  \n",
       "19893 -73.920495  \n",
       "38104 -73.802642  \n",
       "28760 -73.819722  \n",
       "62445 -73.976624  "
      ]
     },
     "execution_count": 23,
     "metadata": {},
     "output_type": "execute_result"
    }
   ],
   "source": [
    "# Checking the merge\n",
    "\n",
    "df.sample(10)"
   ]
  },
  {
   "cell_type": "markdown",
   "id": "3c5a5c49",
   "metadata": {},
   "source": [
    "## Saving the Results as a New `.csv`"
   ]
  },
  {
   "cell_type": "code",
   "execution_count": 24,
   "id": "6b2ccf89",
   "metadata": {},
   "outputs": [],
   "source": [
    "df.to_csv('../../data/nyc_housing_rec/cleaned_data/street_easy_lat_long.csv')"
   ]
  },
  {
   "cell_type": "code",
   "execution_count": null,
   "id": "d2e6b31a",
   "metadata": {},
   "outputs": [],
   "source": []
  }
 ],
 "metadata": {
  "kernelspec": {
   "display_name": "Python 3",
   "language": "python",
   "name": "python3"
  },
  "language_info": {
   "codemirror_mode": {
    "name": "ipython",
    "version": 3
   },
   "file_extension": ".py",
   "mimetype": "text/x-python",
   "name": "python",
   "nbconvert_exporter": "python",
   "pygments_lexer": "ipython3",
   "version": "3.8.10"
  }
 },
 "nbformat": 4,
 "nbformat_minor": 5
}
