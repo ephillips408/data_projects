{
 "cells": [
  {
   "cell_type": "code",
   "execution_count": 1,
   "id": "f3f58c2a",
   "metadata": {},
   "outputs": [],
   "source": [
    "import numpy as np\n",
    "import pandas as pd\n",
    "\n",
    "from geopy.geocoders import Nominatim"
   ]
  },
  {
   "cell_type": "markdown",
   "id": "26412989",
   "metadata": {},
   "source": [
    "## Lat/Long Information for Street Easy Neighborhoods\n",
    "\n",
    "While working with Tableau, visualization errors occurred while trying to visualize data that was obtained from blending two different sources. To solve this problem, we proceed by adding lat/long information to the existing `street_easy_nyc.csv` file, and will use this new file as the data source in Tableau."
   ]
  },
  {
   "cell_type": "code",
   "execution_count": 2,
   "id": "7542d61f",
   "metadata": {},
   "outputs": [],
   "source": [
    "df = pd.read_csv('../../data/dataxp/airbnb_project/cleaned_data/street_easy_nyc.csv')"
   ]
  },
  {
   "cell_type": "code",
   "execution_count": 3,
   "id": "cf7a54a2",
   "metadata": {},
   "outputs": [
    {
     "data": {
      "text/plain": [
       "<bound method DataFrame.info of               area_name    borough bedrooms   price  year  month\n",
       "0              Downtown  Manhattan        0  2350.0  2010      1\n",
       "1               Midtown  Manhattan        0  2000.0  2010      1\n",
       "2       Upper East Side  Manhattan        0  1750.0  2010      1\n",
       "3       Upper Manhattan  Manhattan        0  1175.0  2010      1\n",
       "4       Upper West Side  Manhattan        0  1800.0  2010      1\n",
       "...                 ...        ...      ...     ...   ...    ...\n",
       "110875  Windsor Terrace   Brooklyn   3 plus     NaN  2021      8\n",
       "110876        Woodhaven     Queens   3 plus     NaN  2021      8\n",
       "110877         Woodlawn      Bronx   3 plus     NaN  2021      8\n",
       "110878         Woodside     Queens   3 plus  2595.0  2021      8\n",
       "110879        Woodstock      Bronx   3 plus     NaN  2021      8\n",
       "\n",
       "[110880 rows x 6 columns]>"
      ]
     },
     "execution_count": 3,
     "metadata": {},
     "output_type": "execute_result"
    }
   ],
   "source": [
    "# Making sure that this dataframe is equivalent in size to the SELECT * FROM street_easy_nyc SQL query.\n",
    "\n",
    "df.info"
   ]
  },
  {
   "cell_type": "markdown",
   "id": "81335a89",
   "metadata": {},
   "source": [
    "## Adding Lat/Long Information for Each Neighborhood"
   ]
  },
  {
   "cell_type": "code",
   "execution_count": 4,
   "id": "e1a2c4ca",
   "metadata": {},
   "outputs": [],
   "source": [
    "# We need a lat/long coordinate for all of the neighborhoods in the DataFrame\n",
    "\n",
    "locations = pd.DataFrame({'neighborhood': df['area_name'].unique()})"
   ]
  },
  {
   "cell_type": "code",
   "execution_count": 5,
   "id": "1b527ff6",
   "metadata": {},
   "outputs": [],
   "source": [
    "# Adding ', New York City' will make sure we geolocate the correct neighborhood.\n",
    "\n",
    "locations['neighborhood'] = locations['neighborhood'].apply(lambda x: str(x) + ', New York City')"
   ]
  },
  {
   "cell_type": "code",
   "execution_count": 6,
   "id": "03327824",
   "metadata": {},
   "outputs": [
    {
     "data": {
      "text/html": [
       "<div>\n",
       "<style scoped>\n",
       "    .dataframe tbody tr th:only-of-type {\n",
       "        vertical-align: middle;\n",
       "    }\n",
       "\n",
       "    .dataframe tbody tr th {\n",
       "        vertical-align: top;\n",
       "    }\n",
       "\n",
       "    .dataframe thead th {\n",
       "        text-align: right;\n",
       "    }\n",
       "</style>\n",
       "<table border=\"1\" class=\"dataframe\">\n",
       "  <thead>\n",
       "    <tr style=\"text-align: right;\">\n",
       "      <th></th>\n",
       "      <th>neighborhood</th>\n",
       "    </tr>\n",
       "  </thead>\n",
       "  <tbody>\n",
       "    <tr>\n",
       "      <th>0</th>\n",
       "      <td>Downtown, New York City</td>\n",
       "    </tr>\n",
       "    <tr>\n",
       "      <th>1</th>\n",
       "      <td>Midtown, New York City</td>\n",
       "    </tr>\n",
       "    <tr>\n",
       "      <th>2</th>\n",
       "      <td>Upper East Side, New York City</td>\n",
       "    </tr>\n",
       "    <tr>\n",
       "      <th>3</th>\n",
       "      <td>Upper Manhattan, New York City</td>\n",
       "    </tr>\n",
       "    <tr>\n",
       "      <th>4</th>\n",
       "      <td>Upper West Side, New York City</td>\n",
       "    </tr>\n",
       "  </tbody>\n",
       "</table>\n",
       "</div>"
      ],
      "text/plain": [
       "                     neighborhood\n",
       "0         Downtown, New York City\n",
       "1          Midtown, New York City\n",
       "2  Upper East Side, New York City\n",
       "3  Upper Manhattan, New York City\n",
       "4  Upper West Side, New York City"
      ]
     },
     "execution_count": 6,
     "metadata": {},
     "output_type": "execute_result"
    }
   ],
   "source": [
    "# Viewing the change\n",
    "\n",
    "locations.head()"
   ]
  },
  {
   "cell_type": "code",
   "execution_count": 7,
   "id": "91f38526",
   "metadata": {},
   "outputs": [],
   "source": [
    "geolocator = Nominatim(timeout = 10, user_agent = 'my_geolocator')"
   ]
  },
  {
   "cell_type": "code",
   "execution_count": 8,
   "id": "c9dfb975",
   "metadata": {},
   "outputs": [
    {
     "data": {
      "text/plain": [
       "(40.7737016, -73.9641196)"
      ]
     },
     "execution_count": 8,
     "metadata": {},
     "output_type": "execute_result"
    }
   ],
   "source": [
    "# This is how we will get the lat/long coordinates\n",
    "\n",
    "geolocator.geocode('Upper East Side, New York City')[1]"
   ]
  },
  {
   "cell_type": "code",
   "execution_count": 9,
   "id": "e039c834",
   "metadata": {},
   "outputs": [],
   "source": [
    "lat_long = []\n",
    "\n",
    "for neighborhood in locations['neighborhood']:\n",
    "    \n",
    "    try:\n",
    "        coords = geolocator.geocode(neighborhood)[1]\n",
    "        lat_long.append(coords)\n",
    "        \n",
    "    except (TypeError, NameError):\n",
    "        lat_long.append(None)"
   ]
  },
  {
   "cell_type": "code",
   "execution_count": 10,
   "id": "f5422352",
   "metadata": {},
   "outputs": [
    {
     "name": "stdout",
     "output_type": "stream",
     "text": [
      "195\n",
      "195\n"
     ]
    }
   ],
   "source": [
    "# Making sure that lat_long and locations are the same length\n",
    "\n",
    "print (len(lat_long))\n",
    "print (len(locations))"
   ]
  },
  {
   "cell_type": "code",
   "execution_count": null,
   "id": "211747e5",
   "metadata": {},
   "outputs": [],
   "source": []
  }
 ],
 "metadata": {
  "kernelspec": {
   "display_name": "Python 3",
   "language": "python",
   "name": "python3"
  },
  "language_info": {
   "codemirror_mode": {
    "name": "ipython",
    "version": 3
   },
   "file_extension": ".py",
   "mimetype": "text/x-python",
   "name": "python",
   "nbconvert_exporter": "python",
   "pygments_lexer": "ipython3",
   "version": "3.8.10"
  }
 },
 "nbformat": 4,
 "nbformat_minor": 5
}
