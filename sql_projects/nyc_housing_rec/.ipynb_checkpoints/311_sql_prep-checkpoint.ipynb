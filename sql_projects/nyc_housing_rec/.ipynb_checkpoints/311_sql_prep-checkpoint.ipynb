{
 "cells": [
  {
   "cell_type": "code",
   "execution_count": 1,
   "id": "29bdbfb5",
   "metadata": {},
   "outputs": [],
   "source": [
    "import numpy as np\n",
    "import pandas as pd\n",
    "import os\n",
    "import sqlalchemy as sa\n",
    "\n",
    "from dotenv import load_dotenv\n",
    "\n",
    "import constants as consts"
   ]
  },
  {
   "cell_type": "code",
   "execution_count": 2,
   "id": "27b5f8c2",
   "metadata": {},
   "outputs": [
    {
     "name": "stderr",
     "output_type": "stream",
     "text": [
      "/Users/ericphillips/opt/anaconda3/lib/python3.8/site-packages/IPython/core/interactiveshell.py:3437: DtypeWarning: Columns (8) have mixed types.Specify dtype option on import or set low_memory=False.\n",
      "  exec(code_obj, self.user_global_ns, self.user_ns)\n"
     ]
    }
   ],
   "source": [
    "df = pd.read_csv(\n",
    "    '../../data/nyc_housing_rec/raw_data/311_calls.csv',\n",
    "    usecols = consts.keep_cols,\n",
    ")"
   ]
  },
  {
   "cell_type": "code",
   "execution_count": 3,
   "id": "dac0015a",
   "metadata": {},
   "outputs": [
    {
     "name": "stdout",
     "output_type": "stream",
     "text": [
      "<class 'pandas.core.frame.DataFrame'>\n",
      "RangeIndex: 2368133 entries, 0 to 2368132\n",
      "Data columns (total 8 columns):\n",
      " #   Column          Dtype  \n",
      "---  ------          -----  \n",
      " 0   Unique Key      int64  \n",
      " 1   Created Date    object \n",
      " 2   Agency          object \n",
      " 3   Complaint Type  object \n",
      " 4   Location Type   object \n",
      " 5   Incident Zip    object \n",
      " 6   Latitude        float64\n",
      " 7   Longitude       float64\n",
      "dtypes: float64(2), int64(1), object(5)\n",
      "memory usage: 144.5+ MB\n"
     ]
    }
   ],
   "source": [
    "df.info()"
   ]
  },
  {
   "cell_type": "code",
   "execution_count": 4,
   "id": "5bb945c0",
   "metadata": {},
   "outputs": [
    {
     "data": {
      "text/plain": [
       "Unique Key             0\n",
       "Created Date           0\n",
       "Agency                 0\n",
       "Complaint Type         0\n",
       "Location Type     390379\n",
       "Incident Zip       67059\n",
       "Latitude           64957\n",
       "Longitude          64957\n",
       "dtype: int64"
      ]
     },
     "execution_count": 4,
     "metadata": {},
     "output_type": "execute_result"
    }
   ],
   "source": [
    "# Check the NA vaules for each column\n",
    "\n",
    "df.isna().sum()"
   ]
  },
  {
   "cell_type": "code",
   "execution_count": 5,
   "id": "38363cc2",
   "metadata": {},
   "outputs": [],
   "source": [
    "# Convert the Incident Zip column to Int32\n",
    "\n",
    "def to_ints(series):\n",
    "  a = pd.to_numeric(series, errors = 'coerce')\n",
    "\n",
    "  try:\n",
    "    return a.astype('Int32')\n",
    "\n",
    "  except ValueError:\n",
    "    return a\n",
    "\n",
    "df['Incident Zip'] = to_ints(df['Incident Zip'])"
   ]
  },
  {
   "cell_type": "code",
   "execution_count": 6,
   "id": "1946ad79",
   "metadata": {},
   "outputs": [
    {
     "data": {
      "text/plain": [
       "False    2301073\n",
       "True       67060\n",
       "Name: Incident Zip, dtype: int64"
      ]
     },
     "execution_count": 6,
     "metadata": {},
     "output_type": "execute_result"
    }
   ],
   "source": [
    "df['Incident Zip'].isna().value_counts()"
   ]
  },
  {
   "cell_type": "code",
   "execution_count": 7,
   "id": "420a86e2",
   "metadata": {},
   "outputs": [
    {
     "data": {
      "text/plain": [
       "Unique Key                          48544884\n",
       "Created Date          01/01/2021 12:00:00 AM\n",
       "Agency                                 DOHMH\n",
       "Complaint Type                Food Poisoning\n",
       "Location Type     Restaurant/Bar/Deli/Bakery\n",
       "Incident Zip                           11209\n",
       "Latitude                           40.619073\n",
       "Longitude                         -74.032865\n",
       "Name: 0, dtype: object"
      ]
     },
     "execution_count": 7,
     "metadata": {},
     "output_type": "execute_result"
    }
   ],
   "source": [
    "df.iloc[0]"
   ]
  },
  {
   "cell_type": "code",
   "execution_count": 8,
   "id": "2c7e32da",
   "metadata": {},
   "outputs": [
    {
     "data": {
      "text/plain": [
       "'12:00:00 AM'"
      ]
     },
     "execution_count": 8,
     "metadata": {},
     "output_type": "execute_result"
    }
   ],
   "source": [
    "# This is how we will index the time\n",
    "\n",
    "df.loc[0, 'Created Date'][11:]"
   ]
  },
  {
   "cell_type": "code",
   "execution_count": 9,
   "id": "619e2e4c",
   "metadata": {},
   "outputs": [
    {
     "data": {
      "text/plain": [
       "'01/01/2021'"
      ]
     },
     "execution_count": 9,
     "metadata": {},
     "output_type": "execute_result"
    }
   ],
   "source": [
    "# This is how we will index the date\n",
    "\n",
    "df.iloc[0]['Created Date'][:10]"
   ]
  },
  {
   "cell_type": "code",
   "execution_count": 10,
   "id": "62daf9e3",
   "metadata": {},
   "outputs": [],
   "source": [
    "# Creates a new column of the time\n",
    "\n",
    "df['Created Time'] = df['Created Date'].str[11:]"
   ]
  },
  {
   "cell_type": "code",
   "execution_count": 11,
   "id": "8e7e92d1",
   "metadata": {},
   "outputs": [],
   "source": [
    "# Removes the time information from the Created Date\n",
    "\n",
    "df['Created Date'] = df['Created Date'].str[:10]"
   ]
  },
  {
   "cell_type": "code",
   "execution_count": 12,
   "id": "a51f6ced",
   "metadata": {},
   "outputs": [],
   "source": [
    "# Replace all NaN values with None.\n",
    "# This will help with created the table with sqlalchemy\n",
    "\n",
    "df = df.replace({np.nan: None})"
   ]
  },
  {
   "cell_type": "code",
   "execution_count": 13,
   "id": "296555d6",
   "metadata": {},
   "outputs": [],
   "source": [
    "reorder = [\n",
    " 'Unique Key',\n",
    " 'Created Date',\n",
    " 'Created Time',   \n",
    " 'Agency',\n",
    " 'Complaint Type',\n",
    " 'Location Type',\n",
    " 'Incident Zip',\n",
    " 'Latitude',\n",
    " 'Longitude',\n",
    "]\n",
    "\n",
    "df = df[reorder]"
   ]
  },
  {
   "cell_type": "code",
   "execution_count": 14,
   "id": "f66a7e12",
   "metadata": {},
   "outputs": [
    {
     "name": "stdout",
     "output_type": "stream",
     "text": [
      "<class 'pandas.core.frame.DataFrame'>\n",
      "RangeIndex: 2368133 entries, 0 to 2368132\n",
      "Data columns (total 9 columns):\n",
      " #   Column          Dtype \n",
      "---  ------          ----- \n",
      " 0   Unique Key      int64 \n",
      " 1   Created Date    object\n",
      " 2   Created Time    object\n",
      " 3   Agency          object\n",
      " 4   Complaint Type  object\n",
      " 5   Location Type   object\n",
      " 6   Incident Zip    object\n",
      " 7   Latitude        object\n",
      " 8   Longitude       object\n",
      "dtypes: int64(1), object(8)\n",
      "memory usage: 162.6+ MB\n"
     ]
    }
   ],
   "source": [
    "df.info()"
   ]
  },
  {
   "cell_type": "code",
   "execution_count": 15,
   "id": "d828f051",
   "metadata": {},
   "outputs": [],
   "source": [
    "# Rename the columns for easier querying\n",
    "\n",
    "df.columns = consts.new_col_values"
   ]
  },
  {
   "cell_type": "code",
   "execution_count": 16,
   "id": "c185411e",
   "metadata": {},
   "outputs": [
    {
     "name": "stdout",
     "output_type": "stream",
     "text": [
      "<class 'pandas.core.frame.DataFrame'>\n",
      "RangeIndex: 2368133 entries, 0 to 2368132\n",
      "Data columns (total 9 columns):\n",
      " #   Column          Dtype \n",
      "---  ------          ----- \n",
      " 0   unique_key      int64 \n",
      " 1   created_date    object\n",
      " 2   created_time    object\n",
      " 3   agency          object\n",
      " 4   complaint_type  object\n",
      " 5   location_type   object\n",
      " 6   incident_zip    object\n",
      " 7   latitude        object\n",
      " 8   longitude       object\n",
      "dtypes: int64(1), object(8)\n",
      "memory usage: 162.6+ MB\n"
     ]
    }
   ],
   "source": [
    "df.info()"
   ]
  },
  {
   "cell_type": "code",
   "execution_count": 18,
   "id": "8fddd0a0",
   "metadata": {},
   "outputs": [],
   "source": [
    "# Will need to assign primary key in PGAdmin.\n",
    "\n",
    "load_dotenv()\n",
    "\n",
    "engine = sa.create_engine(os.getenv('ENGINE'))\n",
    "\n",
    "df.to_sql(\n",
    "    'calls_311',\n",
    "    engine,\n",
    "    if_exists = 'replace', # This will drop the table if it already exists. Delete this line if necessary.\n",
    "    index = False,\n",
    "    dtype = {\n",
    "        'unique_key': sa.types.INTEGER(),\n",
    "        'created_date': sa.types.Date(),\n",
    "        'created_time': sa.types.Time(),\n",
    "        'agency': sa.types.Text(),\n",
    "        'complaint_type': sa.types.Text(),\n",
    "        'incident_zip': sa.types.INTEGER(),\n",
    "        'latitude': sa.types.FLOAT(),\n",
    "        'longitude': sa.types.FLOAT()\n",
    "    }\n",
    ")"
   ]
  },
  {
   "cell_type": "code",
   "execution_count": null,
   "id": "d535d58f",
   "metadata": {},
   "outputs": [],
   "source": []
  }
 ],
 "metadata": {
  "kernelspec": {
   "display_name": "Python 3",
   "language": "python",
   "name": "python3"
  },
  "language_info": {
   "codemirror_mode": {
    "name": "ipython",
    "version": 3
   },
   "file_extension": ".py",
   "mimetype": "text/x-python",
   "name": "python",
   "nbconvert_exporter": "python",
   "pygments_lexer": "ipython3",
   "version": "3.8.10"
  }
 },
 "nbformat": 4,
 "nbformat_minor": 5
}
